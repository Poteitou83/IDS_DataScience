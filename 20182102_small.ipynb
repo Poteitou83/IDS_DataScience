{
 "cells": [
  {
   "cell_type": "code",
   "execution_count": null,
   "metadata": {},
   "outputs": [],
   "source": [
    "import warnings\n",
    "warnings.filterwarnings(\"ignore\")"
   ]
  },
  {
   "cell_type": "code",
   "execution_count": 1,
   "metadata": {},
   "outputs": [],
   "source": [
    "import numpy as np\n",
    "import pandas as pd\n",
    "import seaborn as sns\n",
    "import matplotlib.pyplot as plt\n",
    "from sklearn.preprocessing import LabelEncoder\n",
    "from sklearn.model_selection import train_test_split\n",
    "from sklearn.metrics import classification_report,confusion_matrix,accuracy_score,precision_recall_fscore_support\n",
    "from sklearn.metrics import f1_score,roc_auc_score\n",
    "from sklearn.ensemble import RandomForestClassifier,ExtraTreesClassifier\n",
    "from sklearn.tree import DecisionTreeClassifier\n",
    "import xgboost as xgb\n",
    "from xgboost import plot_importance"
   ]
  },
  {
   "cell_type": "code",
   "execution_count": 2,
   "metadata": {},
   "outputs": [],
   "source": [
    "#Read dataset\n",
    "df = pd.read_csv('./20180221/02-21-2018_small.csv') \n"
   ]
  },
  {
   "cell_type": "code",
   "execution_count": 3,
   "metadata": {},
   "outputs": [
    {
     "data": {
      "text/html": [
       "<div>\n",
       "<style scoped>\n",
       "    .dataframe tbody tr th:only-of-type {\n",
       "        vertical-align: middle;\n",
       "    }\n",
       "\n",
       "    .dataframe tbody tr th {\n",
       "        vertical-align: top;\n",
       "    }\n",
       "\n",
       "    .dataframe thead th {\n",
       "        text-align: right;\n",
       "    }\n",
       "</style>\n",
       "<table border=\"1\" class=\"dataframe\">\n",
       "  <thead>\n",
       "    <tr style=\"text-align: right;\">\n",
       "      <th></th>\n",
       "      <th>Dst Port</th>\n",
       "      <th>Protocol</th>\n",
       "      <th>Timestamp</th>\n",
       "      <th>Flow Duration</th>\n",
       "      <th>Tot Fwd Pkts</th>\n",
       "      <th>Tot Bwd Pkts</th>\n",
       "      <th>TotLen Fwd Pkts</th>\n",
       "      <th>TotLen Bwd Pkts</th>\n",
       "      <th>Fwd Pkt Len Max</th>\n",
       "      <th>Fwd Pkt Len Min</th>\n",
       "      <th>...</th>\n",
       "      <th>Fwd Seg Size Min</th>\n",
       "      <th>Active Mean</th>\n",
       "      <th>Active Std</th>\n",
       "      <th>Active Max</th>\n",
       "      <th>Active Min</th>\n",
       "      <th>Idle Mean</th>\n",
       "      <th>Idle Std</th>\n",
       "      <th>Idle Max</th>\n",
       "      <th>Idle Min</th>\n",
       "      <th>Label</th>\n",
       "    </tr>\n",
       "  </thead>\n",
       "  <tbody>\n",
       "    <tr>\n",
       "      <th>0</th>\n",
       "      <td>80</td>\n",
       "      <td>17</td>\n",
       "      <td>21/02/2018 10:08:51</td>\n",
       "      <td>119893441</td>\n",
       "      <td>309629</td>\n",
       "      <td>0</td>\n",
       "      <td>9908128</td>\n",
       "      <td>0</td>\n",
       "      <td>32</td>\n",
       "      <td>32</td>\n",
       "      <td>...</td>\n",
       "      <td>8</td>\n",
       "      <td>0.0</td>\n",
       "      <td>0.0</td>\n",
       "      <td>0</td>\n",
       "      <td>0</td>\n",
       "      <td>0.0</td>\n",
       "      <td>0.0</td>\n",
       "      <td>0</td>\n",
       "      <td>0</td>\n",
       "      <td>DDOS attack-LOIC-UDP</td>\n",
       "    </tr>\n",
       "    <tr>\n",
       "      <th>1</th>\n",
       "      <td>80</td>\n",
       "      <td>17</td>\n",
       "      <td>21/02/2018 10:08:52</td>\n",
       "      <td>119745803</td>\n",
       "      <td>259444</td>\n",
       "      <td>0</td>\n",
       "      <td>8302208</td>\n",
       "      <td>0</td>\n",
       "      <td>32</td>\n",
       "      <td>32</td>\n",
       "      <td>...</td>\n",
       "      <td>8</td>\n",
       "      <td>0.0</td>\n",
       "      <td>0.0</td>\n",
       "      <td>0</td>\n",
       "      <td>0</td>\n",
       "      <td>0.0</td>\n",
       "      <td>0.0</td>\n",
       "      <td>0</td>\n",
       "      <td>0</td>\n",
       "      <td>DDOS attack-LOIC-UDP</td>\n",
       "    </tr>\n",
       "    <tr>\n",
       "      <th>2</th>\n",
       "      <td>80</td>\n",
       "      <td>17</td>\n",
       "      <td>21/02/2018 10:08:53</td>\n",
       "      <td>119965025</td>\n",
       "      <td>248800</td>\n",
       "      <td>0</td>\n",
       "      <td>7961600</td>\n",
       "      <td>0</td>\n",
       "      <td>32</td>\n",
       "      <td>32</td>\n",
       "      <td>...</td>\n",
       "      <td>8</td>\n",
       "      <td>0.0</td>\n",
       "      <td>0.0</td>\n",
       "      <td>0</td>\n",
       "      <td>0</td>\n",
       "      <td>0.0</td>\n",
       "      <td>0.0</td>\n",
       "      <td>0</td>\n",
       "      <td>0</td>\n",
       "      <td>DDOS attack-LOIC-UDP</td>\n",
       "    </tr>\n",
       "    <tr>\n",
       "      <th>3</th>\n",
       "      <td>80</td>\n",
       "      <td>17</td>\n",
       "      <td>21/02/2018 10:08:54</td>\n",
       "      <td>119999991</td>\n",
       "      <td>272337</td>\n",
       "      <td>0</td>\n",
       "      <td>8714784</td>\n",
       "      <td>0</td>\n",
       "      <td>32</td>\n",
       "      <td>32</td>\n",
       "      <td>...</td>\n",
       "      <td>8</td>\n",
       "      <td>0.0</td>\n",
       "      <td>0.0</td>\n",
       "      <td>0</td>\n",
       "      <td>0</td>\n",
       "      <td>0.0</td>\n",
       "      <td>0.0</td>\n",
       "      <td>0</td>\n",
       "      <td>0</td>\n",
       "      <td>DDOS attack-LOIC-UDP</td>\n",
       "    </tr>\n",
       "    <tr>\n",
       "      <th>4</th>\n",
       "      <td>80</td>\n",
       "      <td>17</td>\n",
       "      <td>21/02/2018 10:08:54</td>\n",
       "      <td>119820553</td>\n",
       "      <td>219539</td>\n",
       "      <td>0</td>\n",
       "      <td>7025248</td>\n",
       "      <td>0</td>\n",
       "      <td>32</td>\n",
       "      <td>32</td>\n",
       "      <td>...</td>\n",
       "      <td>8</td>\n",
       "      <td>0.0</td>\n",
       "      <td>0.0</td>\n",
       "      <td>0</td>\n",
       "      <td>0</td>\n",
       "      <td>0.0</td>\n",
       "      <td>0.0</td>\n",
       "      <td>0</td>\n",
       "      <td>0</td>\n",
       "      <td>DDOS attack-LOIC-UDP</td>\n",
       "    </tr>\n",
       "    <tr>\n",
       "      <th>...</th>\n",
       "      <td>...</td>\n",
       "      <td>...</td>\n",
       "      <td>...</td>\n",
       "      <td>...</td>\n",
       "      <td>...</td>\n",
       "      <td>...</td>\n",
       "      <td>...</td>\n",
       "      <td>...</td>\n",
       "      <td>...</td>\n",
       "      <td>...</td>\n",
       "      <td>...</td>\n",
       "      <td>...</td>\n",
       "      <td>...</td>\n",
       "      <td>...</td>\n",
       "      <td>...</td>\n",
       "      <td>...</td>\n",
       "      <td>...</td>\n",
       "      <td>...</td>\n",
       "      <td>...</td>\n",
       "      <td>...</td>\n",
       "      <td>...</td>\n",
       "    </tr>\n",
       "    <tr>\n",
       "      <th>9994</th>\n",
       "      <td>80</td>\n",
       "      <td>6</td>\n",
       "      <td>21/02/2018 02:30:37</td>\n",
       "      <td>715</td>\n",
       "      <td>2</td>\n",
       "      <td>0</td>\n",
       "      <td>0</td>\n",
       "      <td>0</td>\n",
       "      <td>0</td>\n",
       "      <td>0</td>\n",
       "      <td>...</td>\n",
       "      <td>20</td>\n",
       "      <td>0.0</td>\n",
       "      <td>0.0</td>\n",
       "      <td>0</td>\n",
       "      <td>0</td>\n",
       "      <td>0.0</td>\n",
       "      <td>0.0</td>\n",
       "      <td>0</td>\n",
       "      <td>0</td>\n",
       "      <td>DDOS attack-HOIC</td>\n",
       "    </tr>\n",
       "    <tr>\n",
       "      <th>9995</th>\n",
       "      <td>80</td>\n",
       "      <td>6</td>\n",
       "      <td>21/02/2018 02:24:17</td>\n",
       "      <td>4329</td>\n",
       "      <td>2</td>\n",
       "      <td>0</td>\n",
       "      <td>0</td>\n",
       "      <td>0</td>\n",
       "      <td>0</td>\n",
       "      <td>0</td>\n",
       "      <td>...</td>\n",
       "      <td>20</td>\n",
       "      <td>0.0</td>\n",
       "      <td>0.0</td>\n",
       "      <td>0</td>\n",
       "      <td>0</td>\n",
       "      <td>0.0</td>\n",
       "      <td>0.0</td>\n",
       "      <td>0</td>\n",
       "      <td>0</td>\n",
       "      <td>DDOS attack-HOIC</td>\n",
       "    </tr>\n",
       "    <tr>\n",
       "      <th>9996</th>\n",
       "      <td>80</td>\n",
       "      <td>6</td>\n",
       "      <td>21/02/2018 02:13:00</td>\n",
       "      <td>14454</td>\n",
       "      <td>2</td>\n",
       "      <td>0</td>\n",
       "      <td>0</td>\n",
       "      <td>0</td>\n",
       "      <td>0</td>\n",
       "      <td>0</td>\n",
       "      <td>...</td>\n",
       "      <td>20</td>\n",
       "      <td>0.0</td>\n",
       "      <td>0.0</td>\n",
       "      <td>0</td>\n",
       "      <td>0</td>\n",
       "      <td>0.0</td>\n",
       "      <td>0.0</td>\n",
       "      <td>0</td>\n",
       "      <td>0</td>\n",
       "      <td>DDOS attack-HOIC</td>\n",
       "    </tr>\n",
       "    <tr>\n",
       "      <th>9997</th>\n",
       "      <td>80</td>\n",
       "      <td>6</td>\n",
       "      <td>21/02/2018 02:17:14</td>\n",
       "      <td>2880</td>\n",
       "      <td>3</td>\n",
       "      <td>4</td>\n",
       "      <td>249</td>\n",
       "      <td>935</td>\n",
       "      <td>249</td>\n",
       "      <td>0</td>\n",
       "      <td>...</td>\n",
       "      <td>20</td>\n",
       "      <td>0.0</td>\n",
       "      <td>0.0</td>\n",
       "      <td>0</td>\n",
       "      <td>0</td>\n",
       "      <td>0.0</td>\n",
       "      <td>0.0</td>\n",
       "      <td>0</td>\n",
       "      <td>0</td>\n",
       "      <td>DDOS attack-HOIC</td>\n",
       "    </tr>\n",
       "    <tr>\n",
       "      <th>9998</th>\n",
       "      <td>80</td>\n",
       "      <td>6</td>\n",
       "      <td>21/02/2018 02:16:03</td>\n",
       "      <td>9718</td>\n",
       "      <td>2</td>\n",
       "      <td>0</td>\n",
       "      <td>0</td>\n",
       "      <td>0</td>\n",
       "      <td>0</td>\n",
       "      <td>0</td>\n",
       "      <td>...</td>\n",
       "      <td>20</td>\n",
       "      <td>0.0</td>\n",
       "      <td>0.0</td>\n",
       "      <td>0</td>\n",
       "      <td>0</td>\n",
       "      <td>0.0</td>\n",
       "      <td>0.0</td>\n",
       "      <td>0</td>\n",
       "      <td>0</td>\n",
       "      <td>DDOS attack-HOIC</td>\n",
       "    </tr>\n",
       "  </tbody>\n",
       "</table>\n",
       "<p>9999 rows × 80 columns</p>\n",
       "</div>"
      ],
      "text/plain": [
       "      Dst Port  Protocol            Timestamp  Flow Duration  Tot Fwd Pkts  \\\n",
       "0           80        17  21/02/2018 10:08:51      119893441        309629   \n",
       "1           80        17  21/02/2018 10:08:52      119745803        259444   \n",
       "2           80        17  21/02/2018 10:08:53      119965025        248800   \n",
       "3           80        17  21/02/2018 10:08:54      119999991        272337   \n",
       "4           80        17  21/02/2018 10:08:54      119820553        219539   \n",
       "...        ...       ...                  ...            ...           ...   \n",
       "9994        80         6  21/02/2018 02:30:37            715             2   \n",
       "9995        80         6  21/02/2018 02:24:17           4329             2   \n",
       "9996        80         6  21/02/2018 02:13:00          14454             2   \n",
       "9997        80         6  21/02/2018 02:17:14           2880             3   \n",
       "9998        80         6  21/02/2018 02:16:03           9718             2   \n",
       "\n",
       "      Tot Bwd Pkts  TotLen Fwd Pkts  TotLen Bwd Pkts  Fwd Pkt Len Max  \\\n",
       "0                0          9908128                0               32   \n",
       "1                0          8302208                0               32   \n",
       "2                0          7961600                0               32   \n",
       "3                0          8714784                0               32   \n",
       "4                0          7025248                0               32   \n",
       "...            ...              ...              ...              ...   \n",
       "9994             0                0                0                0   \n",
       "9995             0                0                0                0   \n",
       "9996             0                0                0                0   \n",
       "9997             4              249              935              249   \n",
       "9998             0                0                0                0   \n",
       "\n",
       "      Fwd Pkt Len Min  ...  Fwd Seg Size Min  Active Mean  Active Std  \\\n",
       "0                  32  ...                 8          0.0         0.0   \n",
       "1                  32  ...                 8          0.0         0.0   \n",
       "2                  32  ...                 8          0.0         0.0   \n",
       "3                  32  ...                 8          0.0         0.0   \n",
       "4                  32  ...                 8          0.0         0.0   \n",
       "...               ...  ...               ...          ...         ...   \n",
       "9994                0  ...                20          0.0         0.0   \n",
       "9995                0  ...                20          0.0         0.0   \n",
       "9996                0  ...                20          0.0         0.0   \n",
       "9997                0  ...                20          0.0         0.0   \n",
       "9998                0  ...                20          0.0         0.0   \n",
       "\n",
       "      Active Max  Active Min  Idle Mean  Idle Std  Idle Max  Idle Min  \\\n",
       "0              0           0        0.0       0.0         0         0   \n",
       "1              0           0        0.0       0.0         0         0   \n",
       "2              0           0        0.0       0.0         0         0   \n",
       "3              0           0        0.0       0.0         0         0   \n",
       "4              0           0        0.0       0.0         0         0   \n",
       "...          ...         ...        ...       ...       ...       ...   \n",
       "9994           0           0        0.0       0.0         0         0   \n",
       "9995           0           0        0.0       0.0         0         0   \n",
       "9996           0           0        0.0       0.0         0         0   \n",
       "9997           0           0        0.0       0.0         0         0   \n",
       "9998           0           0        0.0       0.0         0         0   \n",
       "\n",
       "                     Label  \n",
       "0     DDOS attack-LOIC-UDP  \n",
       "1     DDOS attack-LOIC-UDP  \n",
       "2     DDOS attack-LOIC-UDP  \n",
       "3     DDOS attack-LOIC-UDP  \n",
       "4     DDOS attack-LOIC-UDP  \n",
       "...                    ...  \n",
       "9994      DDOS attack-HOIC  \n",
       "9995      DDOS attack-HOIC  \n",
       "9996      DDOS attack-HOIC  \n",
       "9997      DDOS attack-HOIC  \n",
       "9998      DDOS attack-HOIC  \n",
       "\n",
       "[9999 rows x 80 columns]"
      ]
     },
     "execution_count": 3,
     "metadata": {},
     "output_type": "execute_result"
    }
   ],
   "source": [
    "df"
   ]
  },
  {
   "cell_type": "code",
   "execution_count": 4,
   "metadata": {},
   "outputs": [
    {
     "data": {
      "text/plain": [
       "Label\n",
       "DDOS attack-HOIC        5419\n",
       "Benign                  2850\n",
       "DDOS attack-LOIC-UDP    1730\n",
       "Name: count, dtype: int64"
      ]
     },
     "execution_count": 4,
     "metadata": {},
     "output_type": "execute_result"
    }
   ],
   "source": [
    "df.Label.value_counts()"
   ]
  },
  {
   "cell_type": "code",
   "execution_count": 5,
   "metadata": {},
   "outputs": [
    {
     "data": {
      "text/plain": [
       "Dst Port           int64\n",
       "Protocol           int64\n",
       "Timestamp         object\n",
       "Flow Duration      int64\n",
       "Tot Fwd Pkts       int64\n",
       "                  ...   \n",
       "Idle Mean        float64\n",
       "Idle Std         float64\n",
       "Idle Max           int64\n",
       "Idle Min           int64\n",
       "Label             object\n",
       "Length: 80, dtype: object"
      ]
     },
     "execution_count": 5,
     "metadata": {},
     "output_type": "execute_result"
    }
   ],
   "source": [
    "df.dtypes"
   ]
  },
  {
   "cell_type": "markdown",
   "metadata": {},
   "source": [
    "### Preprocessing (normalization and padding values)"
   ]
  },
  {
   "cell_type": "code",
   "execution_count": 6,
   "metadata": {},
   "outputs": [],
   "source": [
    "# Z-score normalization\n",
    "features = df.dtypes[df.dtypes != 'object'].index\n",
    "df[features] = df[features].apply(\n",
    "    lambda x: (x - x.mean()) / (x.std()))\n",
    "# Fill empty values by 0\n",
    "df = df.fillna(0)"
   ]
  },
  {
   "cell_type": "code",
   "execution_count": 7,
   "metadata": {},
   "outputs": [],
   "source": [
    "df = df.drop(columns=['Timestamp'])"
   ]
  },
  {
   "cell_type": "code",
   "execution_count": 8,
   "metadata": {},
   "outputs": [
    {
     "data": {
      "text/plain": [
       "Index(['Dst Port', 'Protocol', 'Flow Duration', 'Tot Fwd Pkts', 'Tot Bwd Pkts',\n",
       "       'TotLen Fwd Pkts', 'TotLen Bwd Pkts', 'Fwd Pkt Len Max',\n",
       "       'Fwd Pkt Len Min', 'Fwd Pkt Len Mean', 'Fwd Pkt Len Std',\n",
       "       'Bwd Pkt Len Max', 'Bwd Pkt Len Min', 'Bwd Pkt Len Mean',\n",
       "       'Bwd Pkt Len Std', 'Flow Byts/s', 'Flow Pkts/s', 'Flow IAT Mean',\n",
       "       'Flow IAT Std', 'Flow IAT Max', 'Flow IAT Min', 'Fwd IAT Tot',\n",
       "       'Fwd IAT Mean', 'Fwd IAT Std', 'Fwd IAT Max', 'Fwd IAT Min',\n",
       "       'Bwd IAT Tot', 'Bwd IAT Mean', 'Bwd IAT Std', 'Bwd IAT Max',\n",
       "       'Bwd IAT Min', 'Fwd PSH Flags', 'Bwd PSH Flags', 'Fwd URG Flags',\n",
       "       'Bwd URG Flags', 'Fwd Header Len', 'Bwd Header Len', 'Fwd Pkts/s',\n",
       "       'Bwd Pkts/s', 'Pkt Len Min', 'Pkt Len Max', 'Pkt Len Mean',\n",
       "       'Pkt Len Std', 'Pkt Len Var', 'FIN Flag Cnt', 'SYN Flag Cnt',\n",
       "       'RST Flag Cnt', 'PSH Flag Cnt', 'ACK Flag Cnt', 'URG Flag Cnt',\n",
       "       'CWE Flag Count', 'ECE Flag Cnt', 'Down/Up Ratio', 'Pkt Size Avg',\n",
       "       'Fwd Seg Size Avg', 'Bwd Seg Size Avg', 'Fwd Byts/b Avg',\n",
       "       'Fwd Pkts/b Avg', 'Fwd Blk Rate Avg', 'Bwd Byts/b Avg',\n",
       "       'Bwd Pkts/b Avg', 'Bwd Blk Rate Avg', 'Subflow Fwd Pkts',\n",
       "       'Subflow Fwd Byts', 'Subflow Bwd Pkts', 'Subflow Bwd Byts',\n",
       "       'Init Fwd Win Byts', 'Init Bwd Win Byts', 'Fwd Act Data Pkts',\n",
       "       'Fwd Seg Size Min', 'Active Mean', 'Active Std', 'Active Max',\n",
       "       'Active Min', 'Idle Mean', 'Idle Std', 'Idle Max', 'Idle Min'],\n",
       "      dtype='object')"
      ]
     },
     "execution_count": 8,
     "metadata": {},
     "output_type": "execute_result"
    }
   ],
   "source": [
    "features"
   ]
  },
  {
   "cell_type": "markdown",
   "metadata": {},
   "source": [
    "### Data sampling\n",
    "Due to the space limit of GitHub files and the large size of network traffic data, we sample a small-sized subset for model learning using **k-means cluster sampling**"
   ]
  },
  {
   "cell_type": "code",
   "execution_count": 9,
   "metadata": {},
   "outputs": [],
   "source": [
    "labelencoder = LabelEncoder()\n",
    "df.iloc[:, -1] = labelencoder.fit_transform(df.iloc[:, -1])"
   ]
  },
  {
   "cell_type": "code",
   "execution_count": 10,
   "metadata": {},
   "outputs": [
    {
     "data": {
      "text/plain": [
       "Label\n",
       "1    5419\n",
       "0    2850\n",
       "2    1730\n",
       "Name: count, dtype: int64"
      ]
     },
     "execution_count": 10,
     "metadata": {},
     "output_type": "execute_result"
    }
   ],
   "source": [
    "df.Label.value_counts()"
   ]
  },
  {
   "cell_type": "code",
   "execution_count": 11,
   "metadata": {},
   "outputs": [],
   "source": [
    "# retain the minority class instances and sample the majority class instances\n",
    "df_minor = df[(df['Label']==2)]\n",
    "df_major = df.drop(df_minor.index)"
   ]
  },
  {
   "cell_type": "code",
   "execution_count": 12,
   "metadata": {},
   "outputs": [],
   "source": [
    "X = df_major.drop(['Label'],axis=1) \n",
    "y = df_major.iloc[:, -1].values.reshape(-1,1)\n",
    "y=np.ravel(y)"
   ]
  },
  {
   "cell_type": "code",
   "execution_count": 13,
   "metadata": {},
   "outputs": [],
   "source": [
    "# use k-means to cluster the data samples and select a proportion of data from each cluster\n",
    "from sklearn.cluster import MiniBatchKMeans\n",
    "kmeans = MiniBatchKMeans(n_clusters=100, random_state=0).fit(X)"
   ]
  },
  {
   "cell_type": "code",
   "execution_count": 14,
   "metadata": {},
   "outputs": [],
   "source": [
    "klabel=kmeans.labels_\n",
    "df_major['klabel']=klabel"
   ]
  },
  {
   "cell_type": "code",
   "execution_count": 15,
   "metadata": {},
   "outputs": [
    {
     "data": {
      "text/plain": [
       "klabel\n",
       "77    704\n",
       "24    623\n",
       "14    363\n",
       "43    358\n",
       "0     334\n",
       "     ... \n",
       "41     17\n",
       "89     15\n",
       "45     12\n",
       "57      4\n",
       "95      1\n",
       "Name: count, Length: 100, dtype: int64"
      ]
     },
     "execution_count": 15,
     "metadata": {},
     "output_type": "execute_result"
    }
   ],
   "source": [
    "df_major['klabel'].value_counts()"
   ]
  },
  {
   "cell_type": "code",
   "execution_count": 16,
   "metadata": {},
   "outputs": [],
   "source": [
    "cols = list(df_major)\n",
    "cols.insert(80, cols.pop(cols.index('Label')))\n",
    "df_major = df_major.loc[:, cols]"
   ]
  },
  {
   "cell_type": "code",
   "execution_count": 17,
   "metadata": {},
   "outputs": [
    {
     "data": {
      "text/html": [
       "<div>\n",
       "<style scoped>\n",
       "    .dataframe tbody tr th:only-of-type {\n",
       "        vertical-align: middle;\n",
       "    }\n",
       "\n",
       "    .dataframe tbody tr th {\n",
       "        vertical-align: top;\n",
       "    }\n",
       "\n",
       "    .dataframe thead th {\n",
       "        text-align: right;\n",
       "    }\n",
       "</style>\n",
       "<table border=\"1\" class=\"dataframe\">\n",
       "  <thead>\n",
       "    <tr style=\"text-align: right;\">\n",
       "      <th></th>\n",
       "      <th>Dst Port</th>\n",
       "      <th>Protocol</th>\n",
       "      <th>Flow Duration</th>\n",
       "      <th>Tot Fwd Pkts</th>\n",
       "      <th>Tot Bwd Pkts</th>\n",
       "      <th>TotLen Fwd Pkts</th>\n",
       "      <th>TotLen Bwd Pkts</th>\n",
       "      <th>Fwd Pkt Len Max</th>\n",
       "      <th>Fwd Pkt Len Min</th>\n",
       "      <th>Fwd Pkt Len Mean</th>\n",
       "      <th>...</th>\n",
       "      <th>Active Mean</th>\n",
       "      <th>Active Std</th>\n",
       "      <th>Active Max</th>\n",
       "      <th>Active Min</th>\n",
       "      <th>Idle Mean</th>\n",
       "      <th>Idle Std</th>\n",
       "      <th>Idle Max</th>\n",
       "      <th>Idle Min</th>\n",
       "      <th>klabel</th>\n",
       "      <th>Label</th>\n",
       "    </tr>\n",
       "  </thead>\n",
       "  <tbody>\n",
       "    <tr>\n",
       "      <th>1730</th>\n",
       "      <td>1.445141</td>\n",
       "      <td>-0.459748</td>\n",
       "      <td>-0.455357</td>\n",
       "      <td>-0.442087</td>\n",
       "      <td>0.665386</td>\n",
       "      <td>-0.441737</td>\n",
       "      <td>0.295182</td>\n",
       "      <td>1.550735</td>\n",
       "      <td>-0.460412</td>\n",
       "      <td>1.465980</td>\n",
       "      <td>...</td>\n",
       "      <td>-0.036154</td>\n",
       "      <td>-0.027078</td>\n",
       "      <td>-0.03512</td>\n",
       "      <td>-0.033308</td>\n",
       "      <td>-0.03663</td>\n",
       "      <td>-0.042176</td>\n",
       "      <td>-0.043399</td>\n",
       "      <td>-0.028144</td>\n",
       "      <td>66</td>\n",
       "      <td>0</td>\n",
       "    </tr>\n",
       "    <tr>\n",
       "      <th>1731</th>\n",
       "      <td>1.753132</td>\n",
       "      <td>-0.459748</td>\n",
       "      <td>-0.455364</td>\n",
       "      <td>-0.442087</td>\n",
       "      <td>0.665386</td>\n",
       "      <td>-0.441737</td>\n",
       "      <td>0.442026</td>\n",
       "      <td>1.550735</td>\n",
       "      <td>-0.460412</td>\n",
       "      <td>1.465980</td>\n",
       "      <td>...</td>\n",
       "      <td>-0.036154</td>\n",
       "      <td>-0.027078</td>\n",
       "      <td>-0.03512</td>\n",
       "      <td>-0.033308</td>\n",
       "      <td>-0.03663</td>\n",
       "      <td>-0.042176</td>\n",
       "      <td>-0.043399</td>\n",
       "      <td>-0.028144</td>\n",
       "      <td>51</td>\n",
       "      <td>0</td>\n",
       "    </tr>\n",
       "    <tr>\n",
       "      <th>1732</th>\n",
       "      <td>1.597544</td>\n",
       "      <td>-0.459748</td>\n",
       "      <td>-0.455367</td>\n",
       "      <td>-0.442087</td>\n",
       "      <td>0.665386</td>\n",
       "      <td>-0.441737</td>\n",
       "      <td>0.194023</td>\n",
       "      <td>1.550735</td>\n",
       "      <td>-0.460412</td>\n",
       "      <td>1.465980</td>\n",
       "      <td>...</td>\n",
       "      <td>-0.036154</td>\n",
       "      <td>-0.027078</td>\n",
       "      <td>-0.03512</td>\n",
       "      <td>-0.033308</td>\n",
       "      <td>-0.03663</td>\n",
       "      <td>-0.042176</td>\n",
       "      <td>-0.043399</td>\n",
       "      <td>-0.028144</td>\n",
       "      <td>31</td>\n",
       "      <td>0</td>\n",
       "    </tr>\n",
       "    <tr>\n",
       "      <th>1733</th>\n",
       "      <td>1.356760</td>\n",
       "      <td>-0.459748</td>\n",
       "      <td>-0.455362</td>\n",
       "      <td>-0.442087</td>\n",
       "      <td>0.665386</td>\n",
       "      <td>-0.441737</td>\n",
       "      <td>0.161392</td>\n",
       "      <td>1.550735</td>\n",
       "      <td>-0.460412</td>\n",
       "      <td>1.465980</td>\n",
       "      <td>...</td>\n",
       "      <td>-0.036154</td>\n",
       "      <td>-0.027078</td>\n",
       "      <td>-0.03512</td>\n",
       "      <td>-0.033308</td>\n",
       "      <td>-0.03663</td>\n",
       "      <td>-0.042176</td>\n",
       "      <td>-0.043399</td>\n",
       "      <td>-0.028144</td>\n",
       "      <td>35</td>\n",
       "      <td>0</td>\n",
       "    </tr>\n",
       "    <tr>\n",
       "      <th>1734</th>\n",
       "      <td>1.501743</td>\n",
       "      <td>-0.459748</td>\n",
       "      <td>-0.455370</td>\n",
       "      <td>-0.442087</td>\n",
       "      <td>0.665386</td>\n",
       "      <td>-0.441737</td>\n",
       "      <td>0.376762</td>\n",
       "      <td>1.550735</td>\n",
       "      <td>-0.460412</td>\n",
       "      <td>1.465980</td>\n",
       "      <td>...</td>\n",
       "      <td>-0.036154</td>\n",
       "      <td>-0.027078</td>\n",
       "      <td>-0.03512</td>\n",
       "      <td>-0.033308</td>\n",
       "      <td>-0.03663</td>\n",
       "      <td>-0.042176</td>\n",
       "      <td>-0.043399</td>\n",
       "      <td>-0.028144</td>\n",
       "      <td>89</td>\n",
       "      <td>0</td>\n",
       "    </tr>\n",
       "    <tr>\n",
       "      <th>...</th>\n",
       "      <td>...</td>\n",
       "      <td>...</td>\n",
       "      <td>...</td>\n",
       "      <td>...</td>\n",
       "      <td>...</td>\n",
       "      <td>...</td>\n",
       "      <td>...</td>\n",
       "      <td>...</td>\n",
       "      <td>...</td>\n",
       "      <td>...</td>\n",
       "      <td>...</td>\n",
       "      <td>...</td>\n",
       "      <td>...</td>\n",
       "      <td>...</td>\n",
       "      <td>...</td>\n",
       "      <td>...</td>\n",
       "      <td>...</td>\n",
       "      <td>...</td>\n",
       "      <td>...</td>\n",
       "      <td>...</td>\n",
       "      <td>...</td>\n",
       "    </tr>\n",
       "    <tr>\n",
       "      <th>9994</th>\n",
       "      <td>-0.624402</td>\n",
       "      <td>-0.459748</td>\n",
       "      <td>-0.455377</td>\n",
       "      <td>-0.442153</td>\n",
       "      <td>-0.750790</td>\n",
       "      <td>-0.442373</td>\n",
       "      <td>-0.654406</td>\n",
       "      <td>-0.756478</td>\n",
       "      <td>-0.460412</td>\n",
       "      <td>-0.891368</td>\n",
       "      <td>...</td>\n",
       "      <td>-0.036154</td>\n",
       "      <td>-0.027078</td>\n",
       "      <td>-0.03512</td>\n",
       "      <td>-0.033308</td>\n",
       "      <td>-0.03663</td>\n",
       "      <td>-0.042176</td>\n",
       "      <td>-0.043399</td>\n",
       "      <td>-0.028144</td>\n",
       "      <td>34</td>\n",
       "      <td>1</td>\n",
       "    </tr>\n",
       "    <tr>\n",
       "      <th>9995</th>\n",
       "      <td>-0.624402</td>\n",
       "      <td>-0.459748</td>\n",
       "      <td>-0.455296</td>\n",
       "      <td>-0.442153</td>\n",
       "      <td>-0.750790</td>\n",
       "      <td>-0.442373</td>\n",
       "      <td>-0.654406</td>\n",
       "      <td>-0.756478</td>\n",
       "      <td>-0.460412</td>\n",
       "      <td>-0.891368</td>\n",
       "      <td>...</td>\n",
       "      <td>-0.036154</td>\n",
       "      <td>-0.027078</td>\n",
       "      <td>-0.03512</td>\n",
       "      <td>-0.033308</td>\n",
       "      <td>-0.03663</td>\n",
       "      <td>-0.042176</td>\n",
       "      <td>-0.043399</td>\n",
       "      <td>-0.028144</td>\n",
       "      <td>0</td>\n",
       "      <td>1</td>\n",
       "    </tr>\n",
       "    <tr>\n",
       "      <th>9996</th>\n",
       "      <td>-0.624402</td>\n",
       "      <td>-0.459748</td>\n",
       "      <td>-0.455069</td>\n",
       "      <td>-0.442153</td>\n",
       "      <td>-0.750790</td>\n",
       "      <td>-0.442373</td>\n",
       "      <td>-0.654406</td>\n",
       "      <td>-0.756478</td>\n",
       "      <td>-0.460412</td>\n",
       "      <td>-0.891368</td>\n",
       "      <td>...</td>\n",
       "      <td>-0.036154</td>\n",
       "      <td>-0.027078</td>\n",
       "      <td>-0.03512</td>\n",
       "      <td>-0.033308</td>\n",
       "      <td>-0.03663</td>\n",
       "      <td>-0.042176</td>\n",
       "      <td>-0.043399</td>\n",
       "      <td>-0.028144</td>\n",
       "      <td>77</td>\n",
       "      <td>1</td>\n",
       "    </tr>\n",
       "    <tr>\n",
       "      <th>9997</th>\n",
       "      <td>-0.624402</td>\n",
       "      <td>-0.459748</td>\n",
       "      <td>-0.455328</td>\n",
       "      <td>-0.442131</td>\n",
       "      <td>2.081561</td>\n",
       "      <td>-0.442203</td>\n",
       "      <td>2.396676</td>\n",
       "      <td>-0.142044</td>\n",
       "      <td>-0.460412</td>\n",
       "      <td>0.154942</td>\n",
       "      <td>...</td>\n",
       "      <td>-0.036154</td>\n",
       "      <td>-0.027078</td>\n",
       "      <td>-0.03512</td>\n",
       "      <td>-0.033308</td>\n",
       "      <td>-0.03663</td>\n",
       "      <td>-0.042176</td>\n",
       "      <td>-0.043399</td>\n",
       "      <td>-0.028144</td>\n",
       "      <td>93</td>\n",
       "      <td>1</td>\n",
       "    </tr>\n",
       "    <tr>\n",
       "      <th>9998</th>\n",
       "      <td>-0.624402</td>\n",
       "      <td>-0.459748</td>\n",
       "      <td>-0.455175</td>\n",
       "      <td>-0.442153</td>\n",
       "      <td>-0.750790</td>\n",
       "      <td>-0.442373</td>\n",
       "      <td>-0.654406</td>\n",
       "      <td>-0.756478</td>\n",
       "      <td>-0.460412</td>\n",
       "      <td>-0.891368</td>\n",
       "      <td>...</td>\n",
       "      <td>-0.036154</td>\n",
       "      <td>-0.027078</td>\n",
       "      <td>-0.03512</td>\n",
       "      <td>-0.033308</td>\n",
       "      <td>-0.03663</td>\n",
       "      <td>-0.042176</td>\n",
       "      <td>-0.043399</td>\n",
       "      <td>-0.028144</td>\n",
       "      <td>14</td>\n",
       "      <td>1</td>\n",
       "    </tr>\n",
       "  </tbody>\n",
       "</table>\n",
       "<p>8269 rows × 80 columns</p>\n",
       "</div>"
      ],
      "text/plain": [
       "      Dst Port  Protocol  Flow Duration  Tot Fwd Pkts  Tot Bwd Pkts  \\\n",
       "1730  1.445141 -0.459748      -0.455357     -0.442087      0.665386   \n",
       "1731  1.753132 -0.459748      -0.455364     -0.442087      0.665386   \n",
       "1732  1.597544 -0.459748      -0.455367     -0.442087      0.665386   \n",
       "1733  1.356760 -0.459748      -0.455362     -0.442087      0.665386   \n",
       "1734  1.501743 -0.459748      -0.455370     -0.442087      0.665386   \n",
       "...        ...       ...            ...           ...           ...   \n",
       "9994 -0.624402 -0.459748      -0.455377     -0.442153     -0.750790   \n",
       "9995 -0.624402 -0.459748      -0.455296     -0.442153     -0.750790   \n",
       "9996 -0.624402 -0.459748      -0.455069     -0.442153     -0.750790   \n",
       "9997 -0.624402 -0.459748      -0.455328     -0.442131      2.081561   \n",
       "9998 -0.624402 -0.459748      -0.455175     -0.442153     -0.750790   \n",
       "\n",
       "      TotLen Fwd Pkts  TotLen Bwd Pkts  Fwd Pkt Len Max  Fwd Pkt Len Min  \\\n",
       "1730        -0.441737         0.295182         1.550735        -0.460412   \n",
       "1731        -0.441737         0.442026         1.550735        -0.460412   \n",
       "1732        -0.441737         0.194023         1.550735        -0.460412   \n",
       "1733        -0.441737         0.161392         1.550735        -0.460412   \n",
       "1734        -0.441737         0.376762         1.550735        -0.460412   \n",
       "...               ...              ...              ...              ...   \n",
       "9994        -0.442373        -0.654406        -0.756478        -0.460412   \n",
       "9995        -0.442373        -0.654406        -0.756478        -0.460412   \n",
       "9996        -0.442373        -0.654406        -0.756478        -0.460412   \n",
       "9997        -0.442203         2.396676        -0.142044        -0.460412   \n",
       "9998        -0.442373        -0.654406        -0.756478        -0.460412   \n",
       "\n",
       "      Fwd Pkt Len Mean  ...  Active Mean  Active Std  Active Max  Active Min  \\\n",
       "1730          1.465980  ...    -0.036154   -0.027078    -0.03512   -0.033308   \n",
       "1731          1.465980  ...    -0.036154   -0.027078    -0.03512   -0.033308   \n",
       "1732          1.465980  ...    -0.036154   -0.027078    -0.03512   -0.033308   \n",
       "1733          1.465980  ...    -0.036154   -0.027078    -0.03512   -0.033308   \n",
       "1734          1.465980  ...    -0.036154   -0.027078    -0.03512   -0.033308   \n",
       "...                ...  ...          ...         ...         ...         ...   \n",
       "9994         -0.891368  ...    -0.036154   -0.027078    -0.03512   -0.033308   \n",
       "9995         -0.891368  ...    -0.036154   -0.027078    -0.03512   -0.033308   \n",
       "9996         -0.891368  ...    -0.036154   -0.027078    -0.03512   -0.033308   \n",
       "9997          0.154942  ...    -0.036154   -0.027078    -0.03512   -0.033308   \n",
       "9998         -0.891368  ...    -0.036154   -0.027078    -0.03512   -0.033308   \n",
       "\n",
       "      Idle Mean  Idle Std  Idle Max  Idle Min  klabel  Label  \n",
       "1730   -0.03663 -0.042176 -0.043399 -0.028144      66      0  \n",
       "1731   -0.03663 -0.042176 -0.043399 -0.028144      51      0  \n",
       "1732   -0.03663 -0.042176 -0.043399 -0.028144      31      0  \n",
       "1733   -0.03663 -0.042176 -0.043399 -0.028144      35      0  \n",
       "1734   -0.03663 -0.042176 -0.043399 -0.028144      89      0  \n",
       "...         ...       ...       ...       ...     ...    ...  \n",
       "9994   -0.03663 -0.042176 -0.043399 -0.028144      34      1  \n",
       "9995   -0.03663 -0.042176 -0.043399 -0.028144       0      1  \n",
       "9996   -0.03663 -0.042176 -0.043399 -0.028144      77      1  \n",
       "9997   -0.03663 -0.042176 -0.043399 -0.028144      93      1  \n",
       "9998   -0.03663 -0.042176 -0.043399 -0.028144      14      1  \n",
       "\n",
       "[8269 rows x 80 columns]"
      ]
     },
     "execution_count": 17,
     "metadata": {},
     "output_type": "execute_result"
    }
   ],
   "source": [
    "df_major"
   ]
  },
  {
   "cell_type": "code",
   "execution_count": 18,
   "metadata": {},
   "outputs": [
    {
     "name": "stderr",
     "output_type": "stream",
     "text": [
      "C:\\Users\\Admin\\AppData\\Local\\Temp\\ipykernel_10056\\1751890729.py:8: DeprecationWarning: DataFrameGroupBy.apply operated on the grouping columns. This behavior is deprecated, and in a future version of pandas the grouping columns will be excluded from the operation. Either pass `include_groups=False` to exclude the groupings or explicitly select the grouping columns after groupby to silence this warning.\n",
      "  ).apply(typicalSampling)\n"
     ]
    }
   ],
   "source": [
    "def typicalSampling(group):\n",
    "    name = group.name\n",
    "    frac = 0.8\n",
    "    return group.sample(frac=frac)\n",
    "\n",
    "result = df_major.groupby(\n",
    "    'klabel', group_keys=False\n",
    ").apply(typicalSampling)"
   ]
  },
  {
   "cell_type": "code",
   "execution_count": 19,
   "metadata": {},
   "outputs": [
    {
     "data": {
      "text/plain": [
       "Label\n",
       "1    4331\n",
       "0    2281\n",
       "Name: count, dtype: int64"
      ]
     },
     "execution_count": 19,
     "metadata": {},
     "output_type": "execute_result"
    }
   ],
   "source": [
    "result['Label'].value_counts()"
   ]
  },
  {
   "cell_type": "code",
   "execution_count": 20,
   "metadata": {},
   "outputs": [
    {
     "data": {
      "text/html": [
       "<div>\n",
       "<style scoped>\n",
       "    .dataframe tbody tr th:only-of-type {\n",
       "        vertical-align: middle;\n",
       "    }\n",
       "\n",
       "    .dataframe tbody tr th {\n",
       "        vertical-align: top;\n",
       "    }\n",
       "\n",
       "    .dataframe thead th {\n",
       "        text-align: right;\n",
       "    }\n",
       "</style>\n",
       "<table border=\"1\" class=\"dataframe\">\n",
       "  <thead>\n",
       "    <tr style=\"text-align: right;\">\n",
       "      <th></th>\n",
       "      <th>Dst Port</th>\n",
       "      <th>Protocol</th>\n",
       "      <th>Flow Duration</th>\n",
       "      <th>Tot Fwd Pkts</th>\n",
       "      <th>Tot Bwd Pkts</th>\n",
       "      <th>TotLen Fwd Pkts</th>\n",
       "      <th>TotLen Bwd Pkts</th>\n",
       "      <th>Fwd Pkt Len Max</th>\n",
       "      <th>Fwd Pkt Len Min</th>\n",
       "      <th>Fwd Pkt Len Mean</th>\n",
       "      <th>...</th>\n",
       "      <th>Active Mean</th>\n",
       "      <th>Active Std</th>\n",
       "      <th>Active Max</th>\n",
       "      <th>Active Min</th>\n",
       "      <th>Idle Mean</th>\n",
       "      <th>Idle Std</th>\n",
       "      <th>Idle Max</th>\n",
       "      <th>Idle Min</th>\n",
       "      <th>klabel</th>\n",
       "      <th>Label</th>\n",
       "    </tr>\n",
       "  </thead>\n",
       "  <tbody>\n",
       "    <tr>\n",
       "      <th>4681</th>\n",
       "      <td>-0.624402</td>\n",
       "      <td>-0.459748</td>\n",
       "      <td>-0.455291</td>\n",
       "      <td>-0.442153</td>\n",
       "      <td>-0.750790</td>\n",
       "      <td>-0.442373</td>\n",
       "      <td>-0.654406</td>\n",
       "      <td>-0.756478</td>\n",
       "      <td>-0.460412</td>\n",
       "      <td>-0.891368</td>\n",
       "      <td>...</td>\n",
       "      <td>-0.036154</td>\n",
       "      <td>-0.027078</td>\n",
       "      <td>-0.03512</td>\n",
       "      <td>-0.033308</td>\n",
       "      <td>-0.03663</td>\n",
       "      <td>-0.042176</td>\n",
       "      <td>-0.043399</td>\n",
       "      <td>-0.028144</td>\n",
       "      <td>0</td>\n",
       "      <td>1</td>\n",
       "    </tr>\n",
       "    <tr>\n",
       "      <th>6881</th>\n",
       "      <td>-0.624402</td>\n",
       "      <td>-0.459748</td>\n",
       "      <td>-0.455299</td>\n",
       "      <td>-0.442153</td>\n",
       "      <td>-0.750790</td>\n",
       "      <td>-0.442373</td>\n",
       "      <td>-0.654406</td>\n",
       "      <td>-0.756478</td>\n",
       "      <td>-0.460412</td>\n",
       "      <td>-0.891368</td>\n",
       "      <td>...</td>\n",
       "      <td>-0.036154</td>\n",
       "      <td>-0.027078</td>\n",
       "      <td>-0.03512</td>\n",
       "      <td>-0.033308</td>\n",
       "      <td>-0.03663</td>\n",
       "      <td>-0.042176</td>\n",
       "      <td>-0.043399</td>\n",
       "      <td>-0.028144</td>\n",
       "      <td>0</td>\n",
       "      <td>1</td>\n",
       "    </tr>\n",
       "    <tr>\n",
       "      <th>5165</th>\n",
       "      <td>-0.624402</td>\n",
       "      <td>-0.459748</td>\n",
       "      <td>-0.455287</td>\n",
       "      <td>-0.442153</td>\n",
       "      <td>-0.750790</td>\n",
       "      <td>-0.442373</td>\n",
       "      <td>-0.654406</td>\n",
       "      <td>-0.756478</td>\n",
       "      <td>-0.460412</td>\n",
       "      <td>-0.891368</td>\n",
       "      <td>...</td>\n",
       "      <td>-0.036154</td>\n",
       "      <td>-0.027078</td>\n",
       "      <td>-0.03512</td>\n",
       "      <td>-0.033308</td>\n",
       "      <td>-0.03663</td>\n",
       "      <td>-0.042176</td>\n",
       "      <td>-0.043399</td>\n",
       "      <td>-0.028144</td>\n",
       "      <td>0</td>\n",
       "      <td>1</td>\n",
       "    </tr>\n",
       "    <tr>\n",
       "      <th>7419</th>\n",
       "      <td>-0.624402</td>\n",
       "      <td>-0.459748</td>\n",
       "      <td>-0.455295</td>\n",
       "      <td>-0.442153</td>\n",
       "      <td>-0.750790</td>\n",
       "      <td>-0.442373</td>\n",
       "      <td>-0.654406</td>\n",
       "      <td>-0.756478</td>\n",
       "      <td>-0.460412</td>\n",
       "      <td>-0.891368</td>\n",
       "      <td>...</td>\n",
       "      <td>-0.036154</td>\n",
       "      <td>-0.027078</td>\n",
       "      <td>-0.03512</td>\n",
       "      <td>-0.033308</td>\n",
       "      <td>-0.03663</td>\n",
       "      <td>-0.042176</td>\n",
       "      <td>-0.043399</td>\n",
       "      <td>-0.028144</td>\n",
       "      <td>0</td>\n",
       "      <td>1</td>\n",
       "    </tr>\n",
       "    <tr>\n",
       "      <th>8262</th>\n",
       "      <td>-0.624402</td>\n",
       "      <td>-0.459748</td>\n",
       "      <td>-0.455299</td>\n",
       "      <td>-0.442153</td>\n",
       "      <td>-0.750790</td>\n",
       "      <td>-0.442373</td>\n",
       "      <td>-0.654406</td>\n",
       "      <td>-0.756478</td>\n",
       "      <td>-0.460412</td>\n",
       "      <td>-0.891368</td>\n",
       "      <td>...</td>\n",
       "      <td>-0.036154</td>\n",
       "      <td>-0.027078</td>\n",
       "      <td>-0.03512</td>\n",
       "      <td>-0.033308</td>\n",
       "      <td>-0.03663</td>\n",
       "      <td>-0.042176</td>\n",
       "      <td>-0.043399</td>\n",
       "      <td>-0.028144</td>\n",
       "      <td>0</td>\n",
       "      <td>1</td>\n",
       "    </tr>\n",
       "    <tr>\n",
       "      <th>...</th>\n",
       "      <td>...</td>\n",
       "      <td>...</td>\n",
       "      <td>...</td>\n",
       "      <td>...</td>\n",
       "      <td>...</td>\n",
       "      <td>...</td>\n",
       "      <td>...</td>\n",
       "      <td>...</td>\n",
       "      <td>...</td>\n",
       "      <td>...</td>\n",
       "      <td>...</td>\n",
       "      <td>...</td>\n",
       "      <td>...</td>\n",
       "      <td>...</td>\n",
       "      <td>...</td>\n",
       "      <td>...</td>\n",
       "      <td>...</td>\n",
       "      <td>...</td>\n",
       "      <td>...</td>\n",
       "      <td>...</td>\n",
       "      <td>...</td>\n",
       "    </tr>\n",
       "    <tr>\n",
       "      <th>6619</th>\n",
       "      <td>-0.624402</td>\n",
       "      <td>-0.459748</td>\n",
       "      <td>-0.454934</td>\n",
       "      <td>-0.442131</td>\n",
       "      <td>2.081561</td>\n",
       "      <td>-0.442192</td>\n",
       "      <td>2.396676</td>\n",
       "      <td>-0.100095</td>\n",
       "      <td>-0.460412</td>\n",
       "      <td>0.226376</td>\n",
       "      <td>...</td>\n",
       "      <td>-0.036154</td>\n",
       "      <td>-0.027078</td>\n",
       "      <td>-0.03512</td>\n",
       "      <td>-0.033308</td>\n",
       "      <td>-0.03663</td>\n",
       "      <td>-0.042176</td>\n",
       "      <td>-0.043399</td>\n",
       "      <td>-0.028144</td>\n",
       "      <td>99</td>\n",
       "      <td>1</td>\n",
       "    </tr>\n",
       "    <tr>\n",
       "      <th>6389</th>\n",
       "      <td>-0.624402</td>\n",
       "      <td>-0.459748</td>\n",
       "      <td>-0.454893</td>\n",
       "      <td>-0.442131</td>\n",
       "      <td>2.081561</td>\n",
       "      <td>-0.442162</td>\n",
       "      <td>2.396676</td>\n",
       "      <td>0.008480</td>\n",
       "      <td>-0.460412</td>\n",
       "      <td>0.411266</td>\n",
       "      <td>...</td>\n",
       "      <td>-0.036154</td>\n",
       "      <td>-0.027078</td>\n",
       "      <td>-0.03512</td>\n",
       "      <td>-0.033308</td>\n",
       "      <td>-0.03663</td>\n",
       "      <td>-0.042176</td>\n",
       "      <td>-0.043399</td>\n",
       "      <td>-0.028144</td>\n",
       "      <td>99</td>\n",
       "      <td>1</td>\n",
       "    </tr>\n",
       "    <tr>\n",
       "      <th>9963</th>\n",
       "      <td>-0.624402</td>\n",
       "      <td>-0.459748</td>\n",
       "      <td>-0.454932</td>\n",
       "      <td>-0.442131</td>\n",
       "      <td>2.081561</td>\n",
       "      <td>-0.442142</td>\n",
       "      <td>2.396676</td>\n",
       "      <td>0.080041</td>\n",
       "      <td>-0.460412</td>\n",
       "      <td>0.533126</td>\n",
       "      <td>...</td>\n",
       "      <td>-0.036154</td>\n",
       "      <td>-0.027078</td>\n",
       "      <td>-0.03512</td>\n",
       "      <td>-0.033308</td>\n",
       "      <td>-0.03663</td>\n",
       "      <td>-0.042176</td>\n",
       "      <td>-0.043399</td>\n",
       "      <td>-0.028144</td>\n",
       "      <td>99</td>\n",
       "      <td>1</td>\n",
       "    </tr>\n",
       "    <tr>\n",
       "      <th>7332</th>\n",
       "      <td>-0.624402</td>\n",
       "      <td>-0.459748</td>\n",
       "      <td>-0.454812</td>\n",
       "      <td>-0.442131</td>\n",
       "      <td>2.081561</td>\n",
       "      <td>-0.442191</td>\n",
       "      <td>2.396676</td>\n",
       "      <td>-0.097627</td>\n",
       "      <td>-0.460412</td>\n",
       "      <td>0.230579</td>\n",
       "      <td>...</td>\n",
       "      <td>-0.036154</td>\n",
       "      <td>-0.027078</td>\n",
       "      <td>-0.03512</td>\n",
       "      <td>-0.033308</td>\n",
       "      <td>-0.03663</td>\n",
       "      <td>-0.042176</td>\n",
       "      <td>-0.043399</td>\n",
       "      <td>-0.028144</td>\n",
       "      <td>99</td>\n",
       "      <td>1</td>\n",
       "    </tr>\n",
       "    <tr>\n",
       "      <th>6672</th>\n",
       "      <td>-0.624402</td>\n",
       "      <td>-0.459748</td>\n",
       "      <td>-0.454908</td>\n",
       "      <td>-0.442131</td>\n",
       "      <td>2.081561</td>\n",
       "      <td>-0.442152</td>\n",
       "      <td>2.396676</td>\n",
       "      <td>0.045494</td>\n",
       "      <td>-0.460412</td>\n",
       "      <td>0.474297</td>\n",
       "      <td>...</td>\n",
       "      <td>-0.036154</td>\n",
       "      <td>-0.027078</td>\n",
       "      <td>-0.03512</td>\n",
       "      <td>-0.033308</td>\n",
       "      <td>-0.03663</td>\n",
       "      <td>-0.042176</td>\n",
       "      <td>-0.043399</td>\n",
       "      <td>-0.028144</td>\n",
       "      <td>99</td>\n",
       "      <td>1</td>\n",
       "    </tr>\n",
       "  </tbody>\n",
       "</table>\n",
       "<p>6612 rows × 80 columns</p>\n",
       "</div>"
      ],
      "text/plain": [
       "      Dst Port  Protocol  Flow Duration  Tot Fwd Pkts  Tot Bwd Pkts  \\\n",
       "4681 -0.624402 -0.459748      -0.455291     -0.442153     -0.750790   \n",
       "6881 -0.624402 -0.459748      -0.455299     -0.442153     -0.750790   \n",
       "5165 -0.624402 -0.459748      -0.455287     -0.442153     -0.750790   \n",
       "7419 -0.624402 -0.459748      -0.455295     -0.442153     -0.750790   \n",
       "8262 -0.624402 -0.459748      -0.455299     -0.442153     -0.750790   \n",
       "...        ...       ...            ...           ...           ...   \n",
       "6619 -0.624402 -0.459748      -0.454934     -0.442131      2.081561   \n",
       "6389 -0.624402 -0.459748      -0.454893     -0.442131      2.081561   \n",
       "9963 -0.624402 -0.459748      -0.454932     -0.442131      2.081561   \n",
       "7332 -0.624402 -0.459748      -0.454812     -0.442131      2.081561   \n",
       "6672 -0.624402 -0.459748      -0.454908     -0.442131      2.081561   \n",
       "\n",
       "      TotLen Fwd Pkts  TotLen Bwd Pkts  Fwd Pkt Len Max  Fwd Pkt Len Min  \\\n",
       "4681        -0.442373        -0.654406        -0.756478        -0.460412   \n",
       "6881        -0.442373        -0.654406        -0.756478        -0.460412   \n",
       "5165        -0.442373        -0.654406        -0.756478        -0.460412   \n",
       "7419        -0.442373        -0.654406        -0.756478        -0.460412   \n",
       "8262        -0.442373        -0.654406        -0.756478        -0.460412   \n",
       "...               ...              ...              ...              ...   \n",
       "6619        -0.442192         2.396676        -0.100095        -0.460412   \n",
       "6389        -0.442162         2.396676         0.008480        -0.460412   \n",
       "9963        -0.442142         2.396676         0.080041        -0.460412   \n",
       "7332        -0.442191         2.396676        -0.097627        -0.460412   \n",
       "6672        -0.442152         2.396676         0.045494        -0.460412   \n",
       "\n",
       "      Fwd Pkt Len Mean  ...  Active Mean  Active Std  Active Max  Active Min  \\\n",
       "4681         -0.891368  ...    -0.036154   -0.027078    -0.03512   -0.033308   \n",
       "6881         -0.891368  ...    -0.036154   -0.027078    -0.03512   -0.033308   \n",
       "5165         -0.891368  ...    -0.036154   -0.027078    -0.03512   -0.033308   \n",
       "7419         -0.891368  ...    -0.036154   -0.027078    -0.03512   -0.033308   \n",
       "8262         -0.891368  ...    -0.036154   -0.027078    -0.03512   -0.033308   \n",
       "...                ...  ...          ...         ...         ...         ...   \n",
       "6619          0.226376  ...    -0.036154   -0.027078    -0.03512   -0.033308   \n",
       "6389          0.411266  ...    -0.036154   -0.027078    -0.03512   -0.033308   \n",
       "9963          0.533126  ...    -0.036154   -0.027078    -0.03512   -0.033308   \n",
       "7332          0.230579  ...    -0.036154   -0.027078    -0.03512   -0.033308   \n",
       "6672          0.474297  ...    -0.036154   -0.027078    -0.03512   -0.033308   \n",
       "\n",
       "      Idle Mean  Idle Std  Idle Max  Idle Min  klabel  Label  \n",
       "4681   -0.03663 -0.042176 -0.043399 -0.028144       0      1  \n",
       "6881   -0.03663 -0.042176 -0.043399 -0.028144       0      1  \n",
       "5165   -0.03663 -0.042176 -0.043399 -0.028144       0      1  \n",
       "7419   -0.03663 -0.042176 -0.043399 -0.028144       0      1  \n",
       "8262   -0.03663 -0.042176 -0.043399 -0.028144       0      1  \n",
       "...         ...       ...       ...       ...     ...    ...  \n",
       "6619   -0.03663 -0.042176 -0.043399 -0.028144      99      1  \n",
       "6389   -0.03663 -0.042176 -0.043399 -0.028144      99      1  \n",
       "9963   -0.03663 -0.042176 -0.043399 -0.028144      99      1  \n",
       "7332   -0.03663 -0.042176 -0.043399 -0.028144      99      1  \n",
       "6672   -0.03663 -0.042176 -0.043399 -0.028144      99      1  \n",
       "\n",
       "[6612 rows x 80 columns]"
      ]
     },
     "execution_count": 20,
     "metadata": {},
     "output_type": "execute_result"
    }
   ],
   "source": [
    "result"
   ]
  },
  {
   "cell_type": "code",
   "execution_count": 21,
   "metadata": {},
   "outputs": [],
   "source": [
    "result = result.drop(['klabel'],axis=1)\n",
    "result = pd.concat([result, df_minor], ignore_index=True)"
   ]
  },
  {
   "cell_type": "code",
   "execution_count": 22,
   "metadata": {},
   "outputs": [],
   "source": [
    "result.to_csv('./20180221/02-21-2018_small_km.csv',index=0)"
   ]
  },
  {
   "cell_type": "markdown",
   "metadata": {},
   "source": [
    "### split train set and test set"
   ]
  },
  {
   "cell_type": "code",
   "execution_count": 44,
   "metadata": {},
   "outputs": [],
   "source": [
    "# Read the sampled dataset\n",
    "df=pd.read_csv('./20180221/02-21-2018_small_km.csv')"
   ]
  },
  {
   "cell_type": "code",
   "execution_count": 45,
   "metadata": {},
   "outputs": [
    {
     "data": {
      "text/html": [
       "<div>\n",
       "<style scoped>\n",
       "    .dataframe tbody tr th:only-of-type {\n",
       "        vertical-align: middle;\n",
       "    }\n",
       "\n",
       "    .dataframe tbody tr th {\n",
       "        vertical-align: top;\n",
       "    }\n",
       "\n",
       "    .dataframe thead th {\n",
       "        text-align: right;\n",
       "    }\n",
       "</style>\n",
       "<table border=\"1\" class=\"dataframe\">\n",
       "  <thead>\n",
       "    <tr style=\"text-align: right;\">\n",
       "      <th></th>\n",
       "      <th>Dst Port</th>\n",
       "      <th>Protocol</th>\n",
       "      <th>Flow Duration</th>\n",
       "      <th>Tot Fwd Pkts</th>\n",
       "      <th>Tot Bwd Pkts</th>\n",
       "      <th>TotLen Fwd Pkts</th>\n",
       "      <th>TotLen Bwd Pkts</th>\n",
       "      <th>Fwd Pkt Len Max</th>\n",
       "      <th>Fwd Pkt Len Min</th>\n",
       "      <th>Fwd Pkt Len Mean</th>\n",
       "      <th>...</th>\n",
       "      <th>Fwd Seg Size Min</th>\n",
       "      <th>Active Mean</th>\n",
       "      <th>Active Std</th>\n",
       "      <th>Active Max</th>\n",
       "      <th>Active Min</th>\n",
       "      <th>Idle Mean</th>\n",
       "      <th>Idle Std</th>\n",
       "      <th>Idle Max</th>\n",
       "      <th>Idle Min</th>\n",
       "      <th>Label</th>\n",
       "    </tr>\n",
       "  </thead>\n",
       "  <tbody>\n",
       "    <tr>\n",
       "      <th>0</th>\n",
       "      <td>-0.624402</td>\n",
       "      <td>-0.459748</td>\n",
       "      <td>-0.455291</td>\n",
       "      <td>-0.442153</td>\n",
       "      <td>-0.75079</td>\n",
       "      <td>-0.442373</td>\n",
       "      <td>-0.654406</td>\n",
       "      <td>-0.756478</td>\n",
       "      <td>-0.460412</td>\n",
       "      <td>-0.891368</td>\n",
       "      <td>...</td>\n",
       "      <td>0.458967</td>\n",
       "      <td>-0.036154</td>\n",
       "      <td>-0.027078</td>\n",
       "      <td>-0.03512</td>\n",
       "      <td>-0.033308</td>\n",
       "      <td>-0.03663</td>\n",
       "      <td>-0.042176</td>\n",
       "      <td>-0.043399</td>\n",
       "      <td>-0.028144</td>\n",
       "      <td>1</td>\n",
       "    </tr>\n",
       "    <tr>\n",
       "      <th>1</th>\n",
       "      <td>-0.624402</td>\n",
       "      <td>-0.459748</td>\n",
       "      <td>-0.455299</td>\n",
       "      <td>-0.442153</td>\n",
       "      <td>-0.75079</td>\n",
       "      <td>-0.442373</td>\n",
       "      <td>-0.654406</td>\n",
       "      <td>-0.756478</td>\n",
       "      <td>-0.460412</td>\n",
       "      <td>-0.891368</td>\n",
       "      <td>...</td>\n",
       "      <td>0.458967</td>\n",
       "      <td>-0.036154</td>\n",
       "      <td>-0.027078</td>\n",
       "      <td>-0.03512</td>\n",
       "      <td>-0.033308</td>\n",
       "      <td>-0.03663</td>\n",
       "      <td>-0.042176</td>\n",
       "      <td>-0.043399</td>\n",
       "      <td>-0.028144</td>\n",
       "      <td>1</td>\n",
       "    </tr>\n",
       "    <tr>\n",
       "      <th>2</th>\n",
       "      <td>-0.624402</td>\n",
       "      <td>-0.459748</td>\n",
       "      <td>-0.455287</td>\n",
       "      <td>-0.442153</td>\n",
       "      <td>-0.75079</td>\n",
       "      <td>-0.442373</td>\n",
       "      <td>-0.654406</td>\n",
       "      <td>-0.756478</td>\n",
       "      <td>-0.460412</td>\n",
       "      <td>-0.891368</td>\n",
       "      <td>...</td>\n",
       "      <td>0.458967</td>\n",
       "      <td>-0.036154</td>\n",
       "      <td>-0.027078</td>\n",
       "      <td>-0.03512</td>\n",
       "      <td>-0.033308</td>\n",
       "      <td>-0.03663</td>\n",
       "      <td>-0.042176</td>\n",
       "      <td>-0.043399</td>\n",
       "      <td>-0.028144</td>\n",
       "      <td>1</td>\n",
       "    </tr>\n",
       "    <tr>\n",
       "      <th>3</th>\n",
       "      <td>-0.624402</td>\n",
       "      <td>-0.459748</td>\n",
       "      <td>-0.455295</td>\n",
       "      <td>-0.442153</td>\n",
       "      <td>-0.75079</td>\n",
       "      <td>-0.442373</td>\n",
       "      <td>-0.654406</td>\n",
       "      <td>-0.756478</td>\n",
       "      <td>-0.460412</td>\n",
       "      <td>-0.891368</td>\n",
       "      <td>...</td>\n",
       "      <td>0.458967</td>\n",
       "      <td>-0.036154</td>\n",
       "      <td>-0.027078</td>\n",
       "      <td>-0.03512</td>\n",
       "      <td>-0.033308</td>\n",
       "      <td>-0.03663</td>\n",
       "      <td>-0.042176</td>\n",
       "      <td>-0.043399</td>\n",
       "      <td>-0.028144</td>\n",
       "      <td>1</td>\n",
       "    </tr>\n",
       "    <tr>\n",
       "      <th>4</th>\n",
       "      <td>-0.624402</td>\n",
       "      <td>-0.459748</td>\n",
       "      <td>-0.455299</td>\n",
       "      <td>-0.442153</td>\n",
       "      <td>-0.75079</td>\n",
       "      <td>-0.442373</td>\n",
       "      <td>-0.654406</td>\n",
       "      <td>-0.756478</td>\n",
       "      <td>-0.460412</td>\n",
       "      <td>-0.891368</td>\n",
       "      <td>...</td>\n",
       "      <td>0.458967</td>\n",
       "      <td>-0.036154</td>\n",
       "      <td>-0.027078</td>\n",
       "      <td>-0.03512</td>\n",
       "      <td>-0.033308</td>\n",
       "      <td>-0.03663</td>\n",
       "      <td>-0.042176</td>\n",
       "      <td>-0.043399</td>\n",
       "      <td>-0.028144</td>\n",
       "      <td>1</td>\n",
       "    </tr>\n",
       "    <tr>\n",
       "      <th>...</th>\n",
       "      <td>...</td>\n",
       "      <td>...</td>\n",
       "      <td>...</td>\n",
       "      <td>...</td>\n",
       "      <td>...</td>\n",
       "      <td>...</td>\n",
       "      <td>...</td>\n",
       "      <td>...</td>\n",
       "      <td>...</td>\n",
       "      <td>...</td>\n",
       "      <td>...</td>\n",
       "      <td>...</td>\n",
       "      <td>...</td>\n",
       "      <td>...</td>\n",
       "      <td>...</td>\n",
       "      <td>...</td>\n",
       "      <td>...</td>\n",
       "      <td>...</td>\n",
       "      <td>...</td>\n",
       "      <td>...</td>\n",
       "      <td>...</td>\n",
       "    </tr>\n",
       "    <tr>\n",
       "      <th>8337</th>\n",
       "      <td>-0.624402</td>\n",
       "      <td>2.171082</td>\n",
       "      <td>1.596308</td>\n",
       "      <td>4.952294</td>\n",
       "      <td>-0.75079</td>\n",
       "      <td>4.952469</td>\n",
       "      <td>-0.654406</td>\n",
       "      <td>-0.677515</td>\n",
       "      <td>2.171753</td>\n",
       "      <td>-0.487971</td>\n",
       "      <td>...</td>\n",
       "      <td>-2.162941</td>\n",
       "      <td>-0.036154</td>\n",
       "      <td>-0.027078</td>\n",
       "      <td>-0.03512</td>\n",
       "      <td>-0.033308</td>\n",
       "      <td>-0.03663</td>\n",
       "      <td>-0.042176</td>\n",
       "      <td>-0.043399</td>\n",
       "      <td>-0.028144</td>\n",
       "      <td>2</td>\n",
       "    </tr>\n",
       "    <tr>\n",
       "      <th>8338</th>\n",
       "      <td>-0.624402</td>\n",
       "      <td>2.171082</td>\n",
       "      <td>1.374026</td>\n",
       "      <td>1.592891</td>\n",
       "      <td>-0.75079</td>\n",
       "      <td>1.592847</td>\n",
       "      <td>-0.654406</td>\n",
       "      <td>-0.677515</td>\n",
       "      <td>2.171753</td>\n",
       "      <td>-0.487971</td>\n",
       "      <td>...</td>\n",
       "      <td>-2.162941</td>\n",
       "      <td>-0.036154</td>\n",
       "      <td>-0.027078</td>\n",
       "      <td>-0.03512</td>\n",
       "      <td>-0.033308</td>\n",
       "      <td>-0.03663</td>\n",
       "      <td>-0.042176</td>\n",
       "      <td>-0.043399</td>\n",
       "      <td>-0.028144</td>\n",
       "      <td>2</td>\n",
       "    </tr>\n",
       "    <tr>\n",
       "      <th>8339</th>\n",
       "      <td>-0.624402</td>\n",
       "      <td>2.171082</td>\n",
       "      <td>1.625051</td>\n",
       "      <td>2.082440</td>\n",
       "      <td>-0.75079</td>\n",
       "      <td>2.082428</td>\n",
       "      <td>-0.654406</td>\n",
       "      <td>-0.677515</td>\n",
       "      <td>2.171753</td>\n",
       "      <td>-0.487971</td>\n",
       "      <td>...</td>\n",
       "      <td>-2.162941</td>\n",
       "      <td>-0.036154</td>\n",
       "      <td>-0.027078</td>\n",
       "      <td>-0.03512</td>\n",
       "      <td>-0.033308</td>\n",
       "      <td>-0.03663</td>\n",
       "      <td>-0.042176</td>\n",
       "      <td>-0.043399</td>\n",
       "      <td>-0.028144</td>\n",
       "      <td>2</td>\n",
       "    </tr>\n",
       "    <tr>\n",
       "      <th>8340</th>\n",
       "      <td>-0.624402</td>\n",
       "      <td>2.171082</td>\n",
       "      <td>1.278566</td>\n",
       "      <td>1.046746</td>\n",
       "      <td>-0.75079</td>\n",
       "      <td>1.046667</td>\n",
       "      <td>-0.654406</td>\n",
       "      <td>-0.677515</td>\n",
       "      <td>2.171753</td>\n",
       "      <td>-0.487971</td>\n",
       "      <td>...</td>\n",
       "      <td>-2.162941</td>\n",
       "      <td>-0.036154</td>\n",
       "      <td>-0.027078</td>\n",
       "      <td>-0.03512</td>\n",
       "      <td>-0.033308</td>\n",
       "      <td>-0.03663</td>\n",
       "      <td>-0.042176</td>\n",
       "      <td>-0.043399</td>\n",
       "      <td>-0.028144</td>\n",
       "      <td>2</td>\n",
       "    </tr>\n",
       "    <tr>\n",
       "      <th>8341</th>\n",
       "      <td>-0.624402</td>\n",
       "      <td>2.171082</td>\n",
       "      <td>1.245647</td>\n",
       "      <td>1.090429</td>\n",
       "      <td>-0.75079</td>\n",
       "      <td>1.090352</td>\n",
       "      <td>-0.654406</td>\n",
       "      <td>-0.677515</td>\n",
       "      <td>2.171753</td>\n",
       "      <td>-0.487971</td>\n",
       "      <td>...</td>\n",
       "      <td>-2.162941</td>\n",
       "      <td>-0.036154</td>\n",
       "      <td>-0.027078</td>\n",
       "      <td>-0.03512</td>\n",
       "      <td>-0.033308</td>\n",
       "      <td>-0.03663</td>\n",
       "      <td>-0.042176</td>\n",
       "      <td>-0.043399</td>\n",
       "      <td>-0.028144</td>\n",
       "      <td>2</td>\n",
       "    </tr>\n",
       "  </tbody>\n",
       "</table>\n",
       "<p>8342 rows × 79 columns</p>\n",
       "</div>"
      ],
      "text/plain": [
       "      Dst Port  Protocol  Flow Duration  Tot Fwd Pkts  Tot Bwd Pkts  \\\n",
       "0    -0.624402 -0.459748      -0.455291     -0.442153      -0.75079   \n",
       "1    -0.624402 -0.459748      -0.455299     -0.442153      -0.75079   \n",
       "2    -0.624402 -0.459748      -0.455287     -0.442153      -0.75079   \n",
       "3    -0.624402 -0.459748      -0.455295     -0.442153      -0.75079   \n",
       "4    -0.624402 -0.459748      -0.455299     -0.442153      -0.75079   \n",
       "...        ...       ...            ...           ...           ...   \n",
       "8337 -0.624402  2.171082       1.596308      4.952294      -0.75079   \n",
       "8338 -0.624402  2.171082       1.374026      1.592891      -0.75079   \n",
       "8339 -0.624402  2.171082       1.625051      2.082440      -0.75079   \n",
       "8340 -0.624402  2.171082       1.278566      1.046746      -0.75079   \n",
       "8341 -0.624402  2.171082       1.245647      1.090429      -0.75079   \n",
       "\n",
       "      TotLen Fwd Pkts  TotLen Bwd Pkts  Fwd Pkt Len Max  Fwd Pkt Len Min  \\\n",
       "0           -0.442373        -0.654406        -0.756478        -0.460412   \n",
       "1           -0.442373        -0.654406        -0.756478        -0.460412   \n",
       "2           -0.442373        -0.654406        -0.756478        -0.460412   \n",
       "3           -0.442373        -0.654406        -0.756478        -0.460412   \n",
       "4           -0.442373        -0.654406        -0.756478        -0.460412   \n",
       "...               ...              ...              ...              ...   \n",
       "8337         4.952469        -0.654406        -0.677515         2.171753   \n",
       "8338         1.592847        -0.654406        -0.677515         2.171753   \n",
       "8339         2.082428        -0.654406        -0.677515         2.171753   \n",
       "8340         1.046667        -0.654406        -0.677515         2.171753   \n",
       "8341         1.090352        -0.654406        -0.677515         2.171753   \n",
       "\n",
       "      Fwd Pkt Len Mean  ...  Fwd Seg Size Min  Active Mean  Active Std  \\\n",
       "0            -0.891368  ...          0.458967    -0.036154   -0.027078   \n",
       "1            -0.891368  ...          0.458967    -0.036154   -0.027078   \n",
       "2            -0.891368  ...          0.458967    -0.036154   -0.027078   \n",
       "3            -0.891368  ...          0.458967    -0.036154   -0.027078   \n",
       "4            -0.891368  ...          0.458967    -0.036154   -0.027078   \n",
       "...                ...  ...               ...          ...         ...   \n",
       "8337         -0.487971  ...         -2.162941    -0.036154   -0.027078   \n",
       "8338         -0.487971  ...         -2.162941    -0.036154   -0.027078   \n",
       "8339         -0.487971  ...         -2.162941    -0.036154   -0.027078   \n",
       "8340         -0.487971  ...         -2.162941    -0.036154   -0.027078   \n",
       "8341         -0.487971  ...         -2.162941    -0.036154   -0.027078   \n",
       "\n",
       "      Active Max  Active Min  Idle Mean  Idle Std  Idle Max  Idle Min  Label  \n",
       "0       -0.03512   -0.033308   -0.03663 -0.042176 -0.043399 -0.028144      1  \n",
       "1       -0.03512   -0.033308   -0.03663 -0.042176 -0.043399 -0.028144      1  \n",
       "2       -0.03512   -0.033308   -0.03663 -0.042176 -0.043399 -0.028144      1  \n",
       "3       -0.03512   -0.033308   -0.03663 -0.042176 -0.043399 -0.028144      1  \n",
       "4       -0.03512   -0.033308   -0.03663 -0.042176 -0.043399 -0.028144      1  \n",
       "...          ...         ...        ...       ...       ...       ...    ...  \n",
       "8337    -0.03512   -0.033308   -0.03663 -0.042176 -0.043399 -0.028144      2  \n",
       "8338    -0.03512   -0.033308   -0.03663 -0.042176 -0.043399 -0.028144      2  \n",
       "8339    -0.03512   -0.033308   -0.03663 -0.042176 -0.043399 -0.028144      2  \n",
       "8340    -0.03512   -0.033308   -0.03663 -0.042176 -0.043399 -0.028144      2  \n",
       "8341    -0.03512   -0.033308   -0.03663 -0.042176 -0.043399 -0.028144      2  \n",
       "\n",
       "[8342 rows x 79 columns]"
      ]
     },
     "execution_count": 45,
     "metadata": {},
     "output_type": "execute_result"
    }
   ],
   "source": [
    "df"
   ]
  },
  {
   "cell_type": "code",
   "execution_count": 46,
   "metadata": {},
   "outputs": [],
   "source": [
    "X = df.drop(['Label'],axis=1).values\n",
    "y = df.iloc[:, -1].values.reshape(-1,1)\n",
    "y=np.ravel(y)"
   ]
  },
  {
   "cell_type": "code",
   "execution_count": 47,
   "metadata": {},
   "outputs": [
    {
     "name": "stdout",
     "output_type": "stream",
     "text": [
      "Phân bố lớp: {0: 2281, 1: 4331, 2: 1730}\n"
     ]
    }
   ],
   "source": [
    "unique, counts = np.unique(y, return_counts=True)\n",
    "print(\"Phân bố lớp:\", dict(zip(unique, counts)))"
   ]
  },
  {
   "cell_type": "code",
   "execution_count": 48,
   "metadata": {},
   "outputs": [],
   "source": [
    "X_train, X_test, y_train, y_test = train_test_split(X,y, train_size = 0.8, test_size = 0.2, random_state = 0,stratify = y)"
   ]
  },
  {
   "cell_type": "code",
   "execution_count": 49,
   "metadata": {},
   "outputs": [
    {
     "data": {
      "text/plain": [
       "(8342, 78)"
      ]
     },
     "execution_count": 49,
     "metadata": {},
     "output_type": "execute_result"
    }
   ],
   "source": [
    "X.shape\n"
   ]
  },
  {
   "cell_type": "markdown",
   "metadata": {},
   "source": [
    "## Feature engineering"
   ]
  },
  {
   "cell_type": "markdown",
   "metadata": {},
   "source": [
    "### Feature selection by information gain"
   ]
  },
  {
   "cell_type": "code",
   "execution_count": 50,
   "metadata": {},
   "outputs": [],
   "source": [
    "from sklearn.feature_selection import mutual_info_classif\n",
    "importances = mutual_info_classif(X_train, y_train)"
   ]
  },
  {
   "cell_type": "code",
   "execution_count": 51,
   "metadata": {},
   "outputs": [],
   "source": [
    "# calculate the sum of importance scores\n",
    "f_list = sorted(zip(map(lambda x: round(x, 4), importances), features), reverse=True)\n",
    "Sum = 0\n",
    "fs = []\n",
    "for i in range(0, len(f_list)):\n",
    "    Sum = Sum + f_list[i][0]\n",
    "    fs.append(f_list[i][1])"
   ]
  },
  {
   "cell_type": "code",
   "execution_count": 52,
   "metadata": {},
   "outputs": [],
   "source": [
    "# select the important features from top to bottom until the accumulated importance reaches 90%\n",
    "f_list2 = sorted(zip(map(lambda x: round(x, 4), importances/Sum), features), reverse=True)\n",
    "Sum2 = 0\n",
    "fs = []\n",
    "for i in range(0, len(f_list2)):\n",
    "    Sum2 = Sum2 + f_list2[i][0]\n",
    "    fs.append(f_list2[i][1])\n",
    "    if Sum2>=0.9:\n",
    "        break        "
   ]
  },
  {
   "cell_type": "code",
   "execution_count": 53,
   "metadata": {},
   "outputs": [],
   "source": [
    "X_fs = df[fs].values"
   ]
  },
  {
   "cell_type": "code",
   "execution_count": 54,
   "metadata": {},
   "outputs": [
    {
     "data": {
      "text/plain": [
       "(8342, 45)"
      ]
     },
     "execution_count": 54,
     "metadata": {},
     "output_type": "execute_result"
    }
   ],
   "source": [
    "X_fs.shape"
   ]
  },
  {
   "cell_type": "code",
   "execution_count": 55,
   "metadata": {},
   "outputs": [
    {
     "data": {
      "text/plain": [
       "(8342,)"
      ]
     },
     "execution_count": 55,
     "metadata": {},
     "output_type": "execute_result"
    }
   ],
   "source": [
    "y.shape"
   ]
  },
  {
   "cell_type": "markdown",
   "metadata": {},
   "source": [
    "### Feature selection by Fast Correlation Based Filter (FCBF)\n",
    "\n",
    "The module is imported from the GitHub repo: https://github.com/SantiagoEG/FCBF_module"
   ]
  },
  {
   "cell_type": "code",
   "execution_count": 56,
   "metadata": {},
   "outputs": [],
   "source": [
    "from FCBF_module import FCBF, FCBFK, FCBFiP, get_i\n",
    "fcbf = FCBFK(k = 20)\n",
    "#fcbf.fit(X_fs, y)"
   ]
  },
  {
   "cell_type": "code",
   "execution_count": 57,
   "metadata": {},
   "outputs": [],
   "source": [
    "X_fss = fcbf.fit_transform(X_fs,y)"
   ]
  },
  {
   "cell_type": "code",
   "execution_count": 58,
   "metadata": {},
   "outputs": [
    {
     "data": {
      "text/plain": [
       "(8342, 20)"
      ]
     },
     "execution_count": 58,
     "metadata": {},
     "output_type": "execute_result"
    }
   ],
   "source": [
    "X_fss.shape"
   ]
  },
  {
   "cell_type": "markdown",
   "metadata": {},
   "source": [
    "### Re-split train & test sets after feature selection"
   ]
  },
  {
   "cell_type": "code",
   "execution_count": 59,
   "metadata": {},
   "outputs": [],
   "source": [
    "X_train, X_test, y_train, y_test = train_test_split(X_fss,y, train_size = 0.8, test_size = 0.2, random_state = 0,stratify = y)"
   ]
  },
  {
   "cell_type": "code",
   "execution_count": 60,
   "metadata": {},
   "outputs": [
    {
     "data": {
      "text/plain": [
       "(6673, 20)"
      ]
     },
     "execution_count": 60,
     "metadata": {},
     "output_type": "execute_result"
    }
   ],
   "source": [
    "X_train.shape"
   ]
  },
  {
   "cell_type": "code",
   "execution_count": 61,
   "metadata": {},
   "outputs": [
    {
     "data": {
      "text/plain": [
       "1    3464\n",
       "0    1825\n",
       "2    1384\n",
       "Name: count, dtype: int64"
      ]
     },
     "execution_count": 61,
     "metadata": {},
     "output_type": "execute_result"
    }
   ],
   "source": [
    "pd.Series(y_train).value_counts()"
   ]
  },
  {
   "cell_type": "markdown",
   "metadata": {},
   "source": [
    "### SMOTE to solve class-imbalance"
   ]
  },
  {
   "cell_type": "code",
   "execution_count": 62,
   "metadata": {},
   "outputs": [],
   "source": [
    "from imblearn.over_sampling import SMOTE\n",
    "smote=SMOTE(n_jobs=-1,sampling_strategy={2:2000, 0:2000})"
   ]
  },
  {
   "cell_type": "code",
   "execution_count": 63,
   "metadata": {},
   "outputs": [
    {
     "name": "stderr",
     "output_type": "stream",
     "text": [
      "c:\\Users\\Admin\\AppData\\Local\\Programs\\Python\\Python312\\Lib\\site-packages\\imblearn\\over_sampling\\_smote\\base.py:370: FutureWarning: The parameter `n_jobs` has been deprecated in 0.10 and will be removed in 0.12. You can pass an nearest neighbors estimator where `n_jobs` is already set instead.\n",
      "  warnings.warn(\n"
     ]
    }
   ],
   "source": [
    "X_train, y_train = smote.fit_resample(X_train, y_train)"
   ]
  },
  {
   "cell_type": "code",
   "execution_count": 64,
   "metadata": {},
   "outputs": [
    {
     "data": {
      "text/plain": [
       "1    3464\n",
       "0    2000\n",
       "2    2000\n",
       "Name: count, dtype: int64"
      ]
     },
     "execution_count": 64,
     "metadata": {},
     "output_type": "execute_result"
    }
   ],
   "source": [
    "pd.Series(y_train).value_counts()"
   ]
  },
  {
   "cell_type": "markdown",
   "metadata": {},
   "source": [
    "## Machine learning model training"
   ]
  },
  {
   "cell_type": "markdown",
   "metadata": {},
   "source": [
    "### Training four base learners: decision tree, random forest, extra trees, XGBoost"
   ]
  },
  {
   "cell_type": "markdown",
   "metadata": {},
   "source": [
    "#### Apply XGBoost"
   ]
  },
  {
   "cell_type": "code",
   "execution_count": 65,
   "metadata": {},
   "outputs": [
    {
     "name": "stdout",
     "output_type": "stream",
     "text": [
      "Accuracy of XGBoost: 1.0\n",
      "Precision of XGBoost: 1.0\n",
      "Recall of XGBoost: 1.0\n",
      "F1-score of XGBoost: 1.0\n",
      "              precision    recall  f1-score   support\n",
      "\n",
      "           0       1.00      1.00      1.00       456\n",
      "           1       1.00      1.00      1.00       867\n",
      "           2       1.00      1.00      1.00       346\n",
      "\n",
      "    accuracy                           1.00      1669\n",
      "   macro avg       1.00      1.00      1.00      1669\n",
      "weighted avg       1.00      1.00      1.00      1669\n",
      "\n"
     ]
    },
    {
     "data": {
      "image/png": "[encoded data removed]",
      "text/plain": [
       "<Figure size 500x500 with 2 Axes>"
      ]
     },
     "metadata": {},
     "output_type": "display_data"
    }
   ],
   "source": [
    "xg = xgb.XGBClassifier(n_estimators = 10)\n",
    "xg.fit(X_train,y_train)\n",
    "xg_score=xg.score(X_test,y_test)\n",
    "y_predict=xg.predict(X_test)\n",
    "y_true=y_test\n",
    "print('Accuracy of XGBoost: '+ str(xg_score))\n",
    "precision,recall,fscore,none= precision_recall_fscore_support(y_true, y_predict, average='weighted') \n",
    "print('Precision of XGBoost: '+(str(precision)))\n",
    "print('Recall of XGBoost: '+(str(recall)))\n",
    "print('F1-score of XGBoost: '+(str(fscore)))\n",
    "print(classification_report(y_true,y_predict))\n",
    "cm=confusion_matrix(y_true,y_predict)\n",
    "f,ax=plt.subplots(figsize=(5,5))\n",
    "sns.heatmap(cm,annot=True,linewidth=0.5,linecolor=\"red\",fmt=\".0f\",ax=ax)\n",
    "plt.xlabel(\"y_pred\")\n",
    "plt.ylabel(\"y_true\")\n",
    "plt.show()"
   ]
  },
  {
   "cell_type": "markdown",
   "metadata": {},
   "source": [
    "#### Hyperparameter optimization (HPO) of XGBoost using Bayesian optimization with tree-based Parzen estimator (BO-TPE)\n",
    "Based on the GitHub repo for HPO: https://github.com/LiYangHart/Hyperparameter-Optimization-of-Machine-Learning-Algorithms"
   ]
  },
  {
   "cell_type": "code",
   "execution_count": 66,
   "metadata": {},
   "outputs": [
    {
     "name": "stdout",
     "output_type": "stream",
     "text": [
      "100%|██████████| 20/20 [00:06<00:00,  3.22trial/s, best loss: -1.0]\n",
      "XGBoost: Hyperopt estimated optimum {'learning_rate': -1.6195990081121767, 'max_depth': 68.0, 'n_estimators': 60.0}\n"
     ]
    }
   ],
   "source": [
    "from hyperopt import hp, fmin, tpe, STATUS_OK, Trials\n",
    "from sklearn.model_selection import cross_val_score, StratifiedKFold\n",
    "def objective(params):\n",
    "    params = {\n",
    "        'n_estimators': int(params['n_estimators']), \n",
    "        'max_depth': int(params['max_depth']),\n",
    "        'learning_rate':  abs(float(params['learning_rate'])),\n",
    "\n",
    "    }\n",
    "    clf = xgb.XGBClassifier( **params)\n",
    "    clf.fit(X_train, y_train)\n",
    "    y_pred = clf.predict(X_test)\n",
    "    score = accuracy_score(y_test, y_pred)\n",
    "\n",
    "    return {'loss':-score, 'status': STATUS_OK }\n",
    "\n",
    "space = {\n",
    "    'n_estimators': hp.quniform('n_estimators', 10, 100, 5),\n",
    "    'max_depth': hp.quniform('max_depth', 4, 100, 1),\n",
    "    'learning_rate': hp.normal('learning_rate', 0.01, 0.9),\n",
    "}\n",
    "\n",
    "best = fmin(fn=objective,\n",
    "            space=space,\n",
    "            algo=tpe.suggest,\n",
    "            max_evals=20)\n",
    "print(\"XGBoost: Hyperopt estimated optimum {}\".format(best))"
   ]
  },
  {
   "cell_type": "code",
   "execution_count": 67,
   "metadata": {},
   "outputs": [
    {
     "name": "stdout",
     "output_type": "stream",
     "text": [
      "Accuracy of XGBoost: 1.0\n",
      "Precision of XGBoost: 1.0\n",
      "Recall of XGBoost: 1.0\n",
      "F1-score of XGBoost: 1.0\n",
      "              precision    recall  f1-score   support\n",
      "\n",
      "           0       1.00      1.00      1.00       456\n",
      "           1       1.00      1.00      1.00       867\n",
      "           2       1.00      1.00      1.00       346\n",
      "\n",
      "    accuracy                           1.00      1669\n",
      "   macro avg       1.00      1.00      1.00      1669\n",
      "weighted avg       1.00      1.00      1.00      1669\n",
      "\n"
     ]
    },
    {
     "data": {
      "image/png": "[encoded data removed]",
      "text/plain": [
       "<Figure size 500x500 with 2 Axes>"
      ]
     },
     "metadata": {},
     "output_type": "display_data"
    }
   ],
   "source": [
    "xg = xgb.XGBClassifier(learning_rate=1.6195990081121767, n_estimators = 60, max_depth = 68)\n",
    "xg.fit(X_train,y_train)\n",
    "xg_score=xg.score(X_test,y_test)\n",
    "y_predict=xg.predict(X_test)\n",
    "y_true=y_test\n",
    "print('Accuracy of XGBoost: '+ str(xg_score))\n",
    "precision,recall,fscore,none= precision_recall_fscore_support(y_true, y_predict, average='weighted') \n",
    "print('Precision of XGBoost: '+(str(precision)))\n",
    "print('Recall of XGBoost: '+(str(recall)))\n",
    "print('F1-score of XGBoost: '+(str(fscore)))\n",
    "print(classification_report(y_true,y_predict))\n",
    "cm=confusion_matrix(y_true,y_predict)\n",
    "f,ax=plt.subplots(figsize=(5,5))\n",
    "sns.heatmap(cm,annot=True,linewidth=0.5,linecolor=\"red\",fmt=\".0f\",ax=ax)\n",
    "plt.xlabel(\"y_pred\")\n",
    "plt.ylabel(\"y_true\")\n",
    "plt.show()"
   ]
  },
  {
   "cell_type": "code",
   "execution_count": 68,
   "metadata": {},
   "outputs": [],
   "source": [
    "xg_train=xg.predict(X_train)\n",
    "xg_test=xg.predict(X_test)"
   ]
  },
  {
   "cell_type": "markdown",
   "metadata": {},
   "source": [
    "#### Apply RF"
   ]
  },
  {
   "cell_type": "code",
   "execution_count": 69,
   "metadata": {},
   "outputs": [
    {
     "name": "stdout",
     "output_type": "stream",
     "text": [
      "Accuracy of RF: 1.0\n",
      "Precision of RF: 1.0\n",
      "Recall of RF: 1.0\n",
      "F1-score of RF: 1.0\n",
      "              precision    recall  f1-score   support\n",
      "\n",
      "           0       1.00      1.00      1.00       456\n",
      "           1       1.00      1.00      1.00       867\n",
      "           2       1.00      1.00      1.00       346\n",
      "\n",
      "    accuracy                           1.00      1669\n",
      "   macro avg       1.00      1.00      1.00      1669\n",
      "weighted avg       1.00      1.00      1.00      1669\n",
      "\n"
     ]
    },
    {
     "data": {
      "image/png": "[encoded data removed]",
      "text/plain": [
       "<Figure size 500x500 with 2 Axes>"
      ]
     },
     "metadata": {},
     "output_type": "display_data"
    }
   ],
   "source": [
    "rf = RandomForestClassifier(random_state = 0)\n",
    "rf.fit(X_train,y_train) \n",
    "rf_score=rf.score(X_test,y_test)\n",
    "y_predict=rf.predict(X_test)\n",
    "y_true=y_test\n",
    "print('Accuracy of RF: '+ str(rf_score))\n",
    "precision,recall,fscore,none= precision_recall_fscore_support(y_true, y_predict, average='weighted') \n",
    "print('Precision of RF: '+(str(precision)))\n",
    "print('Recall of RF: '+(str(recall)))\n",
    "print('F1-score of RF: '+(str(fscore)))\n",
    "print(classification_report(y_true,y_predict))\n",
    "cm=confusion_matrix(y_true,y_predict)\n",
    "f,ax=plt.subplots(figsize=(5,5))\n",
    "sns.heatmap(cm,annot=True,linewidth=0.5,linecolor=\"red\",fmt=\".0f\",ax=ax)\n",
    "plt.xlabel(\"y_pred\")\n",
    "plt.ylabel(\"y_true\")\n",
    "plt.show()"
   ]
  },
  {
   "cell_type": "markdown",
   "metadata": {},
   "source": [
    "#### Hyperparameter optimization (HPO) of random forest using Bayesian optimization with tree-based Parzen estimator (BO-TPE)\n",
    "Based on the GitHub repo for HPO: https://github.com/LiYangHart/Hyperparameter-Optimization-of-Machine-Learning-Algorithms"
   ]
  },
  {
   "cell_type": "code",
   "execution_count": 70,
   "metadata": {},
   "outputs": [
    {
     "name": "stdout",
     "output_type": "stream",
     "text": [
      "100%|██████████| 20/20 [00:19<00:00,  1.01trial/s, best loss: -1.0]\n",
      "Random Forest: Hyperopt estimated optimum {'criterion': 0, 'max_depth': 28.0, 'max_features': 4.0, 'min_samples_leaf': 1.0, 'min_samples_split': 7.0, 'n_estimators': 152.0}\n"
     ]
    }
   ],
   "source": [
    "# Hyperparameter optimization of random forest\n",
    "from hyperopt import hp, fmin, tpe, STATUS_OK, Trials\n",
    "from sklearn.model_selection import cross_val_score, StratifiedKFold\n",
    "# Define the objective function\n",
    "def objective(params):\n",
    "    params = {\n",
    "        'n_estimators': int(params['n_estimators']), \n",
    "        'max_depth': int(params['max_depth']),\n",
    "        'max_features': int(params['max_features']),\n",
    "        \"min_samples_split\":int(params['min_samples_split']),\n",
    "        \"min_samples_leaf\":int(params['min_samples_leaf']),\n",
    "        \"criterion\":str(params['criterion'])\n",
    "    }\n",
    "    clf = RandomForestClassifier( **params)\n",
    "    clf.fit(X_train,y_train)\n",
    "    score=clf.score(X_test,y_test)\n",
    "\n",
    "    return {'loss':-score, 'status': STATUS_OK }\n",
    "# Define the hyperparameter configuration space\n",
    "space = {\n",
    "    'n_estimators': hp.quniform('n_estimators', 10, 200, 1),\n",
    "    'max_depth': hp.quniform('max_depth', 5, 50, 1),\n",
    "    \"max_features\":hp.quniform('max_features', 1, 20, 1),\n",
    "    \"min_samples_split\":hp.quniform('min_samples_split',2,11,1),\n",
    "    \"min_samples_leaf\":hp.quniform('min_samples_leaf',1,11,1),\n",
    "    \"criterion\":hp.choice('criterion',['gini','entropy'])\n",
    "}\n",
    "\n",
    "best = fmin(fn=objective,\n",
    "            space=space,\n",
    "            algo=tpe.suggest,\n",
    "            max_evals=20)\n",
    "print(\"Random Forest: Hyperopt estimated optimum {}\".format(best))"
   ]
  },
  {
   "cell_type": "code",
   "execution_count": 71,
   "metadata": {},
   "outputs": [
    {
     "name": "stdout",
     "output_type": "stream",
     "text": [
      "Accuracy of RF: 1.0\n",
      "Precision of RF: 1.0\n",
      "Recall of RF: 1.0\n",
      "F1-score of RF: 1.0\n",
      "              precision    recall  f1-score   support\n",
      "\n",
      "           0       1.00      1.00      1.00       456\n",
      "           1       1.00      1.00      1.00       867\n",
      "           2       1.00      1.00      1.00       346\n",
      "\n",
      "    accuracy                           1.00      1669\n",
      "   macro avg       1.00      1.00      1.00      1669\n",
      "weighted avg       1.00      1.00      1.00      1669\n",
      "\n"
     ]
    },
    {
     "data": {
      "image/png": "[encoded data removed]",
      "text/plain": [
       "<Figure size 500x500 with 2 Axes>"
      ]
     },
     "metadata": {},
     "output_type": "display_data"
    }
   ],
   "source": [
    "rf_hpo = RandomForestClassifier(n_estimators = 152, min_samples_leaf = 1, max_depth = 28, min_samples_split = 7, max_features = 4, criterion = 'gini')\n",
    "rf_hpo.fit(X_train,y_train)\n",
    "rf_score=rf_hpo.score(X_test,y_test)\n",
    "y_predict=rf_hpo.predict(X_test)\n",
    "y_true=y_test\n",
    "print('Accuracy of RF: '+ str(rf_score))\n",
    "precision,recall,fscore,none= precision_recall_fscore_support(y_true, y_predict, average='weighted') \n",
    "print('Precision of RF: '+(str(precision)))\n",
    "print('Recall of RF: '+(str(recall)))\n",
    "print('F1-score of RF: '+(str(fscore)))\n",
    "print(classification_report(y_true,y_predict))\n",
    "cm=confusion_matrix(y_true,y_predict)\n",
    "f,ax=plt.subplots(figsize=(5,5))\n",
    "sns.heatmap(cm,annot=True,linewidth=0.5,linecolor=\"red\",fmt=\".0f\",ax=ax)\n",
    "plt.xlabel(\"y_pred\")\n",
    "plt.ylabel(\"y_true\")\n",
    "plt.show()"
   ]
  },
  {
   "cell_type": "code",
   "execution_count": 72,
   "metadata": {},
   "outputs": [],
   "source": [
    "rf_train=rf_hpo.predict(X_train)\n",
    "rf_test=rf_hpo.predict(X_test)"
   ]
  },
  {
   "cell_type": "markdown",
   "metadata": {},
   "source": [
    "#### Apply DT"
   ]
  },
  {
   "cell_type": "code",
   "execution_count": 73,
   "metadata": {},
   "outputs": [
    {
     "name": "stdout",
     "output_type": "stream",
     "text": [
      "Accuracy of DT: 1.0\n",
      "Precision of DT: 1.0\n",
      "Recall of DT: 1.0\n",
      "F1-score of DT: 1.0\n",
      "              precision    recall  f1-score   support\n",
      "\n",
      "           0       1.00      1.00      1.00       456\n",
      "           1       1.00      1.00      1.00       867\n",
      "           2       1.00      1.00      1.00       346\n",
      "\n",
      "    accuracy                           1.00      1669\n",
      "   macro avg       1.00      1.00      1.00      1669\n",
      "weighted avg       1.00      1.00      1.00      1669\n",
      "\n"
     ]
    },
    {
     "data": {
      "image/png": "[encoded data removed]",
      "text/plain": [
       "<Figure size 500x500 with 2 Axes>"
      ]
     },
     "metadata": {},
     "output_type": "display_data"
    }
   ],
   "source": [
    "dt = DecisionTreeClassifier(random_state = 0)\n",
    "dt.fit(X_train,y_train) \n",
    "dt_score=dt.score(X_test,y_test)\n",
    "y_predict=dt.predict(X_test)\n",
    "y_true=y_test\n",
    "print('Accuracy of DT: '+ str(dt_score))\n",
    "precision,recall,fscore,none= precision_recall_fscore_support(y_true, y_predict, average='weighted') \n",
    "print('Precision of DT: '+(str(precision)))\n",
    "print('Recall of DT: '+(str(recall)))\n",
    "print('F1-score of DT: '+(str(fscore)))\n",
    "print(classification_report(y_true,y_predict))\n",
    "cm=confusion_matrix(y_true,y_predict)\n",
    "f,ax=plt.subplots(figsize=(5,5))\n",
    "sns.heatmap(cm,annot=True,linewidth=0.5,linecolor=\"red\",fmt=\".0f\",ax=ax)\n",
    "plt.xlabel(\"y_pred\")\n",
    "plt.ylabel(\"y_true\")\n",
    "plt.show()"
   ]
  },
  {
   "cell_type": "markdown",
   "metadata": {},
   "source": [
    "#### Hyperparameter optimization (HPO) of decision tree using Bayesian optimization with tree-based Parzen estimator (BO-TPE)\n",
    "Based on the GitHub repo for HPO: https://github.com/LiYangHart/Hyperparameter-Optimization-of-Machine-Learning-Algorithms"
   ]
  },
  {
   "cell_type": "code",
   "execution_count": 75,
   "metadata": {},
   "outputs": [
    {
     "name": "stdout",
     "output_type": "stream",
     "text": [
      "  0%|          | 0/50 [00:00<?, ?trial/s, best loss=?]"
     ]
    },
    {
     "name": "stdout",
     "output_type": "stream",
     "text": [
      "100%|██████████| 50/50 [00:02<00:00, 23.93trial/s, best loss: -1.0]\n",
      "Decision tree: Hyperopt estimated optimum {'criterion': 0, 'max_depth': 41.0, 'max_features': 9.0, 'min_samples_leaf': 8.0, 'min_samples_split': 3.0}\n"
     ]
    }
   ],
   "source": [
    "# Hyperparameter optimization of decision tree\n",
    "from hyperopt import hp, fmin, tpe, STATUS_OK, Trials\n",
    "from sklearn.model_selection import cross_val_score, StratifiedKFold\n",
    "# Define the objective function\n",
    "def objective(params):\n",
    "    params = {\n",
    "        'max_depth': int(params['max_depth']),\n",
    "        'max_features': int(params['max_features']),\n",
    "        \"min_samples_split\":int(params['min_samples_split']),\n",
    "        \"min_samples_leaf\":int(params['min_samples_leaf']),\n",
    "        \"criterion\":str(params['criterion'])\n",
    "    }\n",
    "    clf = DecisionTreeClassifier( **params)\n",
    "    clf.fit(X_train,y_train)\n",
    "    score=clf.score(X_test,y_test)\n",
    "\n",
    "    return {'loss':-score, 'status': STATUS_OK }\n",
    "# Define the hyperparameter configuration space\n",
    "space = {\n",
    "    'max_depth': hp.quniform('max_depth', 5, 50, 1),\n",
    "    \"max_features\":hp.quniform('max_features', 1, 20, 1),\n",
    "    \"min_samples_split\":hp.quniform('min_samples_split',2,11,1),\n",
    "    \"min_samples_leaf\":hp.quniform('min_samples_leaf',1,11,1),\n",
    "    \"criterion\":hp.choice('criterion',['gini','entropy'])\n",
    "}\n",
    "\n",
    "best = fmin(fn=objective,\n",
    "            space=space,\n",
    "            algo=tpe.suggest,\n",
    "            max_evals=50)\n",
    "print(\"Decision tree: Hyperopt estimated optimum {}\".format(best))"
   ]
  },
  {
   "cell_type": "code",
   "execution_count": 76,
   "metadata": {},
   "outputs": [
    {
     "name": "stdout",
     "output_type": "stream",
     "text": [
      "Accuracy of DT: 1.0\n",
      "Precision of DT: 1.0\n",
      "Recall of DT: 1.0\n",
      "F1-score of DT: 1.0\n",
      "              precision    recall  f1-score   support\n",
      "\n",
      "           0       1.00      1.00      1.00       456\n",
      "           1       1.00      1.00      1.00       867\n",
      "           2       1.00      1.00      1.00       346\n",
      "\n",
      "    accuracy                           1.00      1669\n",
      "   macro avg       1.00      1.00      1.00      1669\n",
      "weighted avg       1.00      1.00      1.00      1669\n",
      "\n"
     ]
    },
    {
     "data": {
      "image/png": "[encoded data removed]",
      "text/plain": [
       "<Figure size 500x500 with 2 Axes>"
      ]
     },
     "metadata": {},
     "output_type": "display_data"
    }
   ],
   "source": [
    "dt_hpo = DecisionTreeClassifier(min_samples_leaf = 8, max_depth = 41, min_samples_split = 3, max_features = 9, criterion = 'gini')\n",
    "dt_hpo.fit(X_train,y_train)\n",
    "dt_score=dt_hpo.score(X_test,y_test)\n",
    "y_predict=dt_hpo.predict(X_test)\n",
    "y_true=y_test\n",
    "print('Accuracy of DT: '+ str(dt_score))\n",
    "precision,recall,fscore,none= precision_recall_fscore_support(y_true, y_predict, average='weighted') \n",
    "print('Precision of DT: '+(str(precision)))\n",
    "print('Recall of DT: '+(str(recall)))\n",
    "print('F1-score of DT: '+(str(fscore)))\n",
    "print(classification_report(y_true,y_predict))\n",
    "cm=confusion_matrix(y_true,y_predict)\n",
    "f,ax=plt.subplots(figsize=(5,5))\n",
    "sns.heatmap(cm,annot=True,linewidth=0.5,linecolor=\"red\",fmt=\".0f\",ax=ax)\n",
    "plt.xlabel(\"y_pred\")\n",
    "plt.ylabel(\"y_true\")\n",
    "plt.show()"
   ]
  },
  {
   "cell_type": "code",
   "execution_count": 77,
   "metadata": {},
   "outputs": [],
   "source": [
    "dt_train=dt_hpo.predict(X_train)\n",
    "dt_test=dt_hpo.predict(X_test)"
   ]
  },
  {
   "cell_type": "code",
   "execution_count": 78,
   "metadata": {},
   "outputs": [
    {
     "name": "stdout",
     "output_type": "stream",
     "text": [
      "Accuracy of ET: 1.0\n",
      "Precision of ET: 1.0\n",
      "Recall of ET: 1.0\n",
      "F1-score of ET: 1.0\n",
      "              precision    recall  f1-score   support\n",
      "\n",
      "           0       1.00      1.00      1.00       456\n",
      "           1       1.00      1.00      1.00       867\n",
      "           2       1.00      1.00      1.00       346\n",
      "\n",
      "    accuracy                           1.00      1669\n",
      "   macro avg       1.00      1.00      1.00      1669\n",
      "weighted avg       1.00      1.00      1.00      1669\n",
      "\n"
     ]
    },
    {
     "data": {
      "image/png": "[encoded data removed]",
      "text/plain": [
       "<Figure size 500x500 with 2 Axes>"
      ]
     },
     "metadata": {},
     "output_type": "display_data"
    }
   ],
   "source": [
    "et = ExtraTreesClassifier(random_state = 0)\n",
    "et.fit(X_train,y_train) \n",
    "et_score=et.score(X_test,y_test)\n",
    "y_predict=et.predict(X_test)\n",
    "y_true=y_test\n",
    "print('Accuracy of ET: '+ str(et_score))\n",
    "precision,recall,fscore,none= precision_recall_fscore_support(y_true, y_predict, average='weighted') \n",
    "print('Precision of ET: '+(str(precision)))\n",
    "print('Recall of ET: '+(str(recall)))\n",
    "print('F1-score of ET: '+(str(fscore)))\n",
    "print(classification_report(y_true,y_predict))\n",
    "cm=confusion_matrix(y_true,y_predict)\n",
    "f,ax=plt.subplots(figsize=(5,5))\n",
    "sns.heatmap(cm,annot=True,linewidth=0.5,linecolor=\"red\",fmt=\".0f\",ax=ax)\n",
    "plt.xlabel(\"y_pred\")\n",
    "plt.ylabel(\"y_true\")\n",
    "plt.show()"
   ]
  },
  {
   "cell_type": "markdown",
   "metadata": {},
   "source": [
    "#### Hyperparameter optimization (HPO) of extra trees using Bayesian optimization with tree-based Parzen estimator (BO-TPE)\n",
    "Based on the GitHub repo for HPO: https://github.com/LiYangHart/Hyperparameter-Optimization-of-Machine-Learning-Algorithms"
   ]
  },
  {
   "cell_type": "code",
   "execution_count": 79,
   "metadata": {},
   "outputs": [
    {
     "name": "stdout",
     "output_type": "stream",
     "text": [
      "100%|██████████| 20/20 [00:12<00:00,  1.57trial/s, best loss: -1.0]\n",
      "Random Forest: Hyperopt estimated optimum {'criterion': 1, 'max_depth': 44.0, 'max_features': 7.0, 'min_samples_leaf': 4.0, 'min_samples_split': 10.0, 'n_estimators': 59.0}\n"
     ]
    }
   ],
   "source": [
    "# Hyperparameter optimization of extra trees\n",
    "from hyperopt import hp, fmin, tpe, STATUS_OK, Trials\n",
    "from sklearn.model_selection import cross_val_score, StratifiedKFold\n",
    "# Define the objective function\n",
    "def objective(params):\n",
    "    params = {\n",
    "        'n_estimators': int(params['n_estimators']), \n",
    "        'max_depth': int(params['max_depth']),\n",
    "        'max_features': int(params['max_features']),\n",
    "        \"min_samples_split\":int(params['min_samples_split']),\n",
    "        \"min_samples_leaf\":int(params['min_samples_leaf']),\n",
    "        \"criterion\":str(params['criterion'])\n",
    "    }\n",
    "    clf = ExtraTreesClassifier( **params)\n",
    "    clf.fit(X_train,y_train)\n",
    "    score=clf.score(X_test,y_test)\n",
    "\n",
    "    return {'loss':-score, 'status': STATUS_OK }\n",
    "# Define the hyperparameter configuration space\n",
    "space = {\n",
    "    'n_estimators': hp.quniform('n_estimators', 10, 200, 1),\n",
    "    'max_depth': hp.quniform('max_depth', 5, 50, 1),\n",
    "    \"max_features\":hp.quniform('max_features', 1, 20, 1),\n",
    "    \"min_samples_split\":hp.quniform('min_samples_split',2,11,1),\n",
    "    \"min_samples_leaf\":hp.quniform('min_samples_leaf',1,11,1),\n",
    "    \"criterion\":hp.choice('criterion',['gini','entropy'])\n",
    "}\n",
    "\n",
    "best = fmin(fn=objective,\n",
    "            space=space,\n",
    "            algo=tpe.suggest,\n",
    "            max_evals=20)\n",
    "print(\"Random Forest: Hyperopt estimated optimum {}\".format(best))"
   ]
  },
  {
   "cell_type": "code",
   "execution_count": 80,
   "metadata": {},
   "outputs": [
    {
     "name": "stdout",
     "output_type": "stream",
     "text": [
      "Accuracy of ET: 1.0\n",
      "Precision of ET: 1.0\n",
      "Recall of ET: 1.0\n",
      "F1-score of ET: 1.0\n",
      "              precision    recall  f1-score   support\n",
      "\n",
      "           0       1.00      1.00      1.00       456\n",
      "           1       1.00      1.00      1.00       867\n",
      "           2       1.00      1.00      1.00       346\n",
      "\n",
      "    accuracy                           1.00      1669\n",
      "   macro avg       1.00      1.00      1.00      1669\n",
      "weighted avg       1.00      1.00      1.00      1669\n",
      "\n"
     ]
    },
    {
     "data": {
      "image/png": "[encoded data removed]",
      "text/plain": [
       "<Figure size 500x500 with 2 Axes>"
      ]
     },
     "metadata": {},
     "output_type": "display_data"
    }
   ],
   "source": [
    "et_hpo = ExtraTreesClassifier(n_estimators = 59, min_samples_leaf = 4, max_depth = 44, min_samples_split = 10, max_features = 7, criterion = 'entropy')\n",
    "et_hpo.fit(X_train,y_train) \n",
    "et_score=et_hpo.score(X_test,y_test)\n",
    "y_predict=et_hpo.predict(X_test)\n",
    "y_true=y_test\n",
    "print('Accuracy of ET: '+ str(et_score))\n",
    "precision,recall,fscore,none= precision_recall_fscore_support(y_true, y_predict, average='weighted') \n",
    "print('Precision of ET: '+(str(precision)))\n",
    "print('Recall of ET: '+(str(recall)))\n",
    "print('F1-score of ET: '+(str(fscore)))\n",
    "print(classification_report(y_true,y_predict))\n",
    "cm=confusion_matrix(y_true,y_predict)\n",
    "f,ax=plt.subplots(figsize=(5,5))\n",
    "sns.heatmap(cm,annot=True,linewidth=0.5,linecolor=\"red\",fmt=\".0f\",ax=ax)\n",
    "plt.xlabel(\"y_pred\")\n",
    "plt.ylabel(\"y_true\")\n",
    "plt.show()"
   ]
  },
  {
   "cell_type": "code",
   "execution_count": 81,
   "metadata": {},
   "outputs": [],
   "source": [
    "et_train=et_hpo.predict(X_train)\n",
    "et_test=et_hpo.predict(X_test)"
   ]
  },
  {
   "cell_type": "markdown",
   "metadata": {},
   "source": [
    "### Apply Stacking\n",
    "The ensemble model that combines the four ML models (DT, RF, ET, XGBoost)"
   ]
  },
  {
   "cell_type": "code",
   "execution_count": 82,
   "metadata": {},
   "outputs": [
    {
     "data": {
      "text/html": [
       "<div>\n",
       "<style scoped>\n",
       "    .dataframe tbody tr th:only-of-type {\n",
       "        vertical-align: middle;\n",
       "    }\n",
       "\n",
       "    .dataframe tbody tr th {\n",
       "        vertical-align: top;\n",
       "    }\n",
       "\n",
       "    .dataframe thead th {\n",
       "        text-align: right;\n",
       "    }\n",
       "</style>\n",
       "<table border=\"1\" class=\"dataframe\">\n",
       "  <thead>\n",
       "    <tr style=\"text-align: right;\">\n",
       "      <th></th>\n",
       "      <th>DecisionTree</th>\n",
       "      <th>RandomForest</th>\n",
       "      <th>ExtraTrees</th>\n",
       "      <th>XgBoost</th>\n",
       "    </tr>\n",
       "  </thead>\n",
       "  <tbody>\n",
       "    <tr>\n",
       "      <th>0</th>\n",
       "      <td>0</td>\n",
       "      <td>0</td>\n",
       "      <td>0</td>\n",
       "      <td>0</td>\n",
       "    </tr>\n",
       "    <tr>\n",
       "      <th>1</th>\n",
       "      <td>1</td>\n",
       "      <td>1</td>\n",
       "      <td>1</td>\n",
       "      <td>1</td>\n",
       "    </tr>\n",
       "    <tr>\n",
       "      <th>2</th>\n",
       "      <td>1</td>\n",
       "      <td>1</td>\n",
       "      <td>1</td>\n",
       "      <td>1</td>\n",
       "    </tr>\n",
       "    <tr>\n",
       "      <th>3</th>\n",
       "      <td>0</td>\n",
       "      <td>0</td>\n",
       "      <td>0</td>\n",
       "      <td>0</td>\n",
       "    </tr>\n",
       "    <tr>\n",
       "      <th>4</th>\n",
       "      <td>0</td>\n",
       "      <td>0</td>\n",
       "      <td>0</td>\n",
       "      <td>0</td>\n",
       "    </tr>\n",
       "  </tbody>\n",
       "</table>\n",
       "</div>"
      ],
      "text/plain": [
       "   DecisionTree  RandomForest  ExtraTrees  XgBoost\n",
       "0             0             0           0        0\n",
       "1             1             1           1        1\n",
       "2             1             1           1        1\n",
       "3             0             0           0        0\n",
       "4             0             0           0        0"
      ]
     },
     "execution_count": 82,
     "metadata": {},
     "output_type": "execute_result"
    }
   ],
   "source": [
    "base_predictions_train = pd.DataFrame( {\n",
    "    'DecisionTree': dt_train.ravel(),\n",
    "        'RandomForest': rf_train.ravel(),\n",
    "     'ExtraTrees': et_train.ravel(),\n",
    "     'XgBoost': xg_train.ravel(),\n",
    "    })\n",
    "base_predictions_train.head(5)"
   ]
  },
  {
   "cell_type": "code",
   "execution_count": 83,
   "metadata": {},
   "outputs": [],
   "source": [
    "dt_train=dt_train.reshape(-1, 1)\n",
    "et_train=et_train.reshape(-1, 1)\n",
    "rf_train=rf_train.reshape(-1, 1)\n",
    "xg_train=xg_train.reshape(-1, 1)\n",
    "dt_test=dt_test.reshape(-1, 1)\n",
    "et_test=et_test.reshape(-1, 1)\n",
    "rf_test=rf_test.reshape(-1, 1)\n",
    "xg_test=xg_test.reshape(-1, 1)"
   ]
  },
  {
   "cell_type": "code",
   "execution_count": 84,
   "metadata": {},
   "outputs": [
    {
     "data": {
      "text/plain": [
       "(7464, 1)"
      ]
     },
     "execution_count": 84,
     "metadata": {},
     "output_type": "execute_result"
    }
   ],
   "source": [
    "dt_train.shape"
   ]
  },
  {
   "cell_type": "code",
   "execution_count": 85,
   "metadata": {},
   "outputs": [],
   "source": [
    "x_train = np.concatenate(( dt_train, et_train, rf_train, xg_train), axis=1)\n",
    "x_test = np.concatenate(( dt_test, et_test, rf_test, xg_test), axis=1)"
   ]
  },
  {
   "cell_type": "code",
   "execution_count": 86,
   "metadata": {},
   "outputs": [
    {
     "name": "stdout",
     "output_type": "stream",
     "text": [
      "Accuracy of Stacking: 1.0\n",
      "Precision of Stacking: 1.0\n",
      "Recall of Stacking: 1.0\n",
      "F1-score of Stacking: 1.0\n",
      "              precision    recall  f1-score   support\n",
      "\n",
      "           0       1.00      1.00      1.00       456\n",
      "           1       1.00      1.00      1.00       867\n",
      "           2       1.00      1.00      1.00       346\n",
      "\n",
      "    accuracy                           1.00      1669\n",
      "   macro avg       1.00      1.00      1.00      1669\n",
      "weighted avg       1.00      1.00      1.00      1669\n",
      "\n"
     ]
    },
    {
     "data": {
      "image/png": "[encoded data removed]",
      "text/plain": [
       "<Figure size 500x500 with 2 Axes>"
      ]
     },
     "metadata": {},
     "output_type": "display_data"
    }
   ],
   "source": [
    "stk = xgb.XGBClassifier().fit(x_train, y_train)\n",
    "y_predict=stk.predict(x_test)\n",
    "y_true=y_test\n",
    "stk_score=accuracy_score(y_true,y_predict)\n",
    "print('Accuracy of Stacking: '+ str(stk_score))\n",
    "precision,recall,fscore,none= precision_recall_fscore_support(y_true, y_predict, average='weighted') \n",
    "print('Precision of Stacking: '+(str(precision)))\n",
    "print('Recall of Stacking: '+(str(recall)))\n",
    "print('F1-score of Stacking: '+(str(fscore)))\n",
    "print(classification_report(y_true,y_predict))\n",
    "cm=confusion_matrix(y_true,y_predict)\n",
    "f,ax=plt.subplots(figsize=(5,5))\n",
    "sns.heatmap(cm,annot=True,linewidth=0.5,linecolor=\"red\",fmt=\".0f\",ax=ax)\n",
    "plt.xlabel(\"y_pred\")\n",
    "plt.ylabel(\"y_true\")\n",
    "plt.show()"
   ]
  },
  {
   "cell_type": "markdown",
   "metadata": {},
   "source": [
    "#### Hyperparameter optimization (HPO) of the stacking ensemble model (XGBoost) using Bayesian optimization with tree-based Parzen estimator (BO-TPE)\n",
    "Based on the GitHub repo for HPO: https://github.com/LiYangHart/Hyperparameter-Optimization-of-Machine-Learning-Algorithms"
   ]
  },
  {
   "cell_type": "code",
   "execution_count": 88,
   "metadata": {},
   "outputs": [
    {
     "name": "stdout",
     "output_type": "stream",
     "text": [
      "100%|██████████| 20/20 [00:04<00:00,  4.02trial/s, best loss: -1.0]\n",
      "XGBoost: Hyperopt estimated optimum {'learning_rate': -0.17216490553505023, 'max_depth': 70.0, 'n_estimators': 65.0}\n"
     ]
    }
   ],
   "source": [
    "from hyperopt import hp, fmin, tpe, STATUS_OK, Trials\n",
    "from sklearn.model_selection import cross_val_score, StratifiedKFold\n",
    "def objective(params):\n",
    "    params = {\n",
    "        'n_estimators': int(params['n_estimators']), \n",
    "        'max_depth': int(params['max_depth']),\n",
    "        'learning_rate':  abs(float(params['learning_rate'])),\n",
    "\n",
    "    }\n",
    "    clf = xgb.XGBClassifier( **params)\n",
    "    clf.fit(x_train, y_train)\n",
    "    y_pred = clf.predict(x_test)\n",
    "    score = accuracy_score(y_test, y_pred)\n",
    "\n",
    "    return {'loss':-score, 'status': STATUS_OK }\n",
    "\n",
    "space = {\n",
    "    'n_estimators': hp.quniform('n_estimators', 10, 100, 5),\n",
    "    'max_depth': hp.quniform('max_depth', 4, 100, 1),\n",
    "    'learning_rate': hp.normal('learning_rate', 0.01, 0.9),\n",
    "}\n",
    "\n",
    "best = fmin(fn=objective,\n",
    "            space=space,\n",
    "            algo=tpe.suggest,\n",
    "            max_evals=20)\n",
    "print(\"XGBoost: Hyperopt estimated optimum {}\".format(best))"
   ]
  },
  {
   "cell_type": "code",
   "execution_count": 89,
   "metadata": {},
   "outputs": [
    {
     "name": "stdout",
     "output_type": "stream",
     "text": [
      "Accuracy of XGBoost: 1.0\n",
      "Precision of XGBoost: 1.0\n",
      "Recall of XGBoost: 1.0\n",
      "F1-score of XGBoost: 1.0\n",
      "              precision    recall  f1-score   support\n",
      "\n",
      "           0       1.00      1.00      1.00       456\n",
      "           1       1.00      1.00      1.00       867\n",
      "           2       1.00      1.00      1.00       346\n",
      "\n",
      "    accuracy                           1.00      1669\n",
      "   macro avg       1.00      1.00      1.00      1669\n",
      "weighted avg       1.00      1.00      1.00      1669\n",
      "\n"
     ]
    },
    {
     "data": {
      "image/png": "[encoded data removed]",
      "text/plain": [
       "<Figure size 500x500 with 2 Axes>"
      ]
     },
     "metadata": {},
     "output_type": "display_data"
    }
   ],
   "source": [
    "xg = xgb.XGBClassifier(learning_rate=0.17216490553505023, n_estimators = 65, max_depth = 70)\n",
    "xg.fit(x_train,y_train)\n",
    "xg_score=xg.score(x_test,y_test)\n",
    "y_predict=xg.predict(x_test)\n",
    "y_true=y_test\n",
    "print('Accuracy of XGBoost: '+ str(xg_score))\n",
    "precision,recall,fscore,none= precision_recall_fscore_support(y_true, y_predict, average='weighted') \n",
    "print('Precision of XGBoost: '+(str(precision)))\n",
    "print('Recall of XGBoost: '+(str(recall)))\n",
    "print('F1-score of XGBoost: '+(str(fscore)))\n",
    "print(classification_report(y_true,y_predict))\n",
    "cm=confusion_matrix(y_true,y_predict)\n",
    "f,ax=plt.subplots(figsize=(5,5))\n",
    "sns.heatmap(cm,annot=True,linewidth=0.5,linecolor=\"red\",fmt=\".0f\",ax=ax)\n",
    "plt.xlabel(\"y_pred\")\n",
    "plt.ylabel(\"y_true\")\n",
    "plt.show()"
   ]
  },
  {
   "cell_type": "markdown",
   "metadata": {},
   "source": [
    "## Anomaly-based IDS"
   ]
  },
  {
   "cell_type": "markdown",
   "metadata": {},
   "source": [
    "### Generate the BOT datasets for unknown attack detection"
   ]
  },
  {
   "cell_type": "code",
   "execution_count": 90,
   "metadata": {},
   "outputs": [],
   "source": [
    "df=pd.read_csv('./20180221/02-21-2018_small_km.csv')"
   ]
  },
  {
   "cell_type": "code",
   "execution_count": 91,
   "metadata": {},
   "outputs": [
    {
     "data": {
      "text/plain": [
       "Label\n",
       "1    4331\n",
       "0    2281\n",
       "2    1730\n",
       "Name: count, dtype: int64"
      ]
     },
     "execution_count": 91,
     "metadata": {},
     "output_type": "execute_result"
    }
   ],
   "source": [
    "df.Label.value_counts()"
   ]
  },
  {
   "cell_type": "code",
   "execution_count": 93,
   "metadata": {},
   "outputs": [
    {
     "name": "stderr",
     "output_type": "stream",
     "text": [
      "C:\\Users\\Admin\\AppData\\Local\\Temp\\ipykernel_10056\\2742587256.py:2: FutureWarning: ChainedAssignmentError: behaviour will change in pandas 3.0!\n",
      "You are setting values through chained assignment. Currently this works in certain cases, but when using Copy-on-Write (which will become the default behaviour in pandas 3.0) this will never work to update the original DataFrame or Series, because the intermediate object on which we are setting values will behave as a copy.\n",
      "A typical example is when you are setting values in a column of a DataFrame, like:\n",
      "\n",
      "df[\"col\"][row_indexer] = value\n",
      "\n",
      "Use `df.loc[row_indexer, \"col\"] = values` instead, to perform the assignment in a single step and ensure this keeps updating the original `df`.\n",
      "\n",
      "See the caveats in the documentation: https://pandas.pydata.org/pandas-docs/stable/user_guide/indexing.html#returning-a-view-versus-a-copy\n",
      "\n",
      "  df1['Label'][df1['Label'] > 0] = 1\n",
      "C:\\Users\\Admin\\AppData\\Local\\Temp\\ipykernel_10056\\2742587256.py:2: SettingWithCopyWarning: \n",
      "A value is trying to be set on a copy of a slice from a DataFrame\n",
      "\n",
      "See the caveats in the documentation: https://pandas.pydata.org/pandas-docs/stable/user_guide/indexing.html#returning-a-view-versus-a-copy\n",
      "  df1['Label'][df1['Label'] > 0] = 1\n",
      "C:\\Users\\Admin\\AppData\\Local\\Temp\\ipykernel_10056\\2742587256.py:2: SettingWithCopyWarning: \n",
      "A value is trying to be set on a copy of a slice from a DataFrame\n",
      "\n",
      "See the caveats in the documentation: https://pandas.pydata.org/pandas-docs/stable/user_guide/indexing.html#returning-a-view-versus-a-copy\n",
      "  df1['Label'][df1['Label'] > 0] = 1\n"
     ]
    }
   ],
   "source": [
    "df1 = df[df['Label'] != 2]\n",
    "df1['Label'][df1['Label'] > 0] = 1\n",
    "df1.to_csv('./20180221/02-21-2018_small_km_without_LOIC.csv',index=0)"
   ]
  },
  {
   "cell_type": "code",
   "execution_count": 94,
   "metadata": {},
   "outputs": [
    {
     "name": "stderr",
     "output_type": "stream",
     "text": [
      "C:\\Users\\Admin\\AppData\\Local\\Temp\\ipykernel_10056\\3127232144.py:2: FutureWarning: ChainedAssignmentError: behaviour will change in pandas 3.0!\n",
      "You are setting values through chained assignment. Currently this works in certain cases, but when using Copy-on-Write (which will become the default behaviour in pandas 3.0) this will never work to update the original DataFrame or Series, because the intermediate object on which we are setting values will behave as a copy.\n",
      "A typical example is when you are setting values in a column of a DataFrame, like:\n",
      "\n",
      "df[\"col\"][row_indexer] = value\n",
      "\n",
      "Use `df.loc[row_indexer, \"col\"] = values` instead, to perform the assignment in a single step and ensure this keeps updating the original `df`.\n",
      "\n",
      "See the caveats in the documentation: https://pandas.pydata.org/pandas-docs/stable/user_guide/indexing.html#returning-a-view-versus-a-copy\n",
      "\n",
      "  df2['Label'][df2['Label'] == 2] = 1\n",
      "C:\\Users\\Admin\\AppData\\Local\\Temp\\ipykernel_10056\\3127232144.py:2: SettingWithCopyWarning: \n",
      "A value is trying to be set on a copy of a slice from a DataFrame\n",
      "\n",
      "See the caveats in the documentation: https://pandas.pydata.org/pandas-docs/stable/user_guide/indexing.html#returning-a-view-versus-a-copy\n",
      "  df2['Label'][df2['Label'] == 2] = 1\n",
      "C:\\Users\\Admin\\AppData\\Local\\Temp\\ipykernel_10056\\3127232144.py:2: SettingWithCopyWarning: \n",
      "A value is trying to be set on a copy of a slice from a DataFrame\n",
      "\n",
      "See the caveats in the documentation: https://pandas.pydata.org/pandas-docs/stable/user_guide/indexing.html#returning-a-view-versus-a-copy\n",
      "  df2['Label'][df2['Label'] == 2] = 1\n"
     ]
    }
   ],
   "source": [
    "df2 = df[df['Label'] == 2]\n",
    "df2['Label'][df2['Label'] == 2] = 1\n",
    "df2.to_csv('./20180221/02-21-2018_small_km_LOIC.csv',index=0)"
   ]
  },
  {
   "cell_type": "markdown",
   "metadata": {},
   "source": [
    "### Read the generated datasets for unknown attack detection"
   ]
  },
  {
   "cell_type": "code",
   "execution_count": 103,
   "metadata": {},
   "outputs": [],
   "source": [
    "df1 = pd.read_csv('./20180221/02-21-2018_small_km_without_LOIC.csv')"
   ]
  },
  {
   "cell_type": "code",
   "execution_count": 104,
   "metadata": {},
   "outputs": [],
   "source": [
    "df2 = pd.read_csv('./20180221/02-21-2018_small_km_LOIC.csv')"
   ]
  },
  {
   "cell_type": "code",
   "execution_count": 105,
   "metadata": {},
   "outputs": [],
   "source": [
    "features = df1.drop(['Label'],axis=1).dtypes[df1.dtypes != 'object'].index\n",
    "df1[features] = df1[features].apply(\n",
    "    lambda x: (x - x.mean()) / (x.std()))\n",
    "df2[features] = df2[features].apply(\n",
    "    lambda x: (x - x.mean()) / (x.std()))\n",
    "df1 = df1.fillna(0)\n",
    "df2 = df2.fillna(0)"
   ]
  },
  {
   "cell_type": "code",
   "execution_count": 106,
   "metadata": {},
   "outputs": [
    {
     "data": {
      "text/plain": [
       "Label\n",
       "1    4331\n",
       "0    2281\n",
       "Name: count, dtype: int64"
      ]
     },
     "execution_count": 106,
     "metadata": {},
     "output_type": "execute_result"
    }
   ],
   "source": [
    "df1.Label.value_counts()"
   ]
  },
  {
   "cell_type": "code",
   "execution_count": 107,
   "metadata": {},
   "outputs": [
    {
     "data": {
      "text/plain": [
       "Label\n",
       "1    1730\n",
       "Name: count, dtype: int64"
      ]
     },
     "execution_count": 107,
     "metadata": {},
     "output_type": "execute_result"
    }
   ],
   "source": [
    "df2.Label.value_counts()"
   ]
  },
  {
   "cell_type": "code",
   "execution_count": 108,
   "metadata": {},
   "outputs": [],
   "source": [
    "df2p=df1[df1['Label']==0]\n",
    "df2pp=df2p.sample(n=None, frac=1730/2281, replace=False, weights=None, random_state=None, axis=0)\n",
    "df2=pd.concat([df2, df2pp])"
   ]
  },
  {
   "cell_type": "code",
   "execution_count": 109,
   "metadata": {},
   "outputs": [
    {
     "data": {
      "text/plain": [
       "Label\n",
       "1    1730\n",
       "0    1730\n",
       "Name: count, dtype: int64"
      ]
     },
     "execution_count": 109,
     "metadata": {},
     "output_type": "execute_result"
    }
   ],
   "source": [
    "df2.Label.value_counts()"
   ]
  },
  {
   "cell_type": "code",
   "execution_count": 110,
   "metadata": {},
   "outputs": [],
   "source": [
    "df = pd.concat([df1, df2], ignore_index=True)"
   ]
  },
  {
   "cell_type": "code",
   "execution_count": 111,
   "metadata": {},
   "outputs": [
    {
     "data": {
      "text/plain": [
       "(10072, 79)"
      ]
     },
     "execution_count": 111,
     "metadata": {},
     "output_type": "execute_result"
    }
   ],
   "source": [
    "df.shape"
   ]
  },
  {
   "cell_type": "code",
   "execution_count": 112,
   "metadata": {},
   "outputs": [
    {
     "data": {
      "text/plain": [
       "(10072, 1)"
      ]
     },
     "execution_count": 112,
     "metadata": {},
     "output_type": "execute_result"
    }
   ],
   "source": [
    "X = df.drop(['Label'],axis=1) .values\n",
    "y = df.iloc[:, -1].values.reshape(-1,1)\n",
    "y.shape\n"
   ]
  },
  {
   "cell_type": "code",
   "execution_count": 113,
   "metadata": {},
   "outputs": [
    {
     "data": {
      "text/plain": [
       "(10072,)"
      ]
     },
     "execution_count": 113,
     "metadata": {},
     "output_type": "execute_result"
    }
   ],
   "source": [
    "y=np.ravel(y)\n",
    "y.shape"
   ]
  },
  {
   "cell_type": "code",
   "execution_count": 114,
   "metadata": {},
   "outputs": [
    {
     "data": {
      "text/plain": [
       "1    6061\n",
       "0    4011\n",
       "Name: count, dtype: int64"
      ]
     },
     "execution_count": 114,
     "metadata": {},
     "output_type": "execute_result"
    }
   ],
   "source": [
    "pd.Series(y).value_counts()"
   ]
  },
  {
   "cell_type": "code",
   "execution_count": 115,
   "metadata": {},
   "outputs": [
    {
     "data": {
      "text/plain": [
       "(10072,)"
      ]
     },
     "execution_count": 115,
     "metadata": {},
     "output_type": "execute_result"
    }
   ],
   "source": [
    "y.shape"
   ]
  },
  {
   "cell_type": "markdown",
   "metadata": {},
   "source": [
    "### Feature engineering (IG, FCBF, and KPCA)"
   ]
  },
  {
   "cell_type": "markdown",
   "metadata": {},
   "source": [
    "#### Feature selection by information gain (IG)"
   ]
  },
  {
   "cell_type": "code",
   "execution_count": 116,
   "metadata": {},
   "outputs": [],
   "source": [
    "from sklearn.feature_selection import mutual_info_classif\n",
    "importances = mutual_info_classif(X, y)"
   ]
  },
  {
   "cell_type": "code",
   "execution_count": 117,
   "metadata": {},
   "outputs": [],
   "source": [
    "# calculate the sum of importance scores\n",
    "f_list = sorted(zip(map(lambda x: round(x, 4), importances), features), reverse=True)\n",
    "Sum = 0\n",
    "fs = []\n",
    "for i in range(0, len(f_list)):\n",
    "    Sum = Sum + f_list[i][0]\n",
    "    fs.append(f_list[i][1])"
   ]
  },
  {
   "cell_type": "code",
   "execution_count": 118,
   "metadata": {},
   "outputs": [],
   "source": [
    "# select the important features from top to bottom until the accumulated importance reaches 90%\n",
    "f_list2 = sorted(zip(map(lambda x: round(x, 4), importances/Sum), features), reverse=True)\n",
    "Sum2 = 0\n",
    "fs = []\n",
    "for i in range(0, len(f_list2)):\n",
    "    Sum2 = Sum2 + f_list2[i][0]\n",
    "    fs.append(f_list2[i][1])\n",
    "    if Sum2>=0.9:\n",
    "        break        "
   ]
  },
  {
   "cell_type": "code",
   "execution_count": 119,
   "metadata": {},
   "outputs": [],
   "source": [
    "X_fs = df[fs].values"
   ]
  },
  {
   "cell_type": "code",
   "execution_count": 120,
   "metadata": {},
   "outputs": [
    {
     "data": {
      "text/plain": [
       "(10072, 46)"
      ]
     },
     "execution_count": 120,
     "metadata": {},
     "output_type": "execute_result"
    }
   ],
   "source": [
    "X_fs.shape"
   ]
  },
  {
   "cell_type": "code",
   "execution_count": 121,
   "metadata": {},
   "outputs": [
    {
     "data": {
      "text/plain": [
       "(10072,)"
      ]
     },
     "execution_count": 121,
     "metadata": {},
     "output_type": "execute_result"
    }
   ],
   "source": [
    "y.shape"
   ]
  },
  {
   "cell_type": "code",
   "execution_count": 122,
   "metadata": {},
   "outputs": [
    {
     "data": {
      "text/plain": [
       "array([[-2.58865677e-02, -8.59095208e-01, -9.26744223e-01, ...,\n",
       "        -1.89239998e-01, -2.72663766e-01, -4.99394306e-02],\n",
       "       [-2.61594368e-02, -8.59095208e-01, -9.26744223e-01, ...,\n",
       "        -1.82489344e-01, -2.66183746e-01, -5.01382544e-02],\n",
       "       [-2.57107372e-02, -8.59095208e-01, -9.26744223e-01, ...,\n",
       "        -1.93093585e-01, -2.76362862e-01, -4.98113131e-02],\n",
       "       ...,\n",
       "       [-2.96362366e-02,  1.34716626e+00,  1.27208549e+00, ...,\n",
       "        -1.09417074e-01, -1.32302344e-01, -4.92692311e-02],\n",
       "       [ 1.61920870e+00, -7.83586794e-01, -5.50473898e-01, ...,\n",
       "        -2.75401500e-01, -3.55371058e-01,  1.80771574e+01],\n",
       "       [ 4.66649729e+01, -8.59095208e-01, -9.26744223e-01, ...,\n",
       "        -2.75413356e-01, -3.55382438e-01,  3.39709784e+01]])"
      ]
     },
     "execution_count": 122,
     "metadata": {},
     "output_type": "execute_result"
    }
   ],
   "source": [
    "X_fs"
   ]
  },
  {
   "cell_type": "markdown",
   "metadata": {},
   "source": [
    "#### Feature selection by Fast Correlation Based Filter (FCBF)\n",
    "\n",
    "The module is imported from the GitHub repo: https://github.com/SantiagoEG/FCBF_module"
   ]
  },
  {
   "cell_type": "code",
   "execution_count": 123,
   "metadata": {},
   "outputs": [],
   "source": [
    "from FCBF_module import FCBF, FCBFK, FCBFiP, get_i\n",
    "fcbf = FCBFK(k = 20)\n",
    "#fcbf.fit(X_fs, y)"
   ]
  },
  {
   "cell_type": "code",
   "execution_count": 124,
   "metadata": {},
   "outputs": [],
   "source": [
    "X_fss = fcbf.fit_transform(X_fs,y)"
   ]
  },
  {
   "cell_type": "code",
   "execution_count": 125,
   "metadata": {},
   "outputs": [
    {
     "data": {
      "text/plain": [
       "(10072, 20)"
      ]
     },
     "execution_count": 125,
     "metadata": {},
     "output_type": "execute_result"
    }
   ],
   "source": [
    "X_fss.shape"
   ]
  },
  {
   "cell_type": "code",
   "execution_count": 126,
   "metadata": {},
   "outputs": [
    {
     "data": {
      "text/plain": [
       "array([[-0.8420697 , -0.88087554, -0.88087554, ..., -0.75476663,\n",
       "        -0.75476663, -0.93479208],\n",
       "       [-0.8420697 , -0.88087554, -0.88087554, ..., -0.75476663,\n",
       "        -0.75476663, -0.93479208],\n",
       "       [-0.8420697 , -0.88087554, -0.88087554, ..., -0.75476663,\n",
       "        -0.75476663, -0.93479208],\n",
       "       ...,\n",
       "       [ 0.38628533,  0.49425115,  0.49425115, ...,  0.10527137,\n",
       "         0.10527137,  0.56152661],\n",
       "       [-0.8420697 , -0.88087554, -0.88087554, ..., -0.75476663,\n",
       "        -0.75476663, -0.93479208],\n",
       "       [-0.8420697 , -0.88087554, -0.88087554, ..., -0.75476663,\n",
       "        -0.75476663, -0.93479208]])"
      ]
     },
     "execution_count": 126,
     "metadata": {},
     "output_type": "execute_result"
    }
   ],
   "source": [
    "X_fss"
   ]
  },
  {
   "cell_type": "markdown",
   "metadata": {},
   "source": [
    "####  kernel principal component analysis (KPCA)"
   ]
  },
  {
   "cell_type": "code",
   "execution_count": 127,
   "metadata": {},
   "outputs": [],
   "source": [
    "from sklearn.decomposition import KernelPCA\n",
    "kpca = KernelPCA(n_components = 10, kernel = 'rbf')\n",
    "kpca.fit(X_fss, y)\n",
    "X_kpca = kpca.transform(X_fss)\n",
    "\n",
    "# from sklearn.decomposition import PCA\n",
    "# kpca = PCA(n_components = 10)\n",
    "# kpca.fit(X_fss, y)\n",
    "# X_kpca = kpca.transform(X_fss)"
   ]
  },
  {
   "cell_type": "markdown",
   "metadata": {},
   "source": [
    "### Train-test split after feature selection"
   ]
  },
  {
   "cell_type": "code",
   "execution_count": 128,
   "metadata": {},
   "outputs": [],
   "source": [
    "X_train = X_kpca[:len(df1)]\n",
    "y_train = y[:len(df1)]\n",
    "X_test = X_kpca[len(df1):]\n",
    "y_test = y[len(df1):]"
   ]
  },
  {
   "cell_type": "code",
   "execution_count": 129,
   "metadata": {},
   "outputs": [
    {
     "data": {
      "text/plain": [
       "1    4331\n",
       "0    2281\n",
       "Name: count, dtype: int64"
      ]
     },
     "execution_count": 129,
     "metadata": {},
     "output_type": "execute_result"
    }
   ],
   "source": [
    "pd.Series(y_train).value_counts()"
   ]
  },
  {
   "cell_type": "code",
   "execution_count": 130,
   "metadata": {},
   "outputs": [
    {
     "name": "stderr",
     "output_type": "stream",
     "text": [
      "c:\\Users\\Admin\\AppData\\Local\\Programs\\Python\\Python312\\Lib\\site-packages\\imblearn\\over_sampling\\_smote\\base.py:370: FutureWarning: The parameter `n_jobs` has been deprecated in 0.10 and will be removed in 0.12. You can pass an nearest neighbors estimator where `n_jobs` is already set instead.\n",
      "  warnings.warn(\n"
     ]
    }
   ],
   "source": [
    "from imblearn.over_sampling import SMOTE\n",
    "smote=SMOTE(n_jobs=-1,sampling_strategy={0:4331})\n",
    "X_train, y_train = smote.fit_resample(X_train, y_train)"
   ]
  },
  {
   "cell_type": "code",
   "execution_count": 131,
   "metadata": {},
   "outputs": [
    {
     "data": {
      "text/plain": [
       "1    4331\n",
       "0    4331\n",
       "Name: count, dtype: int64"
      ]
     },
     "execution_count": 131,
     "metadata": {},
     "output_type": "execute_result"
    }
   ],
   "source": [
    "pd.Series(y_train).value_counts()"
   ]
  },
  {
   "cell_type": "code",
   "execution_count": 132,
   "metadata": {},
   "outputs": [
    {
     "data": {
      "text/plain": [
       "1    1730\n",
       "0    1730\n",
       "Name: count, dtype: int64"
      ]
     },
     "execution_count": 132,
     "metadata": {},
     "output_type": "execute_result"
    }
   ],
   "source": [
    "pd.Series(y_test).value_counts()"
   ]
  },
  {
   "cell_type": "markdown",
   "metadata": {},
   "source": [
    "### Apply the cluster labeling (CL) k-means method"
   ]
  },
  {
   "cell_type": "code",
   "execution_count": 133,
   "metadata": {},
   "outputs": [],
   "source": [
    "from sklearn.cluster import KMeans\n",
    "from sklearn.cluster import DBSCAN,MeanShift\n",
    "from sklearn.cluster import SpectralClustering,AgglomerativeClustering,AffinityPropagation,Birch,MiniBatchKMeans,MeanShift \n",
    "from sklearn.mixture import GaussianMixture, BayesianGaussianMixture\n",
    "from sklearn.metrics import classification_report\n",
    "from sklearn import metrics"
   ]
  },
  {
   "cell_type": "code",
   "execution_count": 134,
   "metadata": {},
   "outputs": [],
   "source": [
    "def CL_kmeans(X_train, X_test, y_train, y_test,n,b=100):\n",
    "    km_cluster = MiniBatchKMeans(n_clusters=n,batch_size=b)\n",
    "    result = km_cluster.fit_predict(X_train)\n",
    "    result2 = km_cluster.predict(X_test)\n",
    "\n",
    "    count=0\n",
    "    a=np.zeros(n)\n",
    "    b=np.zeros(n)\n",
    "    for v in range(0,n):\n",
    "        for i in range(0,len(y_train)):\n",
    "            if result[i]==v:\n",
    "                if y_train[i]==1:\n",
    "                    a[v]=a[v]+1\n",
    "                else:\n",
    "                    b[v]=b[v]+1\n",
    "    list1=[]\n",
    "    list2=[]\n",
    "    for v in range(0,n):\n",
    "        if a[v]<=b[v]:\n",
    "            list1.append(v)\n",
    "        else: \n",
    "            list2.append(v)\n",
    "    for v in range(0,len(y_test)):\n",
    "        if result2[v] in list1:\n",
    "            result2[v]=0\n",
    "        elif result2[v] in list2:\n",
    "            result2[v]=1\n",
    "        else:\n",
    "            print(\"-1\")\n",
    "    print(classification_report(y_test, result2))\n",
    "    cm=confusion_matrix(y_test,result2)\n",
    "    acc=metrics.accuracy_score(y_test,result2)\n",
    "    print(str(acc))\n",
    "    print(cm)"
   ]
  },
  {
   "cell_type": "code",
   "execution_count": 136,
   "metadata": {},
   "outputs": [
    {
     "name": "stdout",
     "output_type": "stream",
     "text": [
      "              precision    recall  f1-score   support\n",
      "\n",
      "           0       1.00      0.99      1.00      1730\n",
      "           1       0.99      1.00      1.00      1730\n",
      "\n",
      "    accuracy                           1.00      3460\n",
      "   macro avg       1.00      1.00      1.00      3460\n",
      "weighted avg       1.00      1.00      1.00      3460\n",
      "\n",
      "0.9950867052023121\n",
      "[[1713   17]\n",
      " [   0 1730]]\n"
     ]
    }
   ],
   "source": [
    "CL_kmeans(X_train, X_test, y_train, y_test, 8)"
   ]
  },
  {
   "cell_type": "markdown",
   "metadata": {},
   "source": [
    "### Hyperparameter optimization of CL-k-means\n",
    "Tune \"k\""
   ]
  },
  {
   "cell_type": "code",
   "execution_count": 137,
   "metadata": {},
   "outputs": [
    {
     "name": "stdout",
     "output_type": "stream",
     "text": [
      "30 0.4997109826589595\n",
      "43 0.5\n",
      "43 0.5\n",
      "43 0.5\n",
      "32 0.5\n",
      "20 0.5\n",
      "16 0.5\n",
      "5 0.9898843930635838\n",
      "15 0.9884393063583815\n",
      "25 0.5\n",
      "2 0.9719653179190751\n"
     ]
    },
    {
     "name": "stderr",
     "output_type": "stream",
     "text": [
      "c:\\Users\\Admin\\AppData\\Local\\Programs\\Python\\Python312\\Lib\\site-packages\\skopt\\optimizer\\optimizer.py:517: UserWarning: The objective has been evaluated at point [2] before, using random point [42]\n",
      "  warnings.warn(\n"
     ]
    },
    {
     "name": "stdout",
     "output_type": "stream",
     "text": [
      "42 0.5\n"
     ]
    },
    {
     "name": "stderr",
     "output_type": "stream",
     "text": [
      "c:\\Users\\Admin\\AppData\\Local\\Programs\\Python\\Python312\\Lib\\site-packages\\skopt\\optimizer\\optimizer.py:517: UserWarning: The objective has been evaluated at point [2] before, using random point [16]\n",
      "  warnings.warn(\n"
     ]
    },
    {
     "name": "stdout",
     "output_type": "stream",
     "text": [
      "16 0.9898843930635838\n"
     ]
    },
    {
     "name": "stderr",
     "output_type": "stream",
     "text": [
      "c:\\Users\\Admin\\AppData\\Local\\Programs\\Python\\Python312\\Lib\\site-packages\\skopt\\optimizer\\optimizer.py:517: UserWarning: The objective has been evaluated at point [2] before, using random point [18]\n",
      "  warnings.warn(\n"
     ]
    },
    {
     "name": "stdout",
     "output_type": "stream",
     "text": [
      "18 0.5\n"
     ]
    },
    {
     "name": "stderr",
     "output_type": "stream",
     "text": [
      "c:\\Users\\Admin\\AppData\\Local\\Programs\\Python\\Python312\\Lib\\site-packages\\skopt\\optimizer\\optimizer.py:517: UserWarning: The objective has been evaluated at point [2] before, using random point [8]\n",
      "  warnings.warn(\n"
     ]
    },
    {
     "name": "stdout",
     "output_type": "stream",
     "text": [
      "8 0.9898843930635838\n",
      "4 0.4997109826589595\n"
     ]
    },
    {
     "name": "stderr",
     "output_type": "stream",
     "text": [
      "c:\\Users\\Admin\\AppData\\Local\\Programs\\Python\\Python312\\Lib\\site-packages\\skopt\\optimizer\\optimizer.py:517: UserWarning: The objective has been evaluated at point [2] before, using random point [10]\n",
      "  warnings.warn(\n"
     ]
    },
    {
     "name": "stdout",
     "output_type": "stream",
     "text": [
      "10 0.5\n"
     ]
    },
    {
     "name": "stderr",
     "output_type": "stream",
     "text": [
      "c:\\Users\\Admin\\AppData\\Local\\Programs\\Python\\Python312\\Lib\\site-packages\\skopt\\optimizer\\optimizer.py:517: UserWarning: The objective has been evaluated at point [2] before, using random point [38]\n",
      "  warnings.warn(\n"
     ]
    },
    {
     "name": "stdout",
     "output_type": "stream",
     "text": [
      "38 0.5\n"
     ]
    },
    {
     "name": "stderr",
     "output_type": "stream",
     "text": [
      "c:\\Users\\Admin\\AppData\\Local\\Programs\\Python\\Python312\\Lib\\site-packages\\skopt\\optimizer\\optimizer.py:517: UserWarning: The objective has been evaluated at point [2] before, using random point [17]\n",
      "  warnings.warn(\n"
     ]
    },
    {
     "name": "stdout",
     "output_type": "stream",
     "text": [
      "17 0.9722543352601156\n"
     ]
    },
    {
     "name": "stderr",
     "output_type": "stream",
     "text": [
      "c:\\Users\\Admin\\AppData\\Local\\Programs\\Python\\Python312\\Lib\\site-packages\\skopt\\optimizer\\optimizer.py:517: UserWarning: The objective has been evaluated at point [2] before, using random point [11]\n",
      "  warnings.warn(\n"
     ]
    },
    {
     "name": "stdout",
     "output_type": "stream",
     "text": [
      "11 0.5\n",
      "14.144593477249146\n",
      "Best score=0.9899\n",
      "Best parameters: n_clusters=5\n"
     ]
    }
   ],
   "source": [
    "#Hyperparameter optimization by BO-GP\n",
    "from skopt.space import Real, Integer\n",
    "from skopt.utils import use_named_args\n",
    "from sklearn import metrics\n",
    "\n",
    "space  = [Integer(2, 50, name='n_clusters')]\n",
    "@use_named_args(space)\n",
    "def objective(**params):\n",
    "    km_cluster = MiniBatchKMeans(batch_size=100, **params)\n",
    "    n=params['n_clusters']\n",
    "    \n",
    "    result = km_cluster.fit_predict(X_train)\n",
    "    result2 = km_cluster.predict(X_test)\n",
    "\n",
    "    count=0\n",
    "    a=np.zeros(n)\n",
    "    b=np.zeros(n)\n",
    "    for v in range(0,n):\n",
    "        for i in range(0,len(y_train)):\n",
    "            if result[i]==v:\n",
    "                if y_train[i]==1:\n",
    "                    a[v]=a[v]+1\n",
    "                else:\n",
    "                    b[v]=b[v]+1\n",
    "    list1=[]\n",
    "    list2=[]\n",
    "    for v in range(0,n):\n",
    "        if a[v]<=b[v]:\n",
    "            list1.append(v)\n",
    "        else: \n",
    "            list2.append(v)\n",
    "    for v in range(0,len(y_test)):\n",
    "        if result2[v] in list1:\n",
    "            result2[v]=0\n",
    "        elif result2[v] in list2:\n",
    "            result2[v]=1\n",
    "        else:\n",
    "            print(\"-1\")\n",
    "    cm=metrics.accuracy_score(y_test,result2)\n",
    "    print(str(n)+\" \"+str(cm))\n",
    "    return (1-cm)\n",
    "from skopt import gp_minimize\n",
    "import time\n",
    "t1=time.time()\n",
    "res_gp = gp_minimize(objective, space, n_calls=20, random_state=0)\n",
    "t2=time.time()\n",
    "print(t2-t1)\n",
    "print(\"Best score=%.4f\" % (1-res_gp.fun))\n",
    "print(\"\"\"Best parameters: n_clusters=%d\"\"\" % (res_gp.x[0]))"
   ]
  },
  {
   "cell_type": "code",
   "execution_count": 138,
   "metadata": {},
   "outputs": [
    {
     "name": "stdout",
     "output_type": "stream",
     "text": [
      "22 0.5                                                \n",
      "38 0.5                                                           \n",
      "49 0.5                                                           \n",
      "10 0.8653179190751445                                            \n",
      "25 0.9867052023121388                                                            \n",
      "44 0.5                                                                            \n",
      "17 0.5                                                                            \n",
      "29 0.5                                                                            \n",
      "18 0.9598265895953757                                                             \n",
      "47 0.5                                                                            \n",
      "33 0.5                                                                             \n",
      "40 0.8973988439306358                                                              \n",
      "21 0.9670520231213873                                                              \n",
      "41 0.5                                                                             \n",
      "10 0.9898843930635838                                                              \n",
      "41 0.5                                                                             \n",
      "22 0.5                                                                             \n",
      "12 0.9895953757225433                                                              \n",
      "21 0.9592485549132947                                                              \n",
      "3 0.9910404624277457                                                               \n",
      "100%|██████████| 20/20 [00:06<00:00,  3.24trial/s, best loss: 0.008959537572254317]\n",
      "Random Forest: Hyperopt estimated optimum {'n_clusters': 3.0}\n"
     ]
    }
   ],
   "source": [
    "#Hyperparameter optimization by BO-TPE\n",
    "from hyperopt import hp, fmin, tpe, STATUS_OK, Trials\n",
    "from sklearn.model_selection import cross_val_score, StratifiedKFold\n",
    "from sklearn.cluster import MiniBatchKMeans\n",
    "from sklearn import metrics\n",
    "\n",
    "def objective(params):\n",
    "    params = {\n",
    "        'n_clusters': int(params['n_clusters']), \n",
    "    }\n",
    "    km_cluster = MiniBatchKMeans(batch_size=100, **params)\n",
    "    n=params['n_clusters']\n",
    "    \n",
    "    result = km_cluster.fit_predict(X_train)\n",
    "    result2 = km_cluster.predict(X_test)\n",
    "\n",
    "    count=0\n",
    "    a=np.zeros(n)\n",
    "    b=np.zeros(n)\n",
    "    for v in range(0,n):\n",
    "        for i in range(0,len(y_train)):\n",
    "            if result[i]==v:\n",
    "                if y_train[i]==1:\n",
    "                    a[v]=a[v]+1\n",
    "                else:\n",
    "                    b[v]=b[v]+1\n",
    "    list1=[]\n",
    "    list2=[]\n",
    "    for v in range(0,n):\n",
    "        if a[v]<=b[v]:\n",
    "            list1.append(v)\n",
    "        else: \n",
    "            list2.append(v)\n",
    "    for v in range(0,len(y_test)):\n",
    "        if result2[v] in list1:\n",
    "            result2[v]=0\n",
    "        elif result2[v] in list2:\n",
    "            result2[v]=1\n",
    "        else:\n",
    "            print(\"-1\")\n",
    "    score=metrics.accuracy_score(y_test,result2)\n",
    "    print(str(params['n_clusters'])+\" \"+str(score))\n",
    "    return {'loss':1-score, 'status': STATUS_OK }\n",
    "space = {\n",
    "    'n_clusters': hp.quniform('n_clusters', 2, 50, 1),\n",
    "}\n",
    "\n",
    "best = fmin(fn=objective,\n",
    "            space=space,\n",
    "            algo=tpe.suggest,\n",
    "            max_evals=20)\n",
    "print(\"Random Forest: Hyperopt estimated optimum {}\".format(best))"
   ]
  },
  {
   "cell_type": "code",
   "execution_count": 141,
   "metadata": {},
   "outputs": [
    {
     "name": "stdout",
     "output_type": "stream",
     "text": [
      "Kết quả với BO-GP n_clusters=5\n",
      "              precision    recall  f1-score   support\n",
      "\n",
      "           0       0.99      0.99      0.99      1730\n",
      "           1       0.99      0.99      0.99      1730\n",
      "\n",
      "    accuracy                           0.99      3460\n",
      "   macro avg       0.99      0.99      0.99      3460\n",
      "weighted avg       0.99      0.99      0.99      3460\n",
      "\n",
      "0.9901734104046243\n",
      "[[1713   17]\n",
      " [  17 1713]]\n"
     ]
    }
   ],
   "source": [
    "# Từ BO-GP\n",
    "print(\"Kết quả với BO-GP n_clusters=5\")\n",
    "CL_kmeans(X_train, X_test, y_train, y_test, n=5)"
   ]
  },
  {
   "cell_type": "markdown",
   "metadata": {},
   "source": [
    "### Apply the CL-k-means model with biased classifiers"
   ]
  },
  {
   "cell_type": "code",
   "execution_count": 142,
   "metadata": {},
   "outputs": [
    {
     "name": "stdout",
     "output_type": "stream",
     "text": [
      "Kết quả với BO-TPE n_clusters=3\n",
      "              precision    recall  f1-score   support\n",
      "\n",
      "           0       0.99      0.99      0.99      1730\n",
      "           1       0.99      0.99      0.99      1730\n",
      "\n",
      "    accuracy                           0.99      3460\n",
      "   macro avg       0.99      0.99      0.99      3460\n",
      "weighted avg       0.99      0.99      0.99      3460\n",
      "\n",
      "0.9895953757225433\n",
      "[[1713   17]\n",
      " [  19 1711]]\n"
     ]
    }
   ],
   "source": [
    "# Từ BO-TPE\n",
    "print(\"Kết quả với BO-TPE n_clusters=3\")\n",
    "CL_kmeans(X_train, X_test, y_train, y_test, n=3)"
   ]
  },
  {
   "cell_type": "markdown",
   "metadata": {},
   "source": [
    "### Apply the CL-k-means model with biased classifiers"
   ]
  },
  {
   "cell_type": "code",
   "execution_count": 143,
   "metadata": {},
   "outputs": [],
   "source": [
    "# Only a sample code to show the logic. It needs to work on the entire dataset to generate sufficient training samples for biased classifiers\n",
    "def Anomaly_IDS(X_train, X_test, y_train, y_test,n,b=100):\n",
    "    # CL-kmeans\n",
    "    km_cluster = MiniBatchKMeans(n_clusters=n,batch_size=b)\n",
    "    result = km_cluster.fit_predict(X_train)\n",
    "    result2 = km_cluster.predict(X_test)\n",
    "\n",
    "    count=0\n",
    "    a=np.zeros(n)\n",
    "    b=np.zeros(n)\n",
    "    for v in range(0,n):\n",
    "        for i in range(0,len(y_train)):\n",
    "            if result[i]==v:\n",
    "                if y_train[i]==1:\n",
    "                    a[v]=a[v]+1\n",
    "                else:\n",
    "                    b[v]=b[v]+1\n",
    "    list1=[]\n",
    "    list2=[]\n",
    "    for v in range(0,n):\n",
    "        if a[v]<=b[v]:\n",
    "            list1.append(v)\n",
    "        else: \n",
    "            list2.append(v)\n",
    "    for v in range(0,len(y_test)):\n",
    "        if result2[v] in list1:\n",
    "            result2[v]=0\n",
    "        elif result2[v] in list2:\n",
    "            result2[v]=1\n",
    "        else:\n",
    "            print(\"-1\")\n",
    "    print(classification_report(y_test, result2))\n",
    "    cm=confusion_matrix(y_test,result2)\n",
    "    acc=metrics.accuracy_score(y2,result2)\n",
    "    print(str(acc))\n",
    "    print(cm)\n",
    "    \n",
    "    #Biased classifier construction\n",
    "    count=0\n",
    "    print(len(y))\n",
    "    a=np.zeros(n)\n",
    "    b=np.zeros(n)\n",
    "    FNL=[]\n",
    "    FPL=[]\n",
    "    for v in range(0,n):\n",
    "        al=[]\n",
    "        bl=[]\n",
    "        for i in range(0,len(y)):   \n",
    "            if result[i]==v:        \n",
    "                if y[i]==1:        #label 1\n",
    "                    a[v]=a[v]+1\n",
    "                    al.append(i)\n",
    "                else:             #label 0\n",
    "                    b[v]=b[v]+1\n",
    "                    bl.append(i)\n",
    "        if a[v]<=b[v]:\n",
    "            FNL.extend(al)\n",
    "        else:\n",
    "            FPL.extend(bl)\n",
    "        #print(str(v)+\"=\"+str(a[v]/(a[v]+b[v])))\n",
    "        \n",
    "    dffp=df.iloc[FPL, :]\n",
    "    dffn=df.iloc[FNL, :]\n",
    "    dfva0=df[df['Label']==0]\n",
    "    dfva1=df[df['Label']==1]\n",
    "    \n",
    "    dffpp=dfva1.sample(n=None, frac=len(FPL)/dfva1.shape[0], replace=False, weights=None, random_state=None, axis=0)\n",
    "    dffnp=dfva0.sample(n=None, frac=len(FNL)/dfva0.shape[0], replace=False, weights=None, random_state=None, axis=0)\n",
    "    \n",
    "    dffp_f=pd.concat([dffp, dffpp])\n",
    "    dffn_f=pd.concat([dffn, dffnp])\n",
    "    \n",
    "    Xp = dffp_f.drop(['Label'],axis=1)  \n",
    "    yp = dffp_f.iloc[:, -1].values.reshape(-1,1)\n",
    "    yp=np.ravel(yp)\n",
    "\n",
    "    Xn = dffn_f.drop(['Label'],axis=1)  \n",
    "    yn = dffn_f.iloc[:, -1].values.reshape(-1,1)\n",
    "    yn=np.ravel(yn)\n",
    "    \n",
    "    rfp = RandomForestClassifier(random_state = 0)\n",
    "    rfp.fit(Xp,yp)\n",
    "    rfn = RandomForestClassifier(random_state = 0)\n",
    "    rfn.fit(Xn,yn)\n",
    "\n",
    "    dffnn_f=pd.concat([dffn, dffnp])\n",
    "    \n",
    "    Xnn = dffn_f.drop(['Label'],axis=1)  \n",
    "    ynn = dffn_f.iloc[:, -1].values.reshape(-1,1)\n",
    "    ynn=np.ravel(ynn)\n",
    "\n",
    "    rfnn = RandomForestClassifier(random_state = 0)\n",
    "    rfnn.fit(Xnn,ynn)\n",
    "\n",
    "    X2p = df2.drop(['Label'],axis=1) \n",
    "    y2p = df2.iloc[:, -1].values.reshape(-1,1)\n",
    "    y2p=np.ravel(y2p)\n",
    "\n",
    "    result2 = km_cluster.predict(X2p)\n",
    "\n",
    "    count=0\n",
    "    a=np.zeros(n)\n",
    "    b=np.zeros(n)\n",
    "    for v in range(0,n):\n",
    "        for i in range(0,len(y)):\n",
    "            if result[i]==v:\n",
    "                if y[i]==1:\n",
    "                    a[v]=a[v]+1\n",
    "                else:\n",
    "                    b[v]=b[v]+1\n",
    "    list1=[]\n",
    "    list2=[]\n",
    "    l1=[]\n",
    "    l0=[]\n",
    "    for v in range(0,n):\n",
    "        if a[v]<=b[v]:\n",
    "            list1.append(v)\n",
    "        else: \n",
    "            list2.append(v)\n",
    "    for v in range(0,len(y2p)):\n",
    "        if result2[v] in list1:\n",
    "            result2[v]=0\n",
    "            l0.append(v)\n",
    "        elif result2[v] in list2:\n",
    "            result2[v]=1\n",
    "            l1.append(v)\n",
    "        else:\n",
    "            print(\"-1\")\n",
    "    print(classification_report(y2p, result2))\n",
    "    cm=confusion_matrix(y2p,result2)\n",
    "    print(cm)"
   ]
  },
  {
   "cell_type": "code",
   "execution_count": null,
   "metadata": {},
   "outputs": [],
   "source": []
  }
 ],
 "metadata": {
  "kernelspec": {
   "display_name": "Python 3",
   "language": "python",
   "name": "python3"
  },
  "language_info": {
   "codemirror_mode": {
    "name": "ipython",
    "version": 3
   },
   "file_extension": ".py",
   "mimetype": "text/x-python",
   "name": "python",
   "nbconvert_exporter": "python",
   "pygments_lexer": "ipython3",
   "version": "3.12.7"
  }
 },
 "nbformat": 4,
 "nbformat_minor": 2
}
