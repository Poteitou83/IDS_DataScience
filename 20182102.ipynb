{
 "cells": [
  {
   "cell_type": "code",
   "execution_count": 9,
   "metadata": {},
   "outputs": [],
   "source": [
    "import warnings\n",
    "warnings.filterwarnings(\"ignore\")"
   ]
  },
  {
   "cell_type": "code",
   "execution_count": 10,
   "metadata": {},
   "outputs": [
    {
     "name": "stdout",
     "output_type": "stream",
     "text": [
      "Collecting xgboost\n",
      "  Downloading xgboost-2.1.3-py3-none-win_amd64.whl.metadata (2.1 kB)\n",
      "Requirement already satisfied: numpy in c:\\users\\admin\\anaconda3\\lib\\site-packages (from xgboost) (1.26.4)\n",
      "Requirement already satisfied: scipy in c:\\users\\admin\\anaconda3\\lib\\site-packages (from xgboost) (1.13.1)\n",
      "Downloading xgboost-2.1.3-py3-none-win_amd64.whl (124.9 MB)\n",
      "   ---------------------------------------- 0.0/124.9 MB ? eta -:--:--\n",
      "   ---------------------------------------- 0.0/124.9 MB ? eta -:--:--\n",
      "   ---------------------------------------- 0.0/124.9 MB ? eta -:--:--\n",
      "   ---------------------------------------- 0.0/124.9 MB 393.8 kB/s eta 0:05:18\n",
      "   ---------------------------------------- 0.2/124.9 MB 1.4 MB/s eta 0:01:30\n",
      "   ---------------------------------------- 0.5/124.9 MB 2.8 MB/s eta 0:00:45\n",
      "   ---------------------------------------- 1.5/124.9 MB 6.4 MB/s eta 0:00:20\n",
      "    --------------------------------------- 2.3/124.9 MB 8.5 MB/s eta 0:00:15\n",
      "   - -------------------------------------- 3.7/124.9 MB 11.3 MB/s eta 0:00:11\n",
      "   - -------------------------------------- 4.8/124.9 MB 12.8 MB/s eta 0:00:10\n",
      "   - -------------------------------------- 5.9/124.9 MB 13.9 MB/s eta 0:00:09\n",
      "   -- ------------------------------------- 7.0/124.9 MB 14.9 MB/s eta 0:00:08\n",
      "   -- ------------------------------------- 8.1/124.9 MB 15.6 MB/s eta 0:00:08\n",
      "   -- ------------------------------------- 9.1/124.9 MB 16.5 MB/s eta 0:00:08\n",
      "   --- ------------------------------------ 10.1/124.9 MB 17.1 MB/s eta 0:00:07\n",
      "   --- ------------------------------------ 11.3/124.9 MB 23.4 MB/s eta 0:00:05\n",
      "   --- ------------------------------------ 12.3/124.9 MB 23.4 MB/s eta 0:00:05\n",
      "   ---- ----------------------------------- 12.7/124.9 MB 24.2 MB/s eta 0:00:05\n",
      "   ---- ----------------------------------- 13.1/124.9 MB 21.1 MB/s eta 0:00:06\n",
      "   ---- ----------------------------------- 14.5/124.9 MB 21.1 MB/s eta 0:00:06\n",
      "   ----- ---------------------------------- 16.7/124.9 MB 23.4 MB/s eta 0:00:05\n",
      "   ----- ---------------------------------- 17.8/124.9 MB 23.4 MB/s eta 0:00:05\n",
      "   ------ --------------------------------- 18.9/124.9 MB 24.2 MB/s eta 0:00:05\n",
      "   ------ --------------------------------- 20.0/124.9 MB 23.4 MB/s eta 0:00:05\n",
      "   ------ --------------------------------- 21.0/124.9 MB 23.4 MB/s eta 0:00:05\n",
      "   ------- -------------------------------- 22.1/124.9 MB 23.4 MB/s eta 0:00:05\n",
      "   ------- -------------------------------- 23.2/124.9 MB 27.3 MB/s eta 0:00:04\n",
      "   ------- -------------------------------- 24.0/124.9 MB 25.2 MB/s eta 0:00:05\n",
      "   ------- -------------------------------- 24.8/124.9 MB 25.2 MB/s eta 0:00:04\n",
      "   -------- ------------------------------- 25.4/124.9 MB 24.3 MB/s eta 0:00:05\n",
      "   -------- ------------------------------- 26.6/124.9 MB 21.8 MB/s eta 0:00:05\n",
      "   -------- ------------------------------- 27.7/124.9 MB 21.8 MB/s eta 0:00:05\n",
      "   --------- ------------------------------ 28.7/124.9 MB 21.8 MB/s eta 0:00:05\n",
      "   --------- ------------------------------ 29.8/124.9 MB 21.8 MB/s eta 0:00:05\n",
      "   --------- ------------------------------ 30.8/124.9 MB 21.9 MB/s eta 0:00:05\n",
      "   ---------- ----------------------------- 31.8/124.9 MB 21.1 MB/s eta 0:00:05\n",
      "   ---------- ----------------------------- 32.6/124.9 MB 20.5 MB/s eta 0:00:05\n",
      "   ---------- ----------------------------- 33.7/124.9 MB 21.1 MB/s eta 0:00:05\n",
      "   ----------- ---------------------------- 34.6/124.9 MB 21.1 MB/s eta 0:00:05\n",
      "   ----------- ---------------------------- 35.7/124.9 MB 23.4 MB/s eta 0:00:04\n",
      "   ----------- ---------------------------- 36.7/124.9 MB 21.8 MB/s eta 0:00:05\n",
      "   ------------ --------------------------- 37.7/124.9 MB 21.8 MB/s eta 0:00:04\n",
      "   ------------ --------------------------- 38.7/124.9 MB 21.9 MB/s eta 0:00:04\n",
      "   ------------ --------------------------- 39.6/124.9 MB 21.1 MB/s eta 0:00:05\n",
      "   ------------ --------------------------- 39.8/124.9 MB 21.1 MB/s eta 0:00:05\n",
      "   ------------ --------------------------- 39.8/124.9 MB 21.1 MB/s eta 0:00:05\n",
      "   ------------ --------------------------- 39.8/124.9 MB 21.1 MB/s eta 0:00:05\n",
      "   ------------ --------------------------- 39.8/124.9 MB 21.1 MB/s eta 0:00:05\n",
      "   ------------ --------------------------- 39.8/124.9 MB 21.1 MB/s eta 0:00:05\n",
      "   ------------ --------------------------- 39.8/124.9 MB 21.1 MB/s eta 0:00:05\n",
      "   ------------ --------------------------- 39.8/124.9 MB 21.1 MB/s eta 0:00:05\n",
      "   ------------ --------------------------- 39.8/124.9 MB 21.1 MB/s eta 0:00:05\n",
      "   ------------ --------------------------- 40.3/124.9 MB 11.7 MB/s eta 0:00:08\n",
      "   ------------- -------------------------- 42.1/124.9 MB 12.4 MB/s eta 0:00:07\n",
      "   ------------- -------------------------- 43.3/124.9 MB 12.6 MB/s eta 0:00:07\n",
      "   ------------- -------------------------- 43.3/124.9 MB 12.6 MB/s eta 0:00:07\n",
      "   -------------- ------------------------- 44.5/124.9 MB 12.1 MB/s eta 0:00:07\n",
      "   -------------- ------------------------- 45.6/124.9 MB 12.1 MB/s eta 0:00:07\n",
      "   -------------- ------------------------- 46.7/124.9 MB 12.4 MB/s eta 0:00:07\n",
      "   --------------- ------------------------ 46.9/124.9 MB 12.4 MB/s eta 0:00:07\n",
      "   --------------- ------------------------ 46.9/124.9 MB 12.4 MB/s eta 0:00:07\n",
      "   --------------- ------------------------ 48.1/124.9 MB 11.3 MB/s eta 0:00:07\n",
      "   ---------------- ----------------------- 50.0/124.9 MB 11.7 MB/s eta 0:00:07\n",
      "   ---------------- ----------------------- 50.4/124.9 MB 21.1 MB/s eta 0:00:04\n",
      "   ---------------- ----------------------- 50.4/124.9 MB 21.1 MB/s eta 0:00:04\n",
      "   ---------------- ----------------------- 51.7/124.9 MB 18.2 MB/s eta 0:00:05\n",
      "   ----------------- ---------------------- 53.2/124.9 MB 18.2 MB/s eta 0:00:04\n",
      "   ----------------- ---------------------- 54.4/124.9 MB 19.8 MB/s eta 0:00:04\n",
      "   ----------------- ---------------------- 55.2/124.9 MB 19.2 MB/s eta 0:00:04\n",
      "   ------------------ --------------------- 56.3/124.9 MB 19.3 MB/s eta 0:00:04\n",
      "   ------------------ --------------------- 57.8/124.9 MB 24.2 MB/s eta 0:00:03\n",
      "   ------------------- -------------------- 60.7/124.9 MB 26.2 MB/s eta 0:00:03\n",
      "   -------------------- ------------------- 63.6/124.9 MB 38.5 MB/s eta 0:00:02\n",
      "   --------------------- ------------------ 66.1/124.9 MB 50.4 MB/s eta 0:00:02\n",
      "   --------------------- ------------------ 68.4/124.9 MB 59.5 MB/s eta 0:00:01\n",
      "   ---------------------- ----------------- 70.5/124.9 MB 50.4 MB/s eta 0:00:02\n",
      "   ---------------------- ----------------- 71.6/124.9 MB 46.7 MB/s eta 0:00:02\n",
      "   ----------------------- ---------------- 72.6/124.9 MB 40.9 MB/s eta 0:00:02\n",
      "   ----------------------- ---------------- 73.8/124.9 MB 36.4 MB/s eta 0:00:02\n",
      "   ----------------------- ---------------- 74.9/124.9 MB 32.8 MB/s eta 0:00:02\n",
      "   ------------------------ --------------- 75.9/124.9 MB 29.7 MB/s eta 0:00:02\n",
      "   ------------------------ --------------- 76.9/124.9 MB 29.8 MB/s eta 0:00:02\n",
      "   ------------------------ --------------- 78.0/124.9 MB 27.3 MB/s eta 0:00:02\n",
      "   ------------------------- -------------- 78.9/124.9 MB 26.2 MB/s eta 0:00:02\n",
      "   ------------------------- -------------- 79.6/124.9 MB 23.4 MB/s eta 0:00:02\n",
      "   ------------------------- -------------- 80.3/124.9 MB 21.8 MB/s eta 0:00:03\n",
      "   ------------------------- -------------- 81.0/124.9 MB 21.1 MB/s eta 0:00:03\n",
      "   -------------------------- ------------- 81.6/124.9 MB 19.8 MB/s eta 0:00:03\n",
      "   -------------------------- ------------- 82.3/124.9 MB 19.3 MB/s eta 0:00:03\n",
      "   -------------------------- ------------- 83.0/124.9 MB 18.7 MB/s eta 0:00:03\n",
      "   -------------------------- ------------- 83.6/124.9 MB 18.2 MB/s eta 0:00:03\n",
      "   --------------------------- ------------ 84.3/124.9 MB 17.2 MB/s eta 0:00:03\n",
      "   --------------------------- ------------ 85.1/124.9 MB 16.8 MB/s eta 0:00:03\n",
      "   --------------------------- ------------ 85.8/124.9 MB 16.4 MB/s eta 0:00:03\n",
      "   --------------------------- ------------ 86.5/124.9 MB 16.0 MB/s eta 0:00:03\n",
      "   --------------------------- ------------ 87.2/124.9 MB 16.0 MB/s eta 0:00:03\n",
      "   ---------------------------- ----------- 87.9/124.9 MB 15.6 MB/s eta 0:00:03\n",
      "   ---------------------------- ----------- 88.5/124.9 MB 15.2 MB/s eta 0:00:03\n",
      "   ---------------------------- ----------- 88.5/124.9 MB 15.2 MB/s eta 0:00:03\n",
      "   ---------------------------- ----------- 89.3/124.9 MB 13.9 MB/s eta 0:00:03\n",
      "   ----------------------------- ---------- 90.7/124.9 MB 15.2 MB/s eta 0:00:03\n",
      "   ----------------------------- ---------- 91.4/124.9 MB 15.2 MB/s eta 0:00:03\n",
      "   ----------------------------- ---------- 91.8/124.9 MB 15.2 MB/s eta 0:00:03\n",
      "   ----------------------------- ---------- 91.8/124.9 MB 15.2 MB/s eta 0:00:03\n",
      "   ----------------------------- ---------- 91.9/124.9 MB 13.1 MB/s eta 0:00:03\n",
      "   ------------------------------ --------- 94.1/124.9 MB 15.2 MB/s eta 0:00:03\n",
      "   ------------------------------ --------- 95.0/124.9 MB 15.6 MB/s eta 0:00:02\n",
      "   ------------------------------ --------- 95.4/124.9 MB 15.6 MB/s eta 0:00:02\n",
      "   ------------------------------ --------- 95.4/124.9 MB 15.6 MB/s eta 0:00:02\n",
      "   ------------------------------ --------- 95.4/124.9 MB 13.1 MB/s eta 0:00:03\n",
      "   ------------------------------- -------- 97.5/124.9 MB 14.9 MB/s eta 0:00:02\n",
      "   ------------------------------- -------- 99.4/124.9 MB 18.2 MB/s eta 0:00:02\n",
      "   ------------------------------- -------- 99.8/124.9 MB 18.2 MB/s eta 0:00:02\n",
      "   ------------------------------- -------- 99.8/124.9 MB 18.2 MB/s eta 0:00:02\n",
      "   ------------------------------- ------- 100.8/124.9 MB 15.6 MB/s eta 0:00:02\n",
      "   -------------------------------- ------ 103.1/124.9 MB 21.1 MB/s eta 0:00:02\n",
      "   -------------------------------- ------ 104.1/124.9 MB 20.5 MB/s eta 0:00:02\n",
      "   -------------------------------- ------ 105.1/124.9 MB 19.8 MB/s eta 0:00:02\n",
      "   --------------------------------- ----- 106.0/124.9 MB 26.2 MB/s eta 0:00:01\n",
      "   --------------------------------- ----- 107.0/124.9 MB 24.2 MB/s eta 0:00:01\n",
      "   --------------------------------- ----- 108.0/124.9 MB 22.6 MB/s eta 0:00:01\n",
      "   --------------------------------- ----- 108.9/124.9 MB 21.8 MB/s eta 0:00:01\n",
      "   ---------------------------------- ---- 109.9/124.9 MB 21.1 MB/s eta 0:00:01\n",
      "   ---------------------------------- ---- 110.8/124.9 MB 25.2 MB/s eta 0:00:01\n",
      "   ---------------------------------- ---- 111.8/124.9 MB 23.4 MB/s eta 0:00:01\n",
      "   ----------------------------------- --- 112.7/124.9 MB 21.8 MB/s eta 0:00:01\n",
      "   ----------------------------------- --- 113.7/124.9 MB 21.1 MB/s eta 0:00:01\n",
      "   ----------------------------------- --- 114.7/124.9 MB 21.1 MB/s eta 0:00:01\n",
      "   ------------------------------------ -- 115.7/124.9 MB 21.1 MB/s eta 0:00:01\n",
      "   ------------------------------------ -- 116.5/124.9 MB 20.5 MB/s eta 0:00:01\n",
      "   ------------------------------------ -- 117.6/124.9 MB 20.5 MB/s eta 0:00:01\n",
      "   ------------------------------------- - 118.5/124.9 MB 20.5 MB/s eta 0:00:01\n",
      "   ------------------------------------- - 119.5/124.9 MB 20.5 MB/s eta 0:00:01\n",
      "   ------------------------------------- - 120.6/124.9 MB 21.1 MB/s eta 0:00:01\n",
      "   ------------------------------------- - 121.1/124.9 MB 21.8 MB/s eta 0:00:01\n",
      "   ------------------------------------- - 121.1/124.9 MB 21.8 MB/s eta 0:00:01\n",
      "   ------------------------------------- - 121.1/124.9 MB 17.7 MB/s eta 0:00:01\n",
      "   --------------------------------------  123.4/124.9 MB 19.9 MB/s eta 0:00:01\n",
      "   --------------------------------------  124.9/124.9 MB 20.5 MB/s eta 0:00:01\n",
      "   --------------------------------------  124.9/124.9 MB 20.5 MB/s eta 0:00:01\n",
      "   --------------------------------------  124.9/124.9 MB 20.5 MB/s eta 0:00:01\n",
      "   --------------------------------------  124.9/124.9 MB 20.5 MB/s eta 0:00:01\n",
      "   --------------------------------------  124.9/124.9 MB 20.5 MB/s eta 0:00:01\n",
      "   --------------------------------------  124.9/124.9 MB 20.5 MB/s eta 0:00:01\n",
      "   --------------------------------------  124.9/124.9 MB 20.5 MB/s eta 0:00:01\n",
      "   --------------------------------------  124.9/124.9 MB 20.5 MB/s eta 0:00:01\n",
      "   --------------------------------------  124.9/124.9 MB 20.5 MB/s eta 0:00:01\n",
      "   --------------------------------------  124.9/124.9 MB 20.5 MB/s eta 0:00:01\n",
      "   --------------------------------------  124.9/124.9 MB 20.5 MB/s eta 0:00:01\n",
      "   --------------------------------------  124.9/124.9 MB 20.5 MB/s eta 0:00:01\n",
      "   --------------------------------------  124.9/124.9 MB 20.5 MB/s eta 0:00:01\n",
      "   --------------------------------------  124.9/124.9 MB 20.5 MB/s eta 0:00:01\n",
      "   ---------------------------------------- 124.9/124.9 MB 8.1 MB/s eta 0:00:00\n",
      "Installing collected packages: xgboost\n",
      "Successfully installed xgboost-2.1.3\n"
     ]
    }
   ],
   "source": [
    "!pip install xgboost"
   ]
  },
  {
   "cell_type": "code",
   "execution_count": 11,
   "metadata": {},
   "outputs": [],
   "source": [
    "import numpy as np\n",
    "import pandas as pd\n",
    "import seaborn as sns\n",
    "import matplotlib.pyplot as plt\n",
    "from sklearn.preprocessing import LabelEncoder\n",
    "from sklearn.model_selection import train_test_split\n",
    "from sklearn.metrics import classification_report,confusion_matrix,accuracy_score,precision_recall_fscore_support\n",
    "from sklearn.metrics import f1_score,roc_auc_score\n",
    "from sklearn.ensemble import RandomForestClassifier,ExtraTreesClassifier\n",
    "from sklearn.tree import DecisionTreeClassifier\n",
    "import xgboost as xgb\n",
    "from xgboost import plot_importance"
   ]
  },
  {
   "cell_type": "code",
   "execution_count": 12,
   "metadata": {},
   "outputs": [],
   "source": [
    "#Read dataset\n",
    "df = pd.read_csv('./20180221/02-21-2018.csv') \n"
   ]
  },
  {
   "cell_type": "code",
   "execution_count": 13,
   "metadata": {},
   "outputs": [
    {
     "data": {
      "text/html": [
       "<div>\n",
       "<style scoped>\n",
       "    .dataframe tbody tr th:only-of-type {\n",
       "        vertical-align: middle;\n",
       "    }\n",
       "\n",
       "    .dataframe tbody tr th {\n",
       "        vertical-align: top;\n",
       "    }\n",
       "\n",
       "    .dataframe thead th {\n",
       "        text-align: right;\n",
       "    }\n",
       "</style>\n",
       "<table border=\"1\" class=\"dataframe\">\n",
       "  <thead>\n",
       "    <tr style=\"text-align: right;\">\n",
       "      <th></th>\n",
       "      <th>Dst Port</th>\n",
       "      <th>Protocol</th>\n",
       "      <th>Timestamp</th>\n",
       "      <th>Flow Duration</th>\n",
       "      <th>Tot Fwd Pkts</th>\n",
       "      <th>Tot Bwd Pkts</th>\n",
       "      <th>TotLen Fwd Pkts</th>\n",
       "      <th>TotLen Bwd Pkts</th>\n",
       "      <th>Fwd Pkt Len Max</th>\n",
       "      <th>Fwd Pkt Len Min</th>\n",
       "      <th>...</th>\n",
       "      <th>Fwd Seg Size Min</th>\n",
       "      <th>Active Mean</th>\n",
       "      <th>Active Std</th>\n",
       "      <th>Active Max</th>\n",
       "      <th>Active Min</th>\n",
       "      <th>Idle Mean</th>\n",
       "      <th>Idle Std</th>\n",
       "      <th>Idle Max</th>\n",
       "      <th>Idle Min</th>\n",
       "      <th>Label</th>\n",
       "    </tr>\n",
       "  </thead>\n",
       "  <tbody>\n",
       "    <tr>\n",
       "      <th>0</th>\n",
       "      <td>80</td>\n",
       "      <td>6</td>\n",
       "      <td>21/02/2018 08:33:25</td>\n",
       "      <td>37953</td>\n",
       "      <td>5</td>\n",
       "      <td>3</td>\n",
       "      <td>135</td>\n",
       "      <td>127</td>\n",
       "      <td>135</td>\n",
       "      <td>0</td>\n",
       "      <td>...</td>\n",
       "      <td>32</td>\n",
       "      <td>0.0</td>\n",
       "      <td>0.0</td>\n",
       "      <td>0</td>\n",
       "      <td>0</td>\n",
       "      <td>0.0</td>\n",
       "      <td>0.0</td>\n",
       "      <td>0</td>\n",
       "      <td>0</td>\n",
       "      <td>Benign</td>\n",
       "    </tr>\n",
       "    <tr>\n",
       "      <th>1</th>\n",
       "      <td>500</td>\n",
       "      <td>17</td>\n",
       "      <td>21/02/2018 08:33:06</td>\n",
       "      <td>117573474</td>\n",
       "      <td>3</td>\n",
       "      <td>0</td>\n",
       "      <td>1500</td>\n",
       "      <td>0</td>\n",
       "      <td>500</td>\n",
       "      <td>500</td>\n",
       "      <td>...</td>\n",
       "      <td>8</td>\n",
       "      <td>0.0</td>\n",
       "      <td>0.0</td>\n",
       "      <td>0</td>\n",
       "      <td>0</td>\n",
       "      <td>58800000.0</td>\n",
       "      <td>23800000.0</td>\n",
       "      <td>75600000</td>\n",
       "      <td>42000000</td>\n",
       "      <td>Benign</td>\n",
       "    </tr>\n",
       "    <tr>\n",
       "      <th>2</th>\n",
       "      <td>500</td>\n",
       "      <td>17</td>\n",
       "      <td>21/02/2018 08:33:06</td>\n",
       "      <td>117573474</td>\n",
       "      <td>3</td>\n",
       "      <td>0</td>\n",
       "      <td>1500</td>\n",
       "      <td>0</td>\n",
       "      <td>500</td>\n",
       "      <td>500</td>\n",
       "      <td>...</td>\n",
       "      <td>8</td>\n",
       "      <td>0.0</td>\n",
       "      <td>0.0</td>\n",
       "      <td>0</td>\n",
       "      <td>0</td>\n",
       "      <td>58800000.0</td>\n",
       "      <td>23800000.0</td>\n",
       "      <td>75600000</td>\n",
       "      <td>42000000</td>\n",
       "      <td>Benign</td>\n",
       "    </tr>\n",
       "    <tr>\n",
       "      <th>3</th>\n",
       "      <td>500</td>\n",
       "      <td>17</td>\n",
       "      <td>21/02/2018 08:33:11</td>\n",
       "      <td>99743998</td>\n",
       "      <td>5</td>\n",
       "      <td>0</td>\n",
       "      <td>2500</td>\n",
       "      <td>0</td>\n",
       "      <td>500</td>\n",
       "      <td>500</td>\n",
       "      <td>...</td>\n",
       "      <td>8</td>\n",
       "      <td>4000290.0</td>\n",
       "      <td>0.0</td>\n",
       "      <td>4000290</td>\n",
       "      <td>4000290</td>\n",
       "      <td>31900000.0</td>\n",
       "      <td>37900000.0</td>\n",
       "      <td>75600000</td>\n",
       "      <td>7200397</td>\n",
       "      <td>Benign</td>\n",
       "    </tr>\n",
       "    <tr>\n",
       "      <th>4</th>\n",
       "      <td>500</td>\n",
       "      <td>17</td>\n",
       "      <td>21/02/2018 08:33:11</td>\n",
       "      <td>99743999</td>\n",
       "      <td>5</td>\n",
       "      <td>0</td>\n",
       "      <td>2500</td>\n",
       "      <td>0</td>\n",
       "      <td>500</td>\n",
       "      <td>500</td>\n",
       "      <td>...</td>\n",
       "      <td>8</td>\n",
       "      <td>4000286.0</td>\n",
       "      <td>0.0</td>\n",
       "      <td>4000286</td>\n",
       "      <td>4000286</td>\n",
       "      <td>31900000.0</td>\n",
       "      <td>37900000.0</td>\n",
       "      <td>75600000</td>\n",
       "      <td>7200399</td>\n",
       "      <td>Benign</td>\n",
       "    </tr>\n",
       "    <tr>\n",
       "      <th>...</th>\n",
       "      <td>...</td>\n",
       "      <td>...</td>\n",
       "      <td>...</td>\n",
       "      <td>...</td>\n",
       "      <td>...</td>\n",
       "      <td>...</td>\n",
       "      <td>...</td>\n",
       "      <td>...</td>\n",
       "      <td>...</td>\n",
       "      <td>...</td>\n",
       "      <td>...</td>\n",
       "      <td>...</td>\n",
       "      <td>...</td>\n",
       "      <td>...</td>\n",
       "      <td>...</td>\n",
       "      <td>...</td>\n",
       "      <td>...</td>\n",
       "      <td>...</td>\n",
       "      <td>...</td>\n",
       "      <td>...</td>\n",
       "      <td>...</td>\n",
       "    </tr>\n",
       "    <tr>\n",
       "      <th>1048570</th>\n",
       "      <td>55484</td>\n",
       "      <td>6</td>\n",
       "      <td>21/02/2018 02:33:29</td>\n",
       "      <td>1252</td>\n",
       "      <td>5</td>\n",
       "      <td>2</td>\n",
       "      <td>935</td>\n",
       "      <td>274</td>\n",
       "      <td>935</td>\n",
       "      <td>0</td>\n",
       "      <td>...</td>\n",
       "      <td>20</td>\n",
       "      <td>0.0</td>\n",
       "      <td>0.0</td>\n",
       "      <td>0</td>\n",
       "      <td>0</td>\n",
       "      <td>0.0</td>\n",
       "      <td>0.0</td>\n",
       "      <td>0</td>\n",
       "      <td>0</td>\n",
       "      <td>Benign</td>\n",
       "    </tr>\n",
       "    <tr>\n",
       "      <th>1048571</th>\n",
       "      <td>57624</td>\n",
       "      <td>6</td>\n",
       "      <td>21/02/2018 02:33:29</td>\n",
       "      <td>19055</td>\n",
       "      <td>5</td>\n",
       "      <td>2</td>\n",
       "      <td>935</td>\n",
       "      <td>341</td>\n",
       "      <td>935</td>\n",
       "      <td>0</td>\n",
       "      <td>...</td>\n",
       "      <td>20</td>\n",
       "      <td>0.0</td>\n",
       "      <td>0.0</td>\n",
       "      <td>0</td>\n",
       "      <td>0</td>\n",
       "      <td>0.0</td>\n",
       "      <td>0.0</td>\n",
       "      <td>0</td>\n",
       "      <td>0</td>\n",
       "      <td>Benign</td>\n",
       "    </tr>\n",
       "    <tr>\n",
       "      <th>1048572</th>\n",
       "      <td>57623</td>\n",
       "      <td>6</td>\n",
       "      <td>21/02/2018 02:33:29</td>\n",
       "      <td>36677</td>\n",
       "      <td>5</td>\n",
       "      <td>2</td>\n",
       "      <td>935</td>\n",
       "      <td>341</td>\n",
       "      <td>935</td>\n",
       "      <td>0</td>\n",
       "      <td>...</td>\n",
       "      <td>20</td>\n",
       "      <td>0.0</td>\n",
       "      <td>0.0</td>\n",
       "      <td>0</td>\n",
       "      <td>0</td>\n",
       "      <td>0.0</td>\n",
       "      <td>0.0</td>\n",
       "      <td>0</td>\n",
       "      <td>0</td>\n",
       "      <td>Benign</td>\n",
       "    </tr>\n",
       "    <tr>\n",
       "      <th>1048573</th>\n",
       "      <td>57625</td>\n",
       "      <td>6</td>\n",
       "      <td>21/02/2018 02:33:29</td>\n",
       "      <td>1849</td>\n",
       "      <td>5</td>\n",
       "      <td>2</td>\n",
       "      <td>935</td>\n",
       "      <td>341</td>\n",
       "      <td>935</td>\n",
       "      <td>0</td>\n",
       "      <td>...</td>\n",
       "      <td>20</td>\n",
       "      <td>0.0</td>\n",
       "      <td>0.0</td>\n",
       "      <td>0</td>\n",
       "      <td>0</td>\n",
       "      <td>0.0</td>\n",
       "      <td>0.0</td>\n",
       "      <td>0</td>\n",
       "      <td>0</td>\n",
       "      <td>Benign</td>\n",
       "    </tr>\n",
       "    <tr>\n",
       "      <th>1048574</th>\n",
       "      <td>58120</td>\n",
       "      <td>6</td>\n",
       "      <td>21/02/2018 02:33:29</td>\n",
       "      <td>20580</td>\n",
       "      <td>5</td>\n",
       "      <td>2</td>\n",
       "      <td>935</td>\n",
       "      <td>299</td>\n",
       "      <td>935</td>\n",
       "      <td>0</td>\n",
       "      <td>...</td>\n",
       "      <td>20</td>\n",
       "      <td>0.0</td>\n",
       "      <td>0.0</td>\n",
       "      <td>0</td>\n",
       "      <td>0</td>\n",
       "      <td>0.0</td>\n",
       "      <td>0.0</td>\n",
       "      <td>0</td>\n",
       "      <td>0</td>\n",
       "      <td>Benign</td>\n",
       "    </tr>\n",
       "  </tbody>\n",
       "</table>\n",
       "<p>1048575 rows × 80 columns</p>\n",
       "</div>"
      ],
      "text/plain": [
       "         Dst Port  Protocol            Timestamp  Flow Duration  Tot Fwd Pkts  \\\n",
       "0              80         6  21/02/2018 08:33:25          37953             5   \n",
       "1             500        17  21/02/2018 08:33:06      117573474             3   \n",
       "2             500        17  21/02/2018 08:33:06      117573474             3   \n",
       "3             500        17  21/02/2018 08:33:11       99743998             5   \n",
       "4             500        17  21/02/2018 08:33:11       99743999             5   \n",
       "...           ...       ...                  ...            ...           ...   \n",
       "1048570     55484         6  21/02/2018 02:33:29           1252             5   \n",
       "1048571     57624         6  21/02/2018 02:33:29          19055             5   \n",
       "1048572     57623         6  21/02/2018 02:33:29          36677             5   \n",
       "1048573     57625         6  21/02/2018 02:33:29           1849             5   \n",
       "1048574     58120         6  21/02/2018 02:33:29          20580             5   \n",
       "\n",
       "         Tot Bwd Pkts  TotLen Fwd Pkts  TotLen Bwd Pkts  Fwd Pkt Len Max  \\\n",
       "0                   3              135              127              135   \n",
       "1                   0             1500                0              500   \n",
       "2                   0             1500                0              500   \n",
       "3                   0             2500                0              500   \n",
       "4                   0             2500                0              500   \n",
       "...               ...              ...              ...              ...   \n",
       "1048570             2              935              274              935   \n",
       "1048571             2              935              341              935   \n",
       "1048572             2              935              341              935   \n",
       "1048573             2              935              341              935   \n",
       "1048574             2              935              299              935   \n",
       "\n",
       "         Fwd Pkt Len Min  ...  Fwd Seg Size Min  Active Mean  Active Std  \\\n",
       "0                      0  ...                32          0.0         0.0   \n",
       "1                    500  ...                 8          0.0         0.0   \n",
       "2                    500  ...                 8          0.0         0.0   \n",
       "3                    500  ...                 8    4000290.0         0.0   \n",
       "4                    500  ...                 8    4000286.0         0.0   \n",
       "...                  ...  ...               ...          ...         ...   \n",
       "1048570                0  ...                20          0.0         0.0   \n",
       "1048571                0  ...                20          0.0         0.0   \n",
       "1048572                0  ...                20          0.0         0.0   \n",
       "1048573                0  ...                20          0.0         0.0   \n",
       "1048574                0  ...                20          0.0         0.0   \n",
       "\n",
       "         Active Max  Active Min   Idle Mean    Idle Std  Idle Max  Idle Min  \\\n",
       "0                 0           0         0.0         0.0         0         0   \n",
       "1                 0           0  58800000.0  23800000.0  75600000  42000000   \n",
       "2                 0           0  58800000.0  23800000.0  75600000  42000000   \n",
       "3           4000290     4000290  31900000.0  37900000.0  75600000   7200397   \n",
       "4           4000286     4000286  31900000.0  37900000.0  75600000   7200399   \n",
       "...             ...         ...         ...         ...       ...       ...   \n",
       "1048570           0           0         0.0         0.0         0         0   \n",
       "1048571           0           0         0.0         0.0         0         0   \n",
       "1048572           0           0         0.0         0.0         0         0   \n",
       "1048573           0           0         0.0         0.0         0         0   \n",
       "1048574           0           0         0.0         0.0         0         0   \n",
       "\n",
       "          Label  \n",
       "0        Benign  \n",
       "1        Benign  \n",
       "2        Benign  \n",
       "3        Benign  \n",
       "4        Benign  \n",
       "...         ...  \n",
       "1048570  Benign  \n",
       "1048571  Benign  \n",
       "1048572  Benign  \n",
       "1048573  Benign  \n",
       "1048574  Benign  \n",
       "\n",
       "[1048575 rows x 80 columns]"
      ]
     },
     "execution_count": 13,
     "metadata": {},
     "output_type": "execute_result"
    }
   ],
   "source": [
    "df"
   ]
  },
  {
   "cell_type": "code",
   "execution_count": 14,
   "metadata": {},
   "outputs": [
    {
     "data": {
      "text/plain": [
       "Label\n",
       "DDOS attack-HOIC        686012\n",
       "Benign                  360833\n",
       "DDOS attack-LOIC-UDP      1730\n",
       "Name: count, dtype: int64"
      ]
     },
     "execution_count": 14,
     "metadata": {},
     "output_type": "execute_result"
    }
   ],
   "source": [
    "df.Label.value_counts()"
   ]
  },
  {
   "cell_type": "code",
   "execution_count": 15,
   "metadata": {},
   "outputs": [
    {
     "data": {
      "text/plain": [
       "Dst Port           int64\n",
       "Protocol           int64\n",
       "Timestamp         object\n",
       "Flow Duration      int64\n",
       "Tot Fwd Pkts       int64\n",
       "                  ...   \n",
       "Idle Mean        float64\n",
       "Idle Std         float64\n",
       "Idle Max           int64\n",
       "Idle Min           int64\n",
       "Label             object\n",
       "Length: 80, dtype: object"
      ]
     },
     "execution_count": 15,
     "metadata": {},
     "output_type": "execute_result"
    }
   ],
   "source": [
    "df.dtypes"
   ]
  },
  {
   "cell_type": "markdown",
   "metadata": {},
   "source": [
    "### Preprocessing (normalization and padding values)"
   ]
  },
  {
   "cell_type": "code",
   "execution_count": 16,
   "metadata": {},
   "outputs": [],
   "source": [
    "# Z-score normalization\n",
    "features = df.dtypes[df.dtypes != 'object'].index\n",
    "df[features] = df[features].apply(\n",
    "    lambda x: (x - x.mean()) / (x.std()))\n",
    "# Fill empty values by 0\n",
    "df = df.fillna(0)"
   ]
  },
  {
   "cell_type": "code",
   "execution_count": 17,
   "metadata": {},
   "outputs": [],
   "source": [
    "df = df.drop(columns=['Timestamp'])"
   ]
  },
  {
   "cell_type": "code",
   "execution_count": 18,
   "metadata": {},
   "outputs": [
    {
     "data": {
      "text/plain": [
       "Index(['Dst Port', 'Protocol', 'Flow Duration', 'Tot Fwd Pkts', 'Tot Bwd Pkts',\n",
       "       'TotLen Fwd Pkts', 'TotLen Bwd Pkts', 'Fwd Pkt Len Max',\n",
       "       'Fwd Pkt Len Min', 'Fwd Pkt Len Mean', 'Fwd Pkt Len Std',\n",
       "       'Bwd Pkt Len Max', 'Bwd Pkt Len Min', 'Bwd Pkt Len Mean',\n",
       "       'Bwd Pkt Len Std', 'Flow Byts/s', 'Flow Pkts/s', 'Flow IAT Mean',\n",
       "       'Flow IAT Std', 'Flow IAT Max', 'Flow IAT Min', 'Fwd IAT Tot',\n",
       "       'Fwd IAT Mean', 'Fwd IAT Std', 'Fwd IAT Max', 'Fwd IAT Min',\n",
       "       'Bwd IAT Tot', 'Bwd IAT Mean', 'Bwd IAT Std', 'Bwd IAT Max',\n",
       "       'Bwd IAT Min', 'Fwd PSH Flags', 'Bwd PSH Flags', 'Fwd URG Flags',\n",
       "       'Bwd URG Flags', 'Fwd Header Len', 'Bwd Header Len', 'Fwd Pkts/s',\n",
       "       'Bwd Pkts/s', 'Pkt Len Min', 'Pkt Len Max', 'Pkt Len Mean',\n",
       "       'Pkt Len Std', 'Pkt Len Var', 'FIN Flag Cnt', 'SYN Flag Cnt',\n",
       "       'RST Flag Cnt', 'PSH Flag Cnt', 'ACK Flag Cnt', 'URG Flag Cnt',\n",
       "       'CWE Flag Count', 'ECE Flag Cnt', 'Down/Up Ratio', 'Pkt Size Avg',\n",
       "       'Fwd Seg Size Avg', 'Bwd Seg Size Avg', 'Fwd Byts/b Avg',\n",
       "       'Fwd Pkts/b Avg', 'Fwd Blk Rate Avg', 'Bwd Byts/b Avg',\n",
       "       'Bwd Pkts/b Avg', 'Bwd Blk Rate Avg', 'Subflow Fwd Pkts',\n",
       "       'Subflow Fwd Byts', 'Subflow Bwd Pkts', 'Subflow Bwd Byts',\n",
       "       'Init Fwd Win Byts', 'Init Bwd Win Byts', 'Fwd Act Data Pkts',\n",
       "       'Fwd Seg Size Min', 'Active Mean', 'Active Std', 'Active Max',\n",
       "       'Active Min', 'Idle Mean', 'Idle Std', 'Idle Max', 'Idle Min'],\n",
       "      dtype='object')"
      ]
     },
     "execution_count": 18,
     "metadata": {},
     "output_type": "execute_result"
    }
   ],
   "source": [
    "features"
   ]
  },
  {
   "cell_type": "markdown",
   "metadata": {},
   "source": [
    "### Data sampling\n",
    "Due to the space limit of GitHub files and the large size of network traffic data, we sample a small-sized subset for model learning using **k-means cluster sampling**"
   ]
  },
  {
   "cell_type": "code",
   "execution_count": 19,
   "metadata": {},
   "outputs": [],
   "source": [
    "labelencoder = LabelEncoder()\n",
    "df.iloc[:, -1] = labelencoder.fit_transform(df.iloc[:, -1])"
   ]
  },
  {
   "cell_type": "code",
   "execution_count": 20,
   "metadata": {},
   "outputs": [
    {
     "data": {
      "text/plain": [
       "Label\n",
       "1    686012\n",
       "0    360833\n",
       "2      1730\n",
       "Name: count, dtype: int64"
      ]
     },
     "execution_count": 20,
     "metadata": {},
     "output_type": "execute_result"
    }
   ],
   "source": [
    "df.Label.value_counts()"
   ]
  },
  {
   "cell_type": "code",
   "execution_count": 21,
   "metadata": {},
   "outputs": [],
   "source": [
    "# retain the minority class instances and sample the majority class instances\n",
    "df_minor = df[(df['Label']==2)]\n",
    "df_major = df.drop(df_minor.index)"
   ]
  },
  {
   "cell_type": "code",
   "execution_count": 22,
   "metadata": {},
   "outputs": [],
   "source": [
    "X = df_major.drop(['Label'],axis=1) \n",
    "y = df_major.iloc[:, -1].values.reshape(-1,1)\n",
    "y=np.ravel(y)"
   ]
  },
  {
   "cell_type": "code",
   "execution_count": 23,
   "metadata": {},
   "outputs": [],
   "source": [
    "# use k-means to cluster the data samples and select a proportion of data from each cluster\n",
    "from sklearn.cluster import MiniBatchKMeans\n",
    "kmeans = MiniBatchKMeans(n_clusters=100, random_state=0).fit(X)"
   ]
  },
  {
   "cell_type": "code",
   "execution_count": 24,
   "metadata": {},
   "outputs": [],
   "source": [
    "klabel=kmeans.labels_\n",
    "df_major['klabel']=klabel"
   ]
  },
  {
   "cell_type": "code",
   "execution_count": 25,
   "metadata": {},
   "outputs": [
    {
     "data": {
      "text/plain": [
       "klabel\n",
       "56    67649\n",
       "5     59811\n",
       "17    31341\n",
       "22    29151\n",
       "35    28876\n",
       "      ...  \n",
       "50     2504\n",
       "65     2000\n",
       "75     1956\n",
       "48     1368\n",
       "68      282\n",
       "Name: count, Length: 100, dtype: int64"
      ]
     },
     "execution_count": 25,
     "metadata": {},
     "output_type": "execute_result"
    }
   ],
   "source": [
    "df_major['klabel'].value_counts()"
   ]
  },
  {
   "cell_type": "code",
   "execution_count": 26,
   "metadata": {},
   "outputs": [],
   "source": [
    "cols = list(df_major)\n",
    "cols.insert(80, cols.pop(cols.index('Label')))\n",
    "df_major = df_major.loc[:, cols]"
   ]
  },
  {
   "cell_type": "code",
   "execution_count": 27,
   "metadata": {},
   "outputs": [
    {
     "data": {
      "text/html": [
       "<div>\n",
       "<style scoped>\n",
       "    .dataframe tbody tr th:only-of-type {\n",
       "        vertical-align: middle;\n",
       "    }\n",
       "\n",
       "    .dataframe tbody tr th {\n",
       "        vertical-align: top;\n",
       "    }\n",
       "\n",
       "    .dataframe thead th {\n",
       "        text-align: right;\n",
       "    }\n",
       "</style>\n",
       "<table border=\"1\" class=\"dataframe\">\n",
       "  <thead>\n",
       "    <tr style=\"text-align: right;\">\n",
       "      <th></th>\n",
       "      <th>Dst Port</th>\n",
       "      <th>Protocol</th>\n",
       "      <th>Flow Duration</th>\n",
       "      <th>Tot Fwd Pkts</th>\n",
       "      <th>Tot Bwd Pkts</th>\n",
       "      <th>TotLen Fwd Pkts</th>\n",
       "      <th>TotLen Bwd Pkts</th>\n",
       "      <th>Fwd Pkt Len Max</th>\n",
       "      <th>Fwd Pkt Len Min</th>\n",
       "      <th>Fwd Pkt Len Mean</th>\n",
       "      <th>...</th>\n",
       "      <th>Active Mean</th>\n",
       "      <th>Active Std</th>\n",
       "      <th>Active Max</th>\n",
       "      <th>Active Min</th>\n",
       "      <th>Idle Mean</th>\n",
       "      <th>Idle Std</th>\n",
       "      <th>Idle Max</th>\n",
       "      <th>Idle Min</th>\n",
       "      <th>klabel</th>\n",
       "      <th>Label</th>\n",
       "    </tr>\n",
       "  </thead>\n",
       "  <tbody>\n",
       "    <tr>\n",
       "      <th>0</th>\n",
       "      <td>-0.717367</td>\n",
       "      <td>-0.058424</td>\n",
       "      <td>-0.054460</td>\n",
       "      <td>-0.039152</td>\n",
       "      <td>1.144111</td>\n",
       "      <td>-0.041009</td>\n",
       "      <td>-0.373413</td>\n",
       "      <td>-0.548133</td>\n",
       "      <td>-0.028397</td>\n",
       "      <td>-0.620028</td>\n",
       "      <td>...</td>\n",
       "      <td>-0.036990</td>\n",
       "      <td>-0.025032</td>\n",
       "      <td>-0.035523</td>\n",
       "      <td>-0.034716</td>\n",
       "      <td>-0.037298</td>\n",
       "      <td>-0.036925</td>\n",
       "      <td>-0.040270</td>\n",
       "      <td>-0.027711</td>\n",
       "      <td>56</td>\n",
       "      <td>0</td>\n",
       "    </tr>\n",
       "    <tr>\n",
       "      <th>1</th>\n",
       "      <td>-0.701922</td>\n",
       "      <td>16.875469</td>\n",
       "      <td>17.672471</td>\n",
       "      <td>-0.039561</td>\n",
       "      <td>-0.886451</td>\n",
       "      <td>-0.032302</td>\n",
       "      <td>-0.763240</td>\n",
       "      <td>0.315371</td>\n",
       "      <td>55.662641</td>\n",
       "      <td>4.937395</td>\n",
       "      <td>...</td>\n",
       "      <td>-0.036990</td>\n",
       "      <td>-0.025032</td>\n",
       "      <td>-0.035523</td>\n",
       "      <td>-0.034716</td>\n",
       "      <td>69.796707</td>\n",
       "      <td>54.798887</td>\n",
       "      <td>53.154903</td>\n",
       "      <td>71.223606</td>\n",
       "      <td>65</td>\n",
       "      <td>0</td>\n",
       "    </tr>\n",
       "    <tr>\n",
       "      <th>2</th>\n",
       "      <td>-0.701922</td>\n",
       "      <td>16.875469</td>\n",
       "      <td>17.672471</td>\n",
       "      <td>-0.039561</td>\n",
       "      <td>-0.886451</td>\n",
       "      <td>-0.032302</td>\n",
       "      <td>-0.763240</td>\n",
       "      <td>0.315371</td>\n",
       "      <td>55.662641</td>\n",
       "      <td>4.937395</td>\n",
       "      <td>...</td>\n",
       "      <td>-0.036990</td>\n",
       "      <td>-0.025032</td>\n",
       "      <td>-0.035523</td>\n",
       "      <td>-0.034716</td>\n",
       "      <td>69.796707</td>\n",
       "      <td>54.798887</td>\n",
       "      <td>53.154903</td>\n",
       "      <td>71.223606</td>\n",
       "      <td>65</td>\n",
       "      <td>0</td>\n",
       "    </tr>\n",
       "    <tr>\n",
       "      <th>3</th>\n",
       "      <td>-0.701922</td>\n",
       "      <td>16.875469</td>\n",
       "      <td>14.983395</td>\n",
       "      <td>-0.039152</td>\n",
       "      <td>-0.886451</td>\n",
       "      <td>-0.025922</td>\n",
       "      <td>-0.763240</td>\n",
       "      <td>0.315371</td>\n",
       "      <td>55.662641</td>\n",
       "      <td>4.937395</td>\n",
       "      <td>...</td>\n",
       "      <td>19.635445</td>\n",
       "      <td>-0.025032</td>\n",
       "      <td>14.123597</td>\n",
       "      <td>25.464509</td>\n",
       "      <td>37.848837</td>\n",
       "      <td>87.285649</td>\n",
       "      <td>53.154903</td>\n",
       "      <td>12.187474</td>\n",
       "      <td>65</td>\n",
       "      <td>0</td>\n",
       "    </tr>\n",
       "    <tr>\n",
       "      <th>4</th>\n",
       "      <td>-0.701922</td>\n",
       "      <td>16.875469</td>\n",
       "      <td>14.983395</td>\n",
       "      <td>-0.039152</td>\n",
       "      <td>-0.886451</td>\n",
       "      <td>-0.025922</td>\n",
       "      <td>-0.763240</td>\n",
       "      <td>0.315371</td>\n",
       "      <td>55.662641</td>\n",
       "      <td>4.937395</td>\n",
       "      <td>...</td>\n",
       "      <td>19.635425</td>\n",
       "      <td>-0.025032</td>\n",
       "      <td>14.123583</td>\n",
       "      <td>25.464483</td>\n",
       "      <td>37.848837</td>\n",
       "      <td>87.285649</td>\n",
       "      <td>53.154903</td>\n",
       "      <td>12.187477</td>\n",
       "      <td>65</td>\n",
       "      <td>0</td>\n",
       "    </tr>\n",
       "    <tr>\n",
       "      <th>...</th>\n",
       "      <td>...</td>\n",
       "      <td>...</td>\n",
       "      <td>...</td>\n",
       "      <td>...</td>\n",
       "      <td>...</td>\n",
       "      <td>...</td>\n",
       "      <td>...</td>\n",
       "      <td>...</td>\n",
       "      <td>...</td>\n",
       "      <td>...</td>\n",
       "      <td>...</td>\n",
       "      <td>...</td>\n",
       "      <td>...</td>\n",
       "      <td>...</td>\n",
       "      <td>...</td>\n",
       "      <td>...</td>\n",
       "      <td>...</td>\n",
       "      <td>...</td>\n",
       "      <td>...</td>\n",
       "      <td>...</td>\n",
       "      <td>...</td>\n",
       "    </tr>\n",
       "    <tr>\n",
       "      <th>1048570</th>\n",
       "      <td>1.320040</td>\n",
       "      <td>-0.058424</td>\n",
       "      <td>-0.059995</td>\n",
       "      <td>-0.039152</td>\n",
       "      <td>0.467257</td>\n",
       "      <td>-0.035906</td>\n",
       "      <td>0.077804</td>\n",
       "      <td>1.344480</td>\n",
       "      <td>-0.028397</td>\n",
       "      <td>1.259861</td>\n",
       "      <td>...</td>\n",
       "      <td>-0.036990</td>\n",
       "      <td>-0.025032</td>\n",
       "      <td>-0.035523</td>\n",
       "      <td>-0.034716</td>\n",
       "      <td>-0.037298</td>\n",
       "      <td>-0.036925</td>\n",
       "      <td>-0.040270</td>\n",
       "      <td>-0.027711</td>\n",
       "      <td>45</td>\n",
       "      <td>0</td>\n",
       "    </tr>\n",
       "    <tr>\n",
       "      <th>1048571</th>\n",
       "      <td>1.398736</td>\n",
       "      <td>-0.058424</td>\n",
       "      <td>-0.057310</td>\n",
       "      <td>-0.039152</td>\n",
       "      <td>0.467257</td>\n",
       "      <td>-0.035906</td>\n",
       "      <td>0.283460</td>\n",
       "      <td>1.344480</td>\n",
       "      <td>-0.028397</td>\n",
       "      <td>1.259861</td>\n",
       "      <td>...</td>\n",
       "      <td>-0.036990</td>\n",
       "      <td>-0.025032</td>\n",
       "      <td>-0.035523</td>\n",
       "      <td>-0.034716</td>\n",
       "      <td>-0.037298</td>\n",
       "      <td>-0.036925</td>\n",
       "      <td>-0.040270</td>\n",
       "      <td>-0.027711</td>\n",
       "      <td>88</td>\n",
       "      <td>0</td>\n",
       "    </tr>\n",
       "    <tr>\n",
       "      <th>1048572</th>\n",
       "      <td>1.398699</td>\n",
       "      <td>-0.058424</td>\n",
       "      <td>-0.054652</td>\n",
       "      <td>-0.039152</td>\n",
       "      <td>0.467257</td>\n",
       "      <td>-0.035906</td>\n",
       "      <td>0.283460</td>\n",
       "      <td>1.344480</td>\n",
       "      <td>-0.028397</td>\n",
       "      <td>1.259861</td>\n",
       "      <td>...</td>\n",
       "      <td>-0.036990</td>\n",
       "      <td>-0.025032</td>\n",
       "      <td>-0.035523</td>\n",
       "      <td>-0.034716</td>\n",
       "      <td>-0.037298</td>\n",
       "      <td>-0.036925</td>\n",
       "      <td>-0.040270</td>\n",
       "      <td>-0.027711</td>\n",
       "      <td>19</td>\n",
       "      <td>0</td>\n",
       "    </tr>\n",
       "    <tr>\n",
       "      <th>1048573</th>\n",
       "      <td>1.398773</td>\n",
       "      <td>-0.058424</td>\n",
       "      <td>-0.059905</td>\n",
       "      <td>-0.039152</td>\n",
       "      <td>0.467257</td>\n",
       "      <td>-0.035906</td>\n",
       "      <td>0.283460</td>\n",
       "      <td>1.344480</td>\n",
       "      <td>-0.028397</td>\n",
       "      <td>1.259861</td>\n",
       "      <td>...</td>\n",
       "      <td>-0.036990</td>\n",
       "      <td>-0.025032</td>\n",
       "      <td>-0.035523</td>\n",
       "      <td>-0.034716</td>\n",
       "      <td>-0.037298</td>\n",
       "      <td>-0.036925</td>\n",
       "      <td>-0.040270</td>\n",
       "      <td>-0.027711</td>\n",
       "      <td>2</td>\n",
       "      <td>0</td>\n",
       "    </tr>\n",
       "    <tr>\n",
       "      <th>1048574</th>\n",
       "      <td>1.416976</td>\n",
       "      <td>-0.058424</td>\n",
       "      <td>-0.057080</td>\n",
       "      <td>-0.039152</td>\n",
       "      <td>0.467257</td>\n",
       "      <td>-0.035906</td>\n",
       "      <td>0.154541</td>\n",
       "      <td>1.344480</td>\n",
       "      <td>-0.028397</td>\n",
       "      <td>1.259861</td>\n",
       "      <td>...</td>\n",
       "      <td>-0.036990</td>\n",
       "      <td>-0.025032</td>\n",
       "      <td>-0.035523</td>\n",
       "      <td>-0.034716</td>\n",
       "      <td>-0.037298</td>\n",
       "      <td>-0.036925</td>\n",
       "      <td>-0.040270</td>\n",
       "      <td>-0.027711</td>\n",
       "      <td>14</td>\n",
       "      <td>0</td>\n",
       "    </tr>\n",
       "  </tbody>\n",
       "</table>\n",
       "<p>1046845 rows × 80 columns</p>\n",
       "</div>"
      ],
      "text/plain": [
       "         Dst Port   Protocol  Flow Duration  Tot Fwd Pkts  Tot Bwd Pkts  \\\n",
       "0       -0.717367  -0.058424      -0.054460     -0.039152      1.144111   \n",
       "1       -0.701922  16.875469      17.672471     -0.039561     -0.886451   \n",
       "2       -0.701922  16.875469      17.672471     -0.039561     -0.886451   \n",
       "3       -0.701922  16.875469      14.983395     -0.039152     -0.886451   \n",
       "4       -0.701922  16.875469      14.983395     -0.039152     -0.886451   \n",
       "...           ...        ...            ...           ...           ...   \n",
       "1048570  1.320040  -0.058424      -0.059995     -0.039152      0.467257   \n",
       "1048571  1.398736  -0.058424      -0.057310     -0.039152      0.467257   \n",
       "1048572  1.398699  -0.058424      -0.054652     -0.039152      0.467257   \n",
       "1048573  1.398773  -0.058424      -0.059905     -0.039152      0.467257   \n",
       "1048574  1.416976  -0.058424      -0.057080     -0.039152      0.467257   \n",
       "\n",
       "         TotLen Fwd Pkts  TotLen Bwd Pkts  Fwd Pkt Len Max  Fwd Pkt Len Min  \\\n",
       "0              -0.041009        -0.373413        -0.548133        -0.028397   \n",
       "1              -0.032302        -0.763240         0.315371        55.662641   \n",
       "2              -0.032302        -0.763240         0.315371        55.662641   \n",
       "3              -0.025922        -0.763240         0.315371        55.662641   \n",
       "4              -0.025922        -0.763240         0.315371        55.662641   \n",
       "...                  ...              ...              ...              ...   \n",
       "1048570        -0.035906         0.077804         1.344480        -0.028397   \n",
       "1048571        -0.035906         0.283460         1.344480        -0.028397   \n",
       "1048572        -0.035906         0.283460         1.344480        -0.028397   \n",
       "1048573        -0.035906         0.283460         1.344480        -0.028397   \n",
       "1048574        -0.035906         0.154541         1.344480        -0.028397   \n",
       "\n",
       "         Fwd Pkt Len Mean  ...  Active Mean  Active Std  Active Max  \\\n",
       "0               -0.620028  ...    -0.036990   -0.025032   -0.035523   \n",
       "1                4.937395  ...    -0.036990   -0.025032   -0.035523   \n",
       "2                4.937395  ...    -0.036990   -0.025032   -0.035523   \n",
       "3                4.937395  ...    19.635445   -0.025032   14.123597   \n",
       "4                4.937395  ...    19.635425   -0.025032   14.123583   \n",
       "...                   ...  ...          ...         ...         ...   \n",
       "1048570          1.259861  ...    -0.036990   -0.025032   -0.035523   \n",
       "1048571          1.259861  ...    -0.036990   -0.025032   -0.035523   \n",
       "1048572          1.259861  ...    -0.036990   -0.025032   -0.035523   \n",
       "1048573          1.259861  ...    -0.036990   -0.025032   -0.035523   \n",
       "1048574          1.259861  ...    -0.036990   -0.025032   -0.035523   \n",
       "\n",
       "         Active Min  Idle Mean   Idle Std   Idle Max   Idle Min  klabel  Label  \n",
       "0         -0.034716  -0.037298  -0.036925  -0.040270  -0.027711      56      0  \n",
       "1         -0.034716  69.796707  54.798887  53.154903  71.223606      65      0  \n",
       "2         -0.034716  69.796707  54.798887  53.154903  71.223606      65      0  \n",
       "3         25.464509  37.848837  87.285649  53.154903  12.187474      65      0  \n",
       "4         25.464483  37.848837  87.285649  53.154903  12.187477      65      0  \n",
       "...             ...        ...        ...        ...        ...     ...    ...  \n",
       "1048570   -0.034716  -0.037298  -0.036925  -0.040270  -0.027711      45      0  \n",
       "1048571   -0.034716  -0.037298  -0.036925  -0.040270  -0.027711      88      0  \n",
       "1048572   -0.034716  -0.037298  -0.036925  -0.040270  -0.027711      19      0  \n",
       "1048573   -0.034716  -0.037298  -0.036925  -0.040270  -0.027711       2      0  \n",
       "1048574   -0.034716  -0.037298  -0.036925  -0.040270  -0.027711      14      0  \n",
       "\n",
       "[1046845 rows x 80 columns]"
      ]
     },
     "execution_count": 27,
     "metadata": {},
     "output_type": "execute_result"
    }
   ],
   "source": [
    "df_major"
   ]
  },
  {
   "cell_type": "code",
   "execution_count": 28,
   "metadata": {},
   "outputs": [],
   "source": [
    "def typicalSampling(group):\n",
    "    name = group.name\n",
    "    frac = 0.8\n",
    "    return group.sample(frac=frac)\n",
    "\n",
    "result = df_major.groupby(\n",
    "    'klabel', group_keys=False\n",
    ").apply(typicalSampling)"
   ]
  },
  {
   "cell_type": "code",
   "execution_count": 29,
   "metadata": {},
   "outputs": [
    {
     "data": {
      "text/plain": [
       "Label\n",
       "1    548806\n",
       "0    288675\n",
       "Name: count, dtype: int64"
      ]
     },
     "execution_count": 29,
     "metadata": {},
     "output_type": "execute_result"
    }
   ],
   "source": [
    "result['Label'].value_counts()"
   ]
  },
  {
   "cell_type": "code",
   "execution_count": 30,
   "metadata": {},
   "outputs": [
    {
     "data": {
      "text/html": [
       "<div>\n",
       "<style scoped>\n",
       "    .dataframe tbody tr th:only-of-type {\n",
       "        vertical-align: middle;\n",
       "    }\n",
       "\n",
       "    .dataframe tbody tr th {\n",
       "        vertical-align: top;\n",
       "    }\n",
       "\n",
       "    .dataframe thead th {\n",
       "        text-align: right;\n",
       "    }\n",
       "</style>\n",
       "<table border=\"1\" class=\"dataframe\">\n",
       "  <thead>\n",
       "    <tr style=\"text-align: right;\">\n",
       "      <th></th>\n",
       "      <th>Dst Port</th>\n",
       "      <th>Protocol</th>\n",
       "      <th>Flow Duration</th>\n",
       "      <th>Tot Fwd Pkts</th>\n",
       "      <th>Tot Bwd Pkts</th>\n",
       "      <th>TotLen Fwd Pkts</th>\n",
       "      <th>TotLen Bwd Pkts</th>\n",
       "      <th>Fwd Pkt Len Max</th>\n",
       "      <th>Fwd Pkt Len Min</th>\n",
       "      <th>Fwd Pkt Len Mean</th>\n",
       "      <th>...</th>\n",
       "      <th>Active Mean</th>\n",
       "      <th>Active Std</th>\n",
       "      <th>Active Max</th>\n",
       "      <th>Active Min</th>\n",
       "      <th>Idle Mean</th>\n",
       "      <th>Idle Std</th>\n",
       "      <th>Idle Max</th>\n",
       "      <th>Idle Min</th>\n",
       "      <th>klabel</th>\n",
       "      <th>Label</th>\n",
       "    </tr>\n",
       "  </thead>\n",
       "  <tbody>\n",
       "    <tr>\n",
       "      <th>87038</th>\n",
       "      <td>-0.717367</td>\n",
       "      <td>-0.058424</td>\n",
       "      <td>-0.058985</td>\n",
       "      <td>-0.039765</td>\n",
       "      <td>-0.886451</td>\n",
       "      <td>-0.041870</td>\n",
       "      <td>-0.763240</td>\n",
       "      <td>-0.867512</td>\n",
       "      <td>-0.028397</td>\n",
       "      <td>-0.937259</td>\n",
       "      <td>...</td>\n",
       "      <td>-0.03699</td>\n",
       "      <td>-0.025032</td>\n",
       "      <td>-0.035523</td>\n",
       "      <td>-0.034716</td>\n",
       "      <td>-0.037298</td>\n",
       "      <td>-0.036925</td>\n",
       "      <td>-0.04027</td>\n",
       "      <td>-0.027711</td>\n",
       "      <td>0</td>\n",
       "      <td>1</td>\n",
       "    </tr>\n",
       "    <tr>\n",
       "      <th>461401</th>\n",
       "      <td>-0.717367</td>\n",
       "      <td>-0.058424</td>\n",
       "      <td>-0.058989</td>\n",
       "      <td>-0.039765</td>\n",
       "      <td>-0.886451</td>\n",
       "      <td>-0.041870</td>\n",
       "      <td>-0.763240</td>\n",
       "      <td>-0.867512</td>\n",
       "      <td>-0.028397</td>\n",
       "      <td>-0.937259</td>\n",
       "      <td>...</td>\n",
       "      <td>-0.03699</td>\n",
       "      <td>-0.025032</td>\n",
       "      <td>-0.035523</td>\n",
       "      <td>-0.034716</td>\n",
       "      <td>-0.037298</td>\n",
       "      <td>-0.036925</td>\n",
       "      <td>-0.04027</td>\n",
       "      <td>-0.027711</td>\n",
       "      <td>0</td>\n",
       "      <td>1</td>\n",
       "    </tr>\n",
       "    <tr>\n",
       "      <th>192442</th>\n",
       "      <td>-0.717367</td>\n",
       "      <td>-0.058424</td>\n",
       "      <td>-0.058997</td>\n",
       "      <td>-0.039765</td>\n",
       "      <td>-0.886451</td>\n",
       "      <td>-0.041870</td>\n",
       "      <td>-0.763240</td>\n",
       "      <td>-0.867512</td>\n",
       "      <td>-0.028397</td>\n",
       "      <td>-0.937259</td>\n",
       "      <td>...</td>\n",
       "      <td>-0.03699</td>\n",
       "      <td>-0.025032</td>\n",
       "      <td>-0.035523</td>\n",
       "      <td>-0.034716</td>\n",
       "      <td>-0.037298</td>\n",
       "      <td>-0.036925</td>\n",
       "      <td>-0.04027</td>\n",
       "      <td>-0.027711</td>\n",
       "      <td>0</td>\n",
       "      <td>1</td>\n",
       "    </tr>\n",
       "    <tr>\n",
       "      <th>30929</th>\n",
       "      <td>-0.717367</td>\n",
       "      <td>-0.058424</td>\n",
       "      <td>-0.059053</td>\n",
       "      <td>-0.039765</td>\n",
       "      <td>-0.886451</td>\n",
       "      <td>-0.041870</td>\n",
       "      <td>-0.763240</td>\n",
       "      <td>-0.867512</td>\n",
       "      <td>-0.028397</td>\n",
       "      <td>-0.937259</td>\n",
       "      <td>...</td>\n",
       "      <td>-0.03699</td>\n",
       "      <td>-0.025032</td>\n",
       "      <td>-0.035523</td>\n",
       "      <td>-0.034716</td>\n",
       "      <td>-0.037298</td>\n",
       "      <td>-0.036925</td>\n",
       "      <td>-0.04027</td>\n",
       "      <td>-0.027711</td>\n",
       "      <td>0</td>\n",
       "      <td>1</td>\n",
       "    </tr>\n",
       "    <tr>\n",
       "      <th>482257</th>\n",
       "      <td>-0.717367</td>\n",
       "      <td>-0.058424</td>\n",
       "      <td>-0.058966</td>\n",
       "      <td>-0.039765</td>\n",
       "      <td>-0.886451</td>\n",
       "      <td>-0.041870</td>\n",
       "      <td>-0.763240</td>\n",
       "      <td>-0.867512</td>\n",
       "      <td>-0.028397</td>\n",
       "      <td>-0.937259</td>\n",
       "      <td>...</td>\n",
       "      <td>-0.03699</td>\n",
       "      <td>-0.025032</td>\n",
       "      <td>-0.035523</td>\n",
       "      <td>-0.034716</td>\n",
       "      <td>-0.037298</td>\n",
       "      <td>-0.036925</td>\n",
       "      <td>-0.04027</td>\n",
       "      <td>-0.027711</td>\n",
       "      <td>0</td>\n",
       "      <td>1</td>\n",
       "    </tr>\n",
       "    <tr>\n",
       "      <th>...</th>\n",
       "      <td>...</td>\n",
       "      <td>...</td>\n",
       "      <td>...</td>\n",
       "      <td>...</td>\n",
       "      <td>...</td>\n",
       "      <td>...</td>\n",
       "      <td>...</td>\n",
       "      <td>...</td>\n",
       "      <td>...</td>\n",
       "      <td>...</td>\n",
       "      <td>...</td>\n",
       "      <td>...</td>\n",
       "      <td>...</td>\n",
       "      <td>...</td>\n",
       "      <td>...</td>\n",
       "      <td>...</td>\n",
       "      <td>...</td>\n",
       "      <td>...</td>\n",
       "      <td>...</td>\n",
       "      <td>...</td>\n",
       "      <td>...</td>\n",
       "    </tr>\n",
       "    <tr>\n",
       "      <th>8469</th>\n",
       "      <td>-0.717367</td>\n",
       "      <td>-0.058424</td>\n",
       "      <td>-0.056575</td>\n",
       "      <td>-0.039561</td>\n",
       "      <td>1.820966</td>\n",
       "      <td>-0.039689</td>\n",
       "      <td>2.106744</td>\n",
       "      <td>-0.058420</td>\n",
       "      <td>-0.028397</td>\n",
       "      <td>0.402162</td>\n",
       "      <td>...</td>\n",
       "      <td>-0.03699</td>\n",
       "      <td>-0.025032</td>\n",
       "      <td>-0.035523</td>\n",
       "      <td>-0.034716</td>\n",
       "      <td>-0.037298</td>\n",
       "      <td>-0.036925</td>\n",
       "      <td>-0.04027</td>\n",
       "      <td>-0.027711</td>\n",
       "      <td>99</td>\n",
       "      <td>1</td>\n",
       "    </tr>\n",
       "    <tr>\n",
       "      <th>309655</th>\n",
       "      <td>-0.717367</td>\n",
       "      <td>-0.058424</td>\n",
       "      <td>-0.057533</td>\n",
       "      <td>-0.039561</td>\n",
       "      <td>1.820966</td>\n",
       "      <td>-0.039746</td>\n",
       "      <td>2.106744</td>\n",
       "      <td>-0.079712</td>\n",
       "      <td>-0.028397</td>\n",
       "      <td>0.366914</td>\n",
       "      <td>...</td>\n",
       "      <td>-0.03699</td>\n",
       "      <td>-0.025032</td>\n",
       "      <td>-0.035523</td>\n",
       "      <td>-0.034716</td>\n",
       "      <td>-0.037298</td>\n",
       "      <td>-0.036925</td>\n",
       "      <td>-0.04027</td>\n",
       "      <td>-0.027711</td>\n",
       "      <td>99</td>\n",
       "      <td>1</td>\n",
       "    </tr>\n",
       "    <tr>\n",
       "      <th>49091</th>\n",
       "      <td>-0.717367</td>\n",
       "      <td>-0.058424</td>\n",
       "      <td>-0.055845</td>\n",
       "      <td>-0.039561</td>\n",
       "      <td>1.820966</td>\n",
       "      <td>-0.039746</td>\n",
       "      <td>2.106744</td>\n",
       "      <td>-0.079712</td>\n",
       "      <td>-0.028397</td>\n",
       "      <td>0.366914</td>\n",
       "      <td>...</td>\n",
       "      <td>-0.03699</td>\n",
       "      <td>-0.025032</td>\n",
       "      <td>-0.035523</td>\n",
       "      <td>-0.034716</td>\n",
       "      <td>-0.037298</td>\n",
       "      <td>-0.036925</td>\n",
       "      <td>-0.04027</td>\n",
       "      <td>-0.027711</td>\n",
       "      <td>99</td>\n",
       "      <td>1</td>\n",
       "    </tr>\n",
       "    <tr>\n",
       "      <th>31822</th>\n",
       "      <td>-0.717367</td>\n",
       "      <td>-0.058424</td>\n",
       "      <td>-0.055895</td>\n",
       "      <td>-0.039561</td>\n",
       "      <td>1.820966</td>\n",
       "      <td>-0.039791</td>\n",
       "      <td>2.106744</td>\n",
       "      <td>-0.096272</td>\n",
       "      <td>-0.028397</td>\n",
       "      <td>0.339499</td>\n",
       "      <td>...</td>\n",
       "      <td>-0.03699</td>\n",
       "      <td>-0.025032</td>\n",
       "      <td>-0.035523</td>\n",
       "      <td>-0.034716</td>\n",
       "      <td>-0.037298</td>\n",
       "      <td>-0.036925</td>\n",
       "      <td>-0.04027</td>\n",
       "      <td>-0.027711</td>\n",
       "      <td>99</td>\n",
       "      <td>1</td>\n",
       "    </tr>\n",
       "    <tr>\n",
       "      <th>70500</th>\n",
       "      <td>-0.717367</td>\n",
       "      <td>-0.058424</td>\n",
       "      <td>-0.055442</td>\n",
       "      <td>-0.039561</td>\n",
       "      <td>1.820966</td>\n",
       "      <td>-0.039746</td>\n",
       "      <td>2.106744</td>\n",
       "      <td>-0.079712</td>\n",
       "      <td>-0.028397</td>\n",
       "      <td>0.366914</td>\n",
       "      <td>...</td>\n",
       "      <td>-0.03699</td>\n",
       "      <td>-0.025032</td>\n",
       "      <td>-0.035523</td>\n",
       "      <td>-0.034716</td>\n",
       "      <td>-0.037298</td>\n",
       "      <td>-0.036925</td>\n",
       "      <td>-0.04027</td>\n",
       "      <td>-0.027711</td>\n",
       "      <td>99</td>\n",
       "      <td>1</td>\n",
       "    </tr>\n",
       "  </tbody>\n",
       "</table>\n",
       "<p>837481 rows × 80 columns</p>\n",
       "</div>"
      ],
      "text/plain": [
       "        Dst Port  Protocol  Flow Duration  Tot Fwd Pkts  Tot Bwd Pkts  \\\n",
       "87038  -0.717367 -0.058424      -0.058985     -0.039765     -0.886451   \n",
       "461401 -0.717367 -0.058424      -0.058989     -0.039765     -0.886451   \n",
       "192442 -0.717367 -0.058424      -0.058997     -0.039765     -0.886451   \n",
       "30929  -0.717367 -0.058424      -0.059053     -0.039765     -0.886451   \n",
       "482257 -0.717367 -0.058424      -0.058966     -0.039765     -0.886451   \n",
       "...          ...       ...            ...           ...           ...   \n",
       "8469   -0.717367 -0.058424      -0.056575     -0.039561      1.820966   \n",
       "309655 -0.717367 -0.058424      -0.057533     -0.039561      1.820966   \n",
       "49091  -0.717367 -0.058424      -0.055845     -0.039561      1.820966   \n",
       "31822  -0.717367 -0.058424      -0.055895     -0.039561      1.820966   \n",
       "70500  -0.717367 -0.058424      -0.055442     -0.039561      1.820966   \n",
       "\n",
       "        TotLen Fwd Pkts  TotLen Bwd Pkts  Fwd Pkt Len Max  Fwd Pkt Len Min  \\\n",
       "87038         -0.041870        -0.763240        -0.867512        -0.028397   \n",
       "461401        -0.041870        -0.763240        -0.867512        -0.028397   \n",
       "192442        -0.041870        -0.763240        -0.867512        -0.028397   \n",
       "30929         -0.041870        -0.763240        -0.867512        -0.028397   \n",
       "482257        -0.041870        -0.763240        -0.867512        -0.028397   \n",
       "...                 ...              ...              ...              ...   \n",
       "8469          -0.039689         2.106744        -0.058420        -0.028397   \n",
       "309655        -0.039746         2.106744        -0.079712        -0.028397   \n",
       "49091         -0.039746         2.106744        -0.079712        -0.028397   \n",
       "31822         -0.039791         2.106744        -0.096272        -0.028397   \n",
       "70500         -0.039746         2.106744        -0.079712        -0.028397   \n",
       "\n",
       "        Fwd Pkt Len Mean  ...  Active Mean  Active Std  Active Max  \\\n",
       "87038          -0.937259  ...     -0.03699   -0.025032   -0.035523   \n",
       "461401         -0.937259  ...     -0.03699   -0.025032   -0.035523   \n",
       "192442         -0.937259  ...     -0.03699   -0.025032   -0.035523   \n",
       "30929          -0.937259  ...     -0.03699   -0.025032   -0.035523   \n",
       "482257         -0.937259  ...     -0.03699   -0.025032   -0.035523   \n",
       "...                  ...  ...          ...         ...         ...   \n",
       "8469            0.402162  ...     -0.03699   -0.025032   -0.035523   \n",
       "309655          0.366914  ...     -0.03699   -0.025032   -0.035523   \n",
       "49091           0.366914  ...     -0.03699   -0.025032   -0.035523   \n",
       "31822           0.339499  ...     -0.03699   -0.025032   -0.035523   \n",
       "70500           0.366914  ...     -0.03699   -0.025032   -0.035523   \n",
       "\n",
       "        Active Min  Idle Mean  Idle Std  Idle Max  Idle Min  klabel  Label  \n",
       "87038    -0.034716  -0.037298 -0.036925  -0.04027 -0.027711       0      1  \n",
       "461401   -0.034716  -0.037298 -0.036925  -0.04027 -0.027711       0      1  \n",
       "192442   -0.034716  -0.037298 -0.036925  -0.04027 -0.027711       0      1  \n",
       "30929    -0.034716  -0.037298 -0.036925  -0.04027 -0.027711       0      1  \n",
       "482257   -0.034716  -0.037298 -0.036925  -0.04027 -0.027711       0      1  \n",
       "...            ...        ...       ...       ...       ...     ...    ...  \n",
       "8469     -0.034716  -0.037298 -0.036925  -0.04027 -0.027711      99      1  \n",
       "309655   -0.034716  -0.037298 -0.036925  -0.04027 -0.027711      99      1  \n",
       "49091    -0.034716  -0.037298 -0.036925  -0.04027 -0.027711      99      1  \n",
       "31822    -0.034716  -0.037298 -0.036925  -0.04027 -0.027711      99      1  \n",
       "70500    -0.034716  -0.037298 -0.036925  -0.04027 -0.027711      99      1  \n",
       "\n",
       "[837481 rows x 80 columns]"
      ]
     },
     "execution_count": 30,
     "metadata": {},
     "output_type": "execute_result"
    }
   ],
   "source": [
    "result"
   ]
  },
  {
   "cell_type": "code",
   "execution_count": 31,
   "metadata": {},
   "outputs": [],
   "source": [
    "result = result.drop(['klabel'],axis=1)\n",
    "result = pd.concat([result, df_minor], ignore_index=True)"
   ]
  },
  {
   "cell_type": "code",
   "execution_count": 32,
   "metadata": {},
   "outputs": [],
   "source": [
    "result.to_csv('./20180221/02-21-2018_km.csv',index=0)"
   ]
  },
  {
   "cell_type": "markdown",
   "metadata": {},
   "source": [
    "### split train set and test set"
   ]
  },
  {
   "cell_type": "code",
   "execution_count": 33,
   "metadata": {},
   "outputs": [],
   "source": [
    "# Read the sampled dataset\n",
    "df=pd.read_csv('./20180221/02-21-2018_km.csv')"
   ]
  },
  {
   "cell_type": "code",
   "execution_count": 34,
   "metadata": {},
   "outputs": [
    {
     "data": {
      "text/html": [
       "<div>\n",
       "<style scoped>\n",
       "    .dataframe tbody tr th:only-of-type {\n",
       "        vertical-align: middle;\n",
       "    }\n",
       "\n",
       "    .dataframe tbody tr th {\n",
       "        vertical-align: top;\n",
       "    }\n",
       "\n",
       "    .dataframe thead th {\n",
       "        text-align: right;\n",
       "    }\n",
       "</style>\n",
       "<table border=\"1\" class=\"dataframe\">\n",
       "  <thead>\n",
       "    <tr style=\"text-align: right;\">\n",
       "      <th></th>\n",
       "      <th>Dst Port</th>\n",
       "      <th>Protocol</th>\n",
       "      <th>Flow Duration</th>\n",
       "      <th>Tot Fwd Pkts</th>\n",
       "      <th>Tot Bwd Pkts</th>\n",
       "      <th>TotLen Fwd Pkts</th>\n",
       "      <th>TotLen Bwd Pkts</th>\n",
       "      <th>Fwd Pkt Len Max</th>\n",
       "      <th>Fwd Pkt Len Min</th>\n",
       "      <th>Fwd Pkt Len Mean</th>\n",
       "      <th>...</th>\n",
       "      <th>Fwd Seg Size Min</th>\n",
       "      <th>Active Mean</th>\n",
       "      <th>Active Std</th>\n",
       "      <th>Active Max</th>\n",
       "      <th>Active Min</th>\n",
       "      <th>Idle Mean</th>\n",
       "      <th>Idle Std</th>\n",
       "      <th>Idle Max</th>\n",
       "      <th>Idle Min</th>\n",
       "      <th>Label</th>\n",
       "    </tr>\n",
       "  </thead>\n",
       "  <tbody>\n",
       "    <tr>\n",
       "      <th>0</th>\n",
       "      <td>-0.717367</td>\n",
       "      <td>-0.058424</td>\n",
       "      <td>-0.058985</td>\n",
       "      <td>-0.039765</td>\n",
       "      <td>-0.886451</td>\n",
       "      <td>-0.041870</td>\n",
       "      <td>-0.76324</td>\n",
       "      <td>-0.867512</td>\n",
       "      <td>-0.028397</td>\n",
       "      <td>-0.937259</td>\n",
       "      <td>...</td>\n",
       "      <td>0.055542</td>\n",
       "      <td>-0.03699</td>\n",
       "      <td>-0.025032</td>\n",
       "      <td>-0.035523</td>\n",
       "      <td>-0.034716</td>\n",
       "      <td>-0.037298</td>\n",
       "      <td>-0.036925</td>\n",
       "      <td>-0.04027</td>\n",
       "      <td>-0.027711</td>\n",
       "      <td>1</td>\n",
       "    </tr>\n",
       "    <tr>\n",
       "      <th>1</th>\n",
       "      <td>-0.717367</td>\n",
       "      <td>-0.058424</td>\n",
       "      <td>-0.058989</td>\n",
       "      <td>-0.039765</td>\n",
       "      <td>-0.886451</td>\n",
       "      <td>-0.041870</td>\n",
       "      <td>-0.76324</td>\n",
       "      <td>-0.867512</td>\n",
       "      <td>-0.028397</td>\n",
       "      <td>-0.937259</td>\n",
       "      <td>...</td>\n",
       "      <td>0.055542</td>\n",
       "      <td>-0.03699</td>\n",
       "      <td>-0.025032</td>\n",
       "      <td>-0.035523</td>\n",
       "      <td>-0.034716</td>\n",
       "      <td>-0.037298</td>\n",
       "      <td>-0.036925</td>\n",
       "      <td>-0.04027</td>\n",
       "      <td>-0.027711</td>\n",
       "      <td>1</td>\n",
       "    </tr>\n",
       "    <tr>\n",
       "      <th>2</th>\n",
       "      <td>-0.717367</td>\n",
       "      <td>-0.058424</td>\n",
       "      <td>-0.058997</td>\n",
       "      <td>-0.039765</td>\n",
       "      <td>-0.886451</td>\n",
       "      <td>-0.041870</td>\n",
       "      <td>-0.76324</td>\n",
       "      <td>-0.867512</td>\n",
       "      <td>-0.028397</td>\n",
       "      <td>-0.937259</td>\n",
       "      <td>...</td>\n",
       "      <td>0.055542</td>\n",
       "      <td>-0.03699</td>\n",
       "      <td>-0.025032</td>\n",
       "      <td>-0.035523</td>\n",
       "      <td>-0.034716</td>\n",
       "      <td>-0.037298</td>\n",
       "      <td>-0.036925</td>\n",
       "      <td>-0.04027</td>\n",
       "      <td>-0.027711</td>\n",
       "      <td>1</td>\n",
       "    </tr>\n",
       "    <tr>\n",
       "      <th>3</th>\n",
       "      <td>-0.717367</td>\n",
       "      <td>-0.058424</td>\n",
       "      <td>-0.059053</td>\n",
       "      <td>-0.039765</td>\n",
       "      <td>-0.886451</td>\n",
       "      <td>-0.041870</td>\n",
       "      <td>-0.76324</td>\n",
       "      <td>-0.867512</td>\n",
       "      <td>-0.028397</td>\n",
       "      <td>-0.937259</td>\n",
       "      <td>...</td>\n",
       "      <td>0.055542</td>\n",
       "      <td>-0.03699</td>\n",
       "      <td>-0.025032</td>\n",
       "      <td>-0.035523</td>\n",
       "      <td>-0.034716</td>\n",
       "      <td>-0.037298</td>\n",
       "      <td>-0.036925</td>\n",
       "      <td>-0.04027</td>\n",
       "      <td>-0.027711</td>\n",
       "      <td>1</td>\n",
       "    </tr>\n",
       "    <tr>\n",
       "      <th>4</th>\n",
       "      <td>-0.717367</td>\n",
       "      <td>-0.058424</td>\n",
       "      <td>-0.058966</td>\n",
       "      <td>-0.039765</td>\n",
       "      <td>-0.886451</td>\n",
       "      <td>-0.041870</td>\n",
       "      <td>-0.76324</td>\n",
       "      <td>-0.867512</td>\n",
       "      <td>-0.028397</td>\n",
       "      <td>-0.937259</td>\n",
       "      <td>...</td>\n",
       "      <td>0.055542</td>\n",
       "      <td>-0.03699</td>\n",
       "      <td>-0.025032</td>\n",
       "      <td>-0.035523</td>\n",
       "      <td>-0.034716</td>\n",
       "      <td>-0.037298</td>\n",
       "      <td>-0.036925</td>\n",
       "      <td>-0.04027</td>\n",
       "      <td>-0.027711</td>\n",
       "      <td>1</td>\n",
       "    </tr>\n",
       "    <tr>\n",
       "      <th>...</th>\n",
       "      <td>...</td>\n",
       "      <td>...</td>\n",
       "      <td>...</td>\n",
       "      <td>...</td>\n",
       "      <td>...</td>\n",
       "      <td>...</td>\n",
       "      <td>...</td>\n",
       "      <td>...</td>\n",
       "      <td>...</td>\n",
       "      <td>...</td>\n",
       "      <td>...</td>\n",
       "      <td>...</td>\n",
       "      <td>...</td>\n",
       "      <td>...</td>\n",
       "      <td>...</td>\n",
       "      <td>...</td>\n",
       "      <td>...</td>\n",
       "      <td>...</td>\n",
       "      <td>...</td>\n",
       "      <td>...</td>\n",
       "      <td>...</td>\n",
       "    </tr>\n",
       "    <tr>\n",
       "      <th>839206</th>\n",
       "      <td>-0.717367</td>\n",
       "      <td>16.875469</td>\n",
       "      <td>13.752482</td>\n",
       "      <td>50.525786</td>\n",
       "      <td>-0.886451</td>\n",
       "      <td>50.527292</td>\n",
       "      <td>-0.76324</td>\n",
       "      <td>-0.791807</td>\n",
       "      <td>3.535830</td>\n",
       "      <td>-0.561281</td>\n",
       "      <td>...</td>\n",
       "      <td>-16.170177</td>\n",
       "      <td>-0.03699</td>\n",
       "      <td>-0.025032</td>\n",
       "      <td>-0.035523</td>\n",
       "      <td>-0.034716</td>\n",
       "      <td>-0.037298</td>\n",
       "      <td>-0.036925</td>\n",
       "      <td>-0.04027</td>\n",
       "      <td>-0.027711</td>\n",
       "      <td>2</td>\n",
       "    </tr>\n",
       "    <tr>\n",
       "      <th>839207</th>\n",
       "      <td>-0.717367</td>\n",
       "      <td>16.875469</td>\n",
       "      <td>12.256009</td>\n",
       "      <td>19.035987</td>\n",
       "      <td>-0.886451</td>\n",
       "      <td>19.035498</td>\n",
       "      <td>-0.76324</td>\n",
       "      <td>-0.791807</td>\n",
       "      <td>3.535830</td>\n",
       "      <td>-0.561281</td>\n",
       "      <td>...</td>\n",
       "      <td>-16.170177</td>\n",
       "      <td>-0.03699</td>\n",
       "      <td>-0.025032</td>\n",
       "      <td>-0.035523</td>\n",
       "      <td>-0.034716</td>\n",
       "      <td>-0.037298</td>\n",
       "      <td>-0.036925</td>\n",
       "      <td>-0.04027</td>\n",
       "      <td>-0.027711</td>\n",
       "      <td>2</td>\n",
       "    </tr>\n",
       "    <tr>\n",
       "      <th>839208</th>\n",
       "      <td>-0.717367</td>\n",
       "      <td>16.875469</td>\n",
       "      <td>13.945987</td>\n",
       "      <td>23.624839</td>\n",
       "      <td>-0.886451</td>\n",
       "      <td>23.624641</td>\n",
       "      <td>-0.76324</td>\n",
       "      <td>-0.791807</td>\n",
       "      <td>3.535830</td>\n",
       "      <td>-0.561281</td>\n",
       "      <td>...</td>\n",
       "      <td>-16.170177</td>\n",
       "      <td>-0.03699</td>\n",
       "      <td>-0.025032</td>\n",
       "      <td>-0.035523</td>\n",
       "      <td>-0.034716</td>\n",
       "      <td>-0.037298</td>\n",
       "      <td>-0.036925</td>\n",
       "      <td>-0.04027</td>\n",
       "      <td>-0.027711</td>\n",
       "      <td>2</td>\n",
       "    </tr>\n",
       "    <tr>\n",
       "      <th>839209</th>\n",
       "      <td>-0.717367</td>\n",
       "      <td>16.875469</td>\n",
       "      <td>11.613341</td>\n",
       "      <td>13.916624</td>\n",
       "      <td>-0.886451</td>\n",
       "      <td>13.915810</td>\n",
       "      <td>-0.76324</td>\n",
       "      <td>-0.791807</td>\n",
       "      <td>3.535830</td>\n",
       "      <td>-0.561281</td>\n",
       "      <td>...</td>\n",
       "      <td>-16.170177</td>\n",
       "      <td>-0.03699</td>\n",
       "      <td>-0.025032</td>\n",
       "      <td>-0.035523</td>\n",
       "      <td>-0.034716</td>\n",
       "      <td>-0.037298</td>\n",
       "      <td>-0.036925</td>\n",
       "      <td>-0.04027</td>\n",
       "      <td>-0.027711</td>\n",
       "      <td>2</td>\n",
       "    </tr>\n",
       "    <tr>\n",
       "      <th>839210</th>\n",
       "      <td>-0.717367</td>\n",
       "      <td>16.875469</td>\n",
       "      <td>11.391723</td>\n",
       "      <td>14.326091</td>\n",
       "      <td>-0.886451</td>\n",
       "      <td>14.325304</td>\n",
       "      <td>-0.76324</td>\n",
       "      <td>-0.791807</td>\n",
       "      <td>3.535830</td>\n",
       "      <td>-0.561281</td>\n",
       "      <td>...</td>\n",
       "      <td>-16.170177</td>\n",
       "      <td>-0.03699</td>\n",
       "      <td>-0.025032</td>\n",
       "      <td>-0.035523</td>\n",
       "      <td>-0.034716</td>\n",
       "      <td>-0.037298</td>\n",
       "      <td>-0.036925</td>\n",
       "      <td>-0.04027</td>\n",
       "      <td>-0.027711</td>\n",
       "      <td>2</td>\n",
       "    </tr>\n",
       "  </tbody>\n",
       "</table>\n",
       "<p>839211 rows × 79 columns</p>\n",
       "</div>"
      ],
      "text/plain": [
       "        Dst Port   Protocol  Flow Duration  Tot Fwd Pkts  Tot Bwd Pkts  \\\n",
       "0      -0.717367  -0.058424      -0.058985     -0.039765     -0.886451   \n",
       "1      -0.717367  -0.058424      -0.058989     -0.039765     -0.886451   \n",
       "2      -0.717367  -0.058424      -0.058997     -0.039765     -0.886451   \n",
       "3      -0.717367  -0.058424      -0.059053     -0.039765     -0.886451   \n",
       "4      -0.717367  -0.058424      -0.058966     -0.039765     -0.886451   \n",
       "...          ...        ...            ...           ...           ...   \n",
       "839206 -0.717367  16.875469      13.752482     50.525786     -0.886451   \n",
       "839207 -0.717367  16.875469      12.256009     19.035987     -0.886451   \n",
       "839208 -0.717367  16.875469      13.945987     23.624839     -0.886451   \n",
       "839209 -0.717367  16.875469      11.613341     13.916624     -0.886451   \n",
       "839210 -0.717367  16.875469      11.391723     14.326091     -0.886451   \n",
       "\n",
       "        TotLen Fwd Pkts  TotLen Bwd Pkts  Fwd Pkt Len Max  Fwd Pkt Len Min  \\\n",
       "0             -0.041870         -0.76324        -0.867512        -0.028397   \n",
       "1             -0.041870         -0.76324        -0.867512        -0.028397   \n",
       "2             -0.041870         -0.76324        -0.867512        -0.028397   \n",
       "3             -0.041870         -0.76324        -0.867512        -0.028397   \n",
       "4             -0.041870         -0.76324        -0.867512        -0.028397   \n",
       "...                 ...              ...              ...              ...   \n",
       "839206        50.527292         -0.76324        -0.791807         3.535830   \n",
       "839207        19.035498         -0.76324        -0.791807         3.535830   \n",
       "839208        23.624641         -0.76324        -0.791807         3.535830   \n",
       "839209        13.915810         -0.76324        -0.791807         3.535830   \n",
       "839210        14.325304         -0.76324        -0.791807         3.535830   \n",
       "\n",
       "        Fwd Pkt Len Mean  ...  Fwd Seg Size Min  Active Mean  Active Std  \\\n",
       "0              -0.937259  ...          0.055542     -0.03699   -0.025032   \n",
       "1              -0.937259  ...          0.055542     -0.03699   -0.025032   \n",
       "2              -0.937259  ...          0.055542     -0.03699   -0.025032   \n",
       "3              -0.937259  ...          0.055542     -0.03699   -0.025032   \n",
       "4              -0.937259  ...          0.055542     -0.03699   -0.025032   \n",
       "...                  ...  ...               ...          ...         ...   \n",
       "839206         -0.561281  ...        -16.170177     -0.03699   -0.025032   \n",
       "839207         -0.561281  ...        -16.170177     -0.03699   -0.025032   \n",
       "839208         -0.561281  ...        -16.170177     -0.03699   -0.025032   \n",
       "839209         -0.561281  ...        -16.170177     -0.03699   -0.025032   \n",
       "839210         -0.561281  ...        -16.170177     -0.03699   -0.025032   \n",
       "\n",
       "        Active Max  Active Min  Idle Mean  Idle Std  Idle Max  Idle Min  Label  \n",
       "0        -0.035523   -0.034716  -0.037298 -0.036925  -0.04027 -0.027711      1  \n",
       "1        -0.035523   -0.034716  -0.037298 -0.036925  -0.04027 -0.027711      1  \n",
       "2        -0.035523   -0.034716  -0.037298 -0.036925  -0.04027 -0.027711      1  \n",
       "3        -0.035523   -0.034716  -0.037298 -0.036925  -0.04027 -0.027711      1  \n",
       "4        -0.035523   -0.034716  -0.037298 -0.036925  -0.04027 -0.027711      1  \n",
       "...            ...         ...        ...       ...       ...       ...    ...  \n",
       "839206   -0.035523   -0.034716  -0.037298 -0.036925  -0.04027 -0.027711      2  \n",
       "839207   -0.035523   -0.034716  -0.037298 -0.036925  -0.04027 -0.027711      2  \n",
       "839208   -0.035523   -0.034716  -0.037298 -0.036925  -0.04027 -0.027711      2  \n",
       "839209   -0.035523   -0.034716  -0.037298 -0.036925  -0.04027 -0.027711      2  \n",
       "839210   -0.035523   -0.034716  -0.037298 -0.036925  -0.04027 -0.027711      2  \n",
       "\n",
       "[839211 rows x 79 columns]"
      ]
     },
     "execution_count": 34,
     "metadata": {},
     "output_type": "execute_result"
    }
   ],
   "source": [
    "df"
   ]
  },
  {
   "cell_type": "code",
   "execution_count": 35,
   "metadata": {},
   "outputs": [],
   "source": [
    "X = df.drop(['Label'],axis=1).values\n",
    "y = df.iloc[:, -1].values.reshape(-1,1)\n",
    "y=np.ravel(y)"
   ]
  },
  {
   "cell_type": "code",
   "execution_count": 36,
   "metadata": {},
   "outputs": [
    {
     "name": "stdout",
     "output_type": "stream",
     "text": [
      "Phân bố lớp: {0: 288675, 1: 548806, 2: 1730}\n"
     ]
    }
   ],
   "source": [
    "unique, counts = np.unique(y, return_counts=True)\n",
    "print(\"Phân bố lớp:\", dict(zip(unique, counts)))"
   ]
  },
  {
   "cell_type": "code",
   "execution_count": 37,
   "metadata": {},
   "outputs": [],
   "source": [
    "X_train, X_test, y_train, y_test = train_test_split(X,y, train_size = 0.8, test_size = 0.2, random_state = 0,stratify = y)"
   ]
  },
  {
   "cell_type": "code",
   "execution_count": 38,
   "metadata": {},
   "outputs": [
    {
     "data": {
      "text/plain": [
       "(839211, 78)"
      ]
     },
     "execution_count": 38,
     "metadata": {},
     "output_type": "execute_result"
    }
   ],
   "source": [
    "X.shape\n"
   ]
  },
  {
   "cell_type": "markdown",
   "metadata": {},
   "source": [
    "## Feature engineering"
   ]
  },
  {
   "cell_type": "markdown",
   "metadata": {},
   "source": [
    "### Feature selection by information gain"
   ]
  },
  {
   "cell_type": "code",
   "execution_count": 39,
   "metadata": {},
   "outputs": [],
   "source": [
    "from sklearn.feature_selection import mutual_info_classif\n",
    "importances = mutual_info_classif(X_train, y_train)"
   ]
  },
  {
   "cell_type": "code",
   "execution_count": 40,
   "metadata": {},
   "outputs": [],
   "source": [
    "# calculate the sum of importance scores\n",
    "f_list = sorted(zip(map(lambda x: round(x, 4), importances), features), reverse=True)\n",
    "Sum = 0\n",
    "fs = []\n",
    "for i in range(0, len(f_list)):\n",
    "    Sum = Sum + f_list[i][0]\n",
    "    fs.append(f_list[i][1])"
   ]
  },
  {
   "cell_type": "code",
   "execution_count": 41,
   "metadata": {},
   "outputs": [],
   "source": [
    "# select the important features from top to bottom until the accumulated importance reaches 90%\n",
    "f_list2 = sorted(zip(map(lambda x: round(x, 4), importances/Sum), features), reverse=True)\n",
    "Sum2 = 0\n",
    "fs = []\n",
    "for i in range(0, len(f_list2)):\n",
    "    Sum2 = Sum2 + f_list2[i][0]\n",
    "    fs.append(f_list2[i][1])\n",
    "    if Sum2>=0.9:\n",
    "        break        "
   ]
  },
  {
   "cell_type": "code",
   "execution_count": 42,
   "metadata": {},
   "outputs": [],
   "source": [
    "X_fs = df[fs].values"
   ]
  },
  {
   "cell_type": "code",
   "execution_count": 43,
   "metadata": {},
   "outputs": [
    {
     "data": {
      "text/plain": [
       "(839211, 41)"
      ]
     },
     "execution_count": 43,
     "metadata": {},
     "output_type": "execute_result"
    }
   ],
   "source": [
    "X_fs.shape"
   ]
  },
  {
   "cell_type": "code",
   "execution_count": 44,
   "metadata": {},
   "outputs": [
    {
     "data": {
      "text/plain": [
       "(839211,)"
      ]
     },
     "execution_count": 44,
     "metadata": {},
     "output_type": "execute_result"
    }
   ],
   "source": [
    "y.shape"
   ]
  },
  {
   "cell_type": "markdown",
   "metadata": {},
   "source": [
    "### Feature selection by Fast Correlation Based Filter (FCBF)\n",
    "\n",
    "The module is imported from the GitHub repo: https://github.com/SantiagoEG/FCBF_module"
   ]
  },
  {
   "cell_type": "code",
   "execution_count": 45,
   "metadata": {},
   "outputs": [],
   "source": [
    "from FCBF_module import FCBF, FCBFK, FCBFiP, get_i\n",
    "fcbf = FCBFK(k = 20)\n",
    "#fcbf.fit(X_fs, y)"
   ]
  },
  {
   "cell_type": "code",
   "execution_count": 46,
   "metadata": {},
   "outputs": [],
   "source": [
    "X_fss = fcbf.fit_transform(X_fs,y)"
   ]
  },
  {
   "cell_type": "code",
   "execution_count": 47,
   "metadata": {},
   "outputs": [
    {
     "data": {
      "text/plain": [
       "(839211, 20)"
      ]
     },
     "execution_count": 47,
     "metadata": {},
     "output_type": "execute_result"
    }
   ],
   "source": [
    "X_fss.shape"
   ]
  },
  {
   "cell_type": "markdown",
   "metadata": {},
   "source": [
    "### Re-split train & test sets after feature selection"
   ]
  },
  {
   "cell_type": "code",
   "execution_count": 48,
   "metadata": {},
   "outputs": [],
   "source": [
    "X_train, X_test, y_train, y_test = train_test_split(X_fss,y, train_size = 0.8, test_size = 0.2, random_state = 0,stratify = y)"
   ]
  },
  {
   "cell_type": "code",
   "execution_count": 49,
   "metadata": {},
   "outputs": [
    {
     "data": {
      "text/plain": [
       "(671368, 20)"
      ]
     },
     "execution_count": 49,
     "metadata": {},
     "output_type": "execute_result"
    }
   ],
   "source": [
    "X_train.shape"
   ]
  },
  {
   "cell_type": "code",
   "execution_count": 50,
   "metadata": {},
   "outputs": [
    {
     "data": {
      "text/plain": [
       "1    439044\n",
       "0    230940\n",
       "2      1384\n",
       "Name: count, dtype: int64"
      ]
     },
     "execution_count": 50,
     "metadata": {},
     "output_type": "execute_result"
    }
   ],
   "source": [
    "pd.Series(y_train).value_counts()"
   ]
  },
  {
   "cell_type": "markdown",
   "metadata": {},
   "source": [
    "### SMOTE to solve class-imbalance"
   ]
  },
  {
   "cell_type": "code",
   "execution_count": 51,
   "metadata": {},
   "outputs": [],
   "source": [
    "from imblearn.over_sampling import SMOTE\n",
    "smote=SMOTE(n_jobs=-1,sampling_strategy={2:10000})"
   ]
  },
  {
   "cell_type": "code",
   "execution_count": 52,
   "metadata": {},
   "outputs": [],
   "source": [
    "X_train, y_train = smote.fit_resample(X_train, y_train)"
   ]
  },
  {
   "cell_type": "code",
   "execution_count": 53,
   "metadata": {},
   "outputs": [
    {
     "data": {
      "text/plain": [
       "1    439044\n",
       "0    230940\n",
       "2     10000\n",
       "Name: count, dtype: int64"
      ]
     },
     "execution_count": 53,
     "metadata": {},
     "output_type": "execute_result"
    }
   ],
   "source": [
    "pd.Series(y_train).value_counts()"
   ]
  },
  {
   "cell_type": "markdown",
   "metadata": {},
   "source": [
    "## Machine learning model training"
   ]
  },
  {
   "cell_type": "markdown",
   "metadata": {},
   "source": [
    "### Training four base learners: decision tree, random forest, extra trees, XGBoost"
   ]
  },
  {
   "cell_type": "markdown",
   "metadata": {},
   "source": [
    "#### Apply XGBoost"
   ]
  },
  {
   "cell_type": "code",
   "execution_count": 54,
   "metadata": {},
   "outputs": [
    {
     "name": "stdout",
     "output_type": "stream",
     "text": [
      "Accuracy of XGBoost: 0.9999940420512026\n",
      "Precision of XGBoost: 0.9999940592210839\n",
      "Recall of XGBoost: 0.9999940420512026\n",
      "F1-score of XGBoost: 0.999994046324068\n",
      "              precision    recall  f1-score   support\n",
      "\n",
      "           0       1.00      1.00      1.00     57735\n",
      "           1       1.00      1.00      1.00    109762\n",
      "           2       1.00      1.00      1.00       346\n",
      "\n",
      "    accuracy                           1.00    167843\n",
      "   macro avg       1.00      1.00      1.00    167843\n",
      "weighted avg       1.00      1.00      1.00    167843\n",
      "\n"
     ]
    },
    {
     "data": {
      "image/png": "[encoded data removed]",
      "text/plain": [
       "<Figure size 500x500 with 2 Axes>"
      ]
     },
     "metadata": {},
     "output_type": "display_data"
    }
   ],
   "source": [
    "xg = xgb.XGBClassifier(n_estimators = 10)\n",
    "xg.fit(X_train,y_train)\n",
    "xg_score=xg.score(X_test,y_test)\n",
    "y_predict=xg.predict(X_test)\n",
    "y_true=y_test\n",
    "print('Accuracy of XGBoost: '+ str(xg_score))\n",
    "precision,recall,fscore,none= precision_recall_fscore_support(y_true, y_predict, average='weighted') \n",
    "print('Precision of XGBoost: '+(str(precision)))\n",
    "print('Recall of XGBoost: '+(str(recall)))\n",
    "print('F1-score of XGBoost: '+(str(fscore)))\n",
    "print(classification_report(y_true,y_predict))\n",
    "cm=confusion_matrix(y_true,y_predict)\n",
    "f,ax=plt.subplots(figsize=(5,5))\n",
    "sns.heatmap(cm,annot=True,linewidth=0.5,linecolor=\"red\",fmt=\".0f\",ax=ax)\n",
    "plt.xlabel(\"y_pred\")\n",
    "plt.ylabel(\"y_true\")\n",
    "plt.show()"
   ]
  },
  {
   "cell_type": "markdown",
   "metadata": {},
   "source": [
    "#### Hyperparameter optimization (HPO) of XGBoost using Bayesian optimization with tree-based Parzen estimator (BO-TPE)\n",
    "Based on the GitHub repo for HPO: https://github.com/LiYangHart/Hyperparameter-Optimization-of-Machine-Learning-Algorithms"
   ]
  },
  {
   "cell_type": "code",
   "execution_count": 56,
   "metadata": {},
   "outputs": [
    {
     "name": "stdout",
     "output_type": "stream",
     "text": [
      "Collecting hyperopt\n",
      "  Using cached hyperopt-0.2.7-py2.py3-none-any.whl.metadata (1.7 kB)\n",
      "Requirement already satisfied: numpy in c:\\users\\admin\\anaconda3\\lib\\site-packages (from hyperopt) (1.26.4)\n",
      "Requirement already satisfied: scipy in c:\\users\\admin\\anaconda3\\lib\\site-packages (from hyperopt) (1.13.1)\n",
      "Requirement already satisfied: six in c:\\users\\admin\\anaconda3\\lib\\site-packages (from hyperopt) (1.16.0)\n",
      "Requirement already satisfied: networkx>=2.2 in c:\\users\\admin\\anaconda3\\lib\\site-packages (from hyperopt) (3.2.1)\n",
      "Collecting future (from hyperopt)\n",
      "  Using cached future-1.0.0-py3-none-any.whl.metadata (4.0 kB)\n",
      "Requirement already satisfied: tqdm in c:\\users\\admin\\anaconda3\\lib\\site-packages (from hyperopt) (4.66.4)\n",
      "Requirement already satisfied: cloudpickle in c:\\users\\admin\\anaconda3\\lib\\site-packages (from hyperopt) (2.2.1)\n",
      "Collecting py4j (from hyperopt)\n",
      "  Using cached py4j-0.10.9.7-py2.py3-none-any.whl.metadata (1.5 kB)\n",
      "Requirement already satisfied: colorama in c:\\users\\admin\\appdata\\roaming\\python\\python312\\site-packages (from tqdm->hyperopt) (0.4.6)\n",
      "Using cached hyperopt-0.2.7-py2.py3-none-any.whl (1.6 MB)\n",
      "Using cached future-1.0.0-py3-none-any.whl (491 kB)\n",
      "Using cached py4j-0.10.9.7-py2.py3-none-any.whl (200 kB)\n",
      "Installing collected packages: py4j, future, hyperopt\n",
      "Successfully installed future-1.0.0 hyperopt-0.2.7 py4j-0.10.9.7\n"
     ]
    }
   ],
   "source": [
    "!pip install hyperopt"
   ]
  },
  {
   "cell_type": "code",
   "execution_count": 57,
   "metadata": {},
   "outputs": [
    {
     "name": "stdout",
     "output_type": "stream",
     "text": [
      "100%|██████████| 20/20 [03:57<00:00, 11.89s/trial, best loss: -1.0]\n",
      "XGBoost: Hyperopt estimated optimum {'learning_rate': -1.1450449167331331, 'max_depth': 50.0, 'n_estimators': 45.0}\n"
     ]
    }
   ],
   "source": [
    "from hyperopt import hp, fmin, tpe, STATUS_OK, Trials\n",
    "from sklearn.model_selection import cross_val_score, StratifiedKFold\n",
    "def objective(params):\n",
    "    params = {\n",
    "        'n_estimators': int(params['n_estimators']), \n",
    "        'max_depth': int(params['max_depth']),\n",
    "        'learning_rate':  abs(float(params['learning_rate'])),\n",
    "\n",
    "    }\n",
    "    clf = xgb.XGBClassifier( **params)\n",
    "    clf.fit(X_train, y_train)\n",
    "    y_pred = clf.predict(X_test)\n",
    "    score = accuracy_score(y_test, y_pred)\n",
    "\n",
    "    return {'loss':-score, 'status': STATUS_OK }\n",
    "\n",
    "space = {\n",
    "    'n_estimators': hp.quniform('n_estimators', 10, 100, 5),\n",
    "    'max_depth': hp.quniform('max_depth', 4, 100, 1),\n",
    "    'learning_rate': hp.normal('learning_rate', 0.01, 0.9),\n",
    "}\n",
    "\n",
    "best = fmin(fn=objective,\n",
    "            space=space,\n",
    "            algo=tpe.suggest,\n",
    "            max_evals=20)\n",
    "print(\"XGBoost: Hyperopt estimated optimum {}\".format(best))"
   ]
  },
  {
   "cell_type": "code",
   "execution_count": 58,
   "metadata": {},
   "outputs": [
    {
     "name": "stdout",
     "output_type": "stream",
     "text": [
      "Accuracy of XGBoost: 1.0\n",
      "Precision of XGBoost: 1.0\n",
      "Recall of XGBoost: 1.0\n",
      "F1-score of XGBoost: 1.0\n",
      "              precision    recall  f1-score   support\n",
      "\n",
      "           0       1.00      1.00      1.00     57735\n",
      "           1       1.00      1.00      1.00    109762\n",
      "           2       1.00      1.00      1.00       346\n",
      "\n",
      "    accuracy                           1.00    167843\n",
      "   macro avg       1.00      1.00      1.00    167843\n",
      "weighted avg       1.00      1.00      1.00    167843\n",
      "\n"
     ]
    },
    {
     "data": {
      "image/png": "[encoded data removed]",
      "text/plain": [
       "<Figure size 500x500 with 2 Axes>"
      ]
     },
     "metadata": {},
     "output_type": "display_data"
    }
   ],
   "source": [
    "xg = xgb.XGBClassifier(learning_rate= 1.1450449167331331, n_estimators = 45, max_depth = 50)\n",
    "xg.fit(X_train,y_train)\n",
    "xg_score=xg.score(X_test,y_test)\n",
    "y_predict=xg.predict(X_test)\n",
    "y_true=y_test\n",
    "print('Accuracy of XGBoost: '+ str(xg_score))\n",
    "precision,recall,fscore,none= precision_recall_fscore_support(y_true, y_predict, average='weighted') \n",
    "print('Precision of XGBoost: '+(str(precision)))\n",
    "print('Recall of XGBoost: '+(str(recall)))\n",
    "print('F1-score of XGBoost: '+(str(fscore)))\n",
    "print(classification_report(y_true,y_predict))\n",
    "cm=confusion_matrix(y_true,y_predict)\n",
    "f,ax=plt.subplots(figsize=(5,5))\n",
    "sns.heatmap(cm,annot=True,linewidth=0.5,linecolor=\"red\",fmt=\".0f\",ax=ax)\n",
    "plt.xlabel(\"y_pred\")\n",
    "plt.ylabel(\"y_true\")\n",
    "plt.show()"
   ]
  },
  {
   "cell_type": "code",
   "execution_count": 59,
   "metadata": {},
   "outputs": [],
   "source": [
    "xg_train=xg.predict(X_train)\n",
    "xg_test=xg.predict(X_test)"
   ]
  },
  {
   "cell_type": "markdown",
   "metadata": {},
   "source": [
    "#### Apply RF"
   ]
  },
  {
   "cell_type": "code",
   "execution_count": 60,
   "metadata": {},
   "outputs": [
    {
     "name": "stdout",
     "output_type": "stream",
     "text": [
      "Accuracy of RF: 1.0\n",
      "Precision of RF: 1.0\n",
      "Recall of RF: 1.0\n",
      "F1-score of RF: 1.0\n",
      "              precision    recall  f1-score   support\n",
      "\n",
      "           0       1.00      1.00      1.00     57735\n",
      "           1       1.00      1.00      1.00    109762\n",
      "           2       1.00      1.00      1.00       346\n",
      "\n",
      "    accuracy                           1.00    167843\n",
      "   macro avg       1.00      1.00      1.00    167843\n",
      "weighted avg       1.00      1.00      1.00    167843\n",
      "\n"
     ]
    },
    {
     "data": {
      "image/png": "[encoded data removed]",
      "text/plain": [
       "<Figure size 500x500 with 2 Axes>"
      ]
     },
     "metadata": {},
     "output_type": "display_data"
    }
   ],
   "source": [
    "rf = RandomForestClassifier(random_state = 0)\n",
    "rf.fit(X_train,y_train) \n",
    "rf_score=rf.score(X_test,y_test)\n",
    "y_predict=rf.predict(X_test)\n",
    "y_true=y_test\n",
    "print('Accuracy of RF: '+ str(rf_score))\n",
    "precision,recall,fscore,none= precision_recall_fscore_support(y_true, y_predict, average='weighted') \n",
    "print('Precision of RF: '+(str(precision)))\n",
    "print('Recall of RF: '+(str(recall)))\n",
    "print('F1-score of RF: '+(str(fscore)))\n",
    "print(classification_report(y_true,y_predict))\n",
    "cm=confusion_matrix(y_true,y_predict)\n",
    "f,ax=plt.subplots(figsize=(5,5))\n",
    "sns.heatmap(cm,annot=True,linewidth=0.5,linecolor=\"red\",fmt=\".0f\",ax=ax)\n",
    "plt.xlabel(\"y_pred\")\n",
    "plt.ylabel(\"y_true\")\n",
    "plt.show()"
   ]
  },
  {
   "cell_type": "markdown",
   "metadata": {},
   "source": [
    "#### Hyperparameter optimization (HPO) of random forest using Bayesian optimization with tree-based Parzen estimator (BO-TPE)\n",
    "Based on the GitHub repo for HPO: https://github.com/LiYangHart/Hyperparameter-Optimization-of-Machine-Learning-Algorithms"
   ]
  },
  {
   "cell_type": "code",
   "execution_count": 61,
   "metadata": {},
   "outputs": [
    {
     "name": "stdout",
     "output_type": "stream",
     "text": [
      "  0%|          | 0/20 [00:00<?, ?trial/s, best loss=?]"
     ]
    },
    {
     "name": "stdout",
     "output_type": "stream",
     "text": [
      "100%|██████████| 20/20 [37:34<00:00, 112.72s/trial, best loss: -1.0]\n",
      "Random Forest: Hyperopt estimated optimum {'criterion': 0, 'max_depth': 24.0, 'max_features': 7.0, 'min_samples_leaf': 7.0, 'min_samples_split': 4.0, 'n_estimators': 24.0}\n"
     ]
    }
   ],
   "source": [
    "# Hyperparameter optimization of random forest\n",
    "from hyperopt import hp, fmin, tpe, STATUS_OK, Trials\n",
    "from sklearn.model_selection import cross_val_score, StratifiedKFold\n",
    "# Define the objective function\n",
    "def objective(params):\n",
    "    params = {\n",
    "        'n_estimators': int(params['n_estimators']), \n",
    "        'max_depth': int(params['max_depth']),\n",
    "        'max_features': int(params['max_features']),\n",
    "        \"min_samples_split\":int(params['min_samples_split']),\n",
    "        \"min_samples_leaf\":int(params['min_samples_leaf']),\n",
    "        \"criterion\":str(params['criterion'])\n",
    "    }\n",
    "    clf = RandomForestClassifier( **params)\n",
    "    clf.fit(X_train,y_train)\n",
    "    score=clf.score(X_test,y_test)\n",
    "\n",
    "    return {'loss':-score, 'status': STATUS_OK }\n",
    "# Define the hyperparameter configuration space\n",
    "space = {\n",
    "    'n_estimators': hp.quniform('n_estimators', 10, 200, 1),\n",
    "    'max_depth': hp.quniform('max_depth', 5, 50, 1),\n",
    "    \"max_features\":hp.quniform('max_features', 1, 20, 1),\n",
    "    \"min_samples_split\":hp.quniform('min_samples_split',2,11,1),\n",
    "    \"min_samples_leaf\":hp.quniform('min_samples_leaf',1,11,1),\n",
    "    \"criterion\":hp.choice('criterion',['gini','entropy'])\n",
    "}\n",
    "\n",
    "best = fmin(fn=objective,\n",
    "            space=space,\n",
    "            algo=tpe.suggest,\n",
    "            max_evals=20)\n",
    "print(\"Random Forest: Hyperopt estimated optimum {}\".format(best))"
   ]
  },
  {
   "cell_type": "code",
   "execution_count": 62,
   "metadata": {},
   "outputs": [
    {
     "name": "stdout",
     "output_type": "stream",
     "text": [
      "Accuracy of RF: 1.0\n",
      "Precision of RF: 1.0\n",
      "Recall of RF: 1.0\n",
      "F1-score of RF: 1.0\n",
      "              precision    recall  f1-score   support\n",
      "\n",
      "           0       1.00      1.00      1.00     57735\n",
      "           1       1.00      1.00      1.00    109762\n",
      "           2       1.00      1.00      1.00       346\n",
      "\n",
      "    accuracy                           1.00    167843\n",
      "   macro avg       1.00      1.00      1.00    167843\n",
      "weighted avg       1.00      1.00      1.00    167843\n",
      "\n"
     ]
    },
    {
     "data": {
      "image/png": "[encoded data removed]",
      "text/plain": [
       "<Figure size 500x500 with 2 Axes>"
      ]
     },
     "metadata": {},
     "output_type": "display_data"
    }
   ],
   "source": [
    "rf_hpo = RandomForestClassifier(n_estimators = 24, min_samples_leaf = 7, max_depth = 24, min_samples_split = 4, max_features = 7, criterion = 'gini')\n",
    "rf_hpo.fit(X_train,y_train)\n",
    "rf_score=rf_hpo.score(X_test,y_test)\n",
    "y_predict=rf_hpo.predict(X_test)\n",
    "y_true=y_test\n",
    "print('Accuracy of RF: '+ str(rf_score))\n",
    "precision,recall,fscore,none= precision_recall_fscore_support(y_true, y_predict, average='weighted') \n",
    "print('Precision of RF: '+(str(precision)))\n",
    "print('Recall of RF: '+(str(recall)))\n",
    "print('F1-score of RF: '+(str(fscore)))\n",
    "print(classification_report(y_true,y_predict))\n",
    "cm=confusion_matrix(y_true,y_predict)\n",
    "f,ax=plt.subplots(figsize=(5,5))\n",
    "sns.heatmap(cm,annot=True,linewidth=0.5,linecolor=\"red\",fmt=\".0f\",ax=ax)\n",
    "plt.xlabel(\"y_pred\")\n",
    "plt.ylabel(\"y_true\")\n",
    "plt.show()"
   ]
  },
  {
   "cell_type": "code",
   "execution_count": 63,
   "metadata": {},
   "outputs": [],
   "source": [
    "rf_train=rf_hpo.predict(X_train)\n",
    "rf_test=rf_hpo.predict(X_test)"
   ]
  },
  {
   "cell_type": "markdown",
   "metadata": {},
   "source": [
    "#### Apply DT"
   ]
  },
  {
   "cell_type": "code",
   "execution_count": 64,
   "metadata": {},
   "outputs": [
    {
     "name": "stdout",
     "output_type": "stream",
     "text": [
      "Accuracy of DT: 0.9999940420512026\n",
      "Precision of DT: 0.9999940592210839\n",
      "Recall of DT: 0.9999940420512026\n",
      "F1-score of DT: 0.999994046324068\n",
      "              precision    recall  f1-score   support\n",
      "\n",
      "           0       1.00      1.00      1.00     57735\n",
      "           1       1.00      1.00      1.00    109762\n",
      "           2       1.00      1.00      1.00       346\n",
      "\n",
      "    accuracy                           1.00    167843\n",
      "   macro avg       1.00      1.00      1.00    167843\n",
      "weighted avg       1.00      1.00      1.00    167843\n",
      "\n"
     ]
    },
    {
     "data": {
      "image/png": "[encoded data removed]",
      "text/plain": [
       "<Figure size 500x500 with 2 Axes>"
      ]
     },
     "metadata": {},
     "output_type": "display_data"
    }
   ],
   "source": [
    "dt = DecisionTreeClassifier(random_state = 0)\n",
    "dt.fit(X_train,y_train) \n",
    "dt_score=dt.score(X_test,y_test)\n",
    "y_predict=dt.predict(X_test)\n",
    "y_true=y_test\n",
    "print('Accuracy of DT: '+ str(dt_score))\n",
    "precision,recall,fscore,none= precision_recall_fscore_support(y_true, y_predict, average='weighted') \n",
    "print('Precision of DT: '+(str(precision)))\n",
    "print('Recall of DT: '+(str(recall)))\n",
    "print('F1-score of DT: '+(str(fscore)))\n",
    "print(classification_report(y_true,y_predict))\n",
    "cm=confusion_matrix(y_true,y_predict)\n",
    "f,ax=plt.subplots(figsize=(5,5))\n",
    "sns.heatmap(cm,annot=True,linewidth=0.5,linecolor=\"red\",fmt=\".0f\",ax=ax)\n",
    "plt.xlabel(\"y_pred\")\n",
    "plt.ylabel(\"y_true\")\n",
    "plt.show()"
   ]
  },
  {
   "cell_type": "markdown",
   "metadata": {},
   "source": [
    "#### Hyperparameter optimization (HPO) of decision tree using Bayesian optimization with tree-based Parzen estimator (BO-TPE)\n",
    "Based on the GitHub repo for HPO: https://github.com/LiYangHart/Hyperparameter-Optimization-of-Machine-Learning-Algorithms"
   ]
  },
  {
   "cell_type": "code",
   "execution_count": 65,
   "metadata": {},
   "outputs": [
    {
     "name": "stdout",
     "output_type": "stream",
     "text": [
      "100%|██████████| 50/50 [01:25<00:00,  1.72s/trial, best loss: -1.0]\n",
      "Decision tree: Hyperopt estimated optimum {'criterion': 1, 'max_depth': 36.0, 'max_features': 17.0, 'min_samples_leaf': 2.0, 'min_samples_split': 9.0}\n"
     ]
    }
   ],
   "source": [
    "# Hyperparameter optimization of decision tree\n",
    "from hyperopt import hp, fmin, tpe, STATUS_OK, Trials\n",
    "from sklearn.model_selection import cross_val_score, StratifiedKFold\n",
    "# Define the objective function\n",
    "def objective(params):\n",
    "    params = {\n",
    "        'max_depth': int(params['max_depth']),\n",
    "        'max_features': int(params['max_features']),\n",
    "        \"min_samples_split\":int(params['min_samples_split']),\n",
    "        \"min_samples_leaf\":int(params['min_samples_leaf']),\n",
    "        \"criterion\":str(params['criterion'])\n",
    "    }\n",
    "    clf = DecisionTreeClassifier( **params)\n",
    "    clf.fit(X_train,y_train)\n",
    "    score=clf.score(X_test,y_test)\n",
    "\n",
    "    return {'loss':-score, 'status': STATUS_OK }\n",
    "# Define the hyperparameter configuration space\n",
    "space = {\n",
    "    'max_depth': hp.quniform('max_depth', 5, 50, 1),\n",
    "    \"max_features\":hp.quniform('max_features', 1, 20, 1),\n",
    "    \"min_samples_split\":hp.quniform('min_samples_split',2,11,1),\n",
    "    \"min_samples_leaf\":hp.quniform('min_samples_leaf',1,11,1),\n",
    "    \"criterion\":hp.choice('criterion',['gini','entropy'])\n",
    "}\n",
    "\n",
    "best = fmin(fn=objective,\n",
    "            space=space,\n",
    "            algo=tpe.suggest,\n",
    "            max_evals=50)\n",
    "print(\"Decision tree: Hyperopt estimated optimum {}\".format(best))"
   ]
  },
  {
   "cell_type": "code",
   "execution_count": 66,
   "metadata": {},
   "outputs": [
    {
     "name": "stdout",
     "output_type": "stream",
     "text": [
      "Accuracy of DT: 0.9999940420512026\n",
      "Precision of DT: 0.9999940592210839\n",
      "Recall of DT: 0.9999940420512026\n",
      "F1-score of DT: 0.999994046324068\n",
      "              precision    recall  f1-score   support\n",
      "\n",
      "           0       1.00      1.00      1.00     57735\n",
      "           1       1.00      1.00      1.00    109762\n",
      "           2       1.00      1.00      1.00       346\n",
      "\n",
      "    accuracy                           1.00    167843\n",
      "   macro avg       1.00      1.00      1.00    167843\n",
      "weighted avg       1.00      1.00      1.00    167843\n",
      "\n"
     ]
    },
    {
     "data": {
      "image/png": "[encoded data removed]",
      "text/plain": [
       "<Figure size 500x500 with 2 Axes>"
      ]
     },
     "metadata": {},
     "output_type": "display_data"
    }
   ],
   "source": [
    "dt_hpo = DecisionTreeClassifier(min_samples_leaf = 2, max_depth = 36, min_samples_split = 9, max_features = 17, criterion = 'entropy')\n",
    "dt_hpo.fit(X_train,y_train)\n",
    "dt_score=dt_hpo.score(X_test,y_test)\n",
    "y_predict=dt_hpo.predict(X_test)\n",
    "y_true=y_test\n",
    "print('Accuracy of DT: '+ str(dt_score))\n",
    "precision,recall,fscore,none= precision_recall_fscore_support(y_true, y_predict, average='weighted') \n",
    "print('Precision of DT: '+(str(precision)))\n",
    "print('Recall of DT: '+(str(recall)))\n",
    "print('F1-score of DT: '+(str(fscore)))\n",
    "print(classification_report(y_true,y_predict))\n",
    "cm=confusion_matrix(y_true,y_predict)\n",
    "f,ax=plt.subplots(figsize=(5,5))\n",
    "sns.heatmap(cm,annot=True,linewidth=0.5,linecolor=\"red\",fmt=\".0f\",ax=ax)\n",
    "plt.xlabel(\"y_pred\")\n",
    "plt.ylabel(\"y_true\")\n",
    "plt.show()"
   ]
  },
  {
   "cell_type": "code",
   "execution_count": 67,
   "metadata": {},
   "outputs": [],
   "source": [
    "dt_train=dt_hpo.predict(X_train)\n",
    "dt_test=dt_hpo.predict(X_test)"
   ]
  },
  {
   "cell_type": "markdown",
   "metadata": {},
   "source": [
    "#### Apply ET"
   ]
  },
  {
   "cell_type": "code",
   "execution_count": 68,
   "metadata": {},
   "outputs": [
    {
     "name": "stdout",
     "output_type": "stream",
     "text": [
      "Accuracy of ET: 1.0\n",
      "Precision of ET: 1.0\n",
      "Recall of ET: 1.0\n",
      "F1-score of ET: 1.0\n",
      "              precision    recall  f1-score   support\n",
      "\n",
      "           0       1.00      1.00      1.00     57735\n",
      "           1       1.00      1.00      1.00    109762\n",
      "           2       1.00      1.00      1.00       346\n",
      "\n",
      "    accuracy                           1.00    167843\n",
      "   macro avg       1.00      1.00      1.00    167843\n",
      "weighted avg       1.00      1.00      1.00    167843\n",
      "\n"
     ]
    },
    {
     "data": {
      "image/png": "[encoded data removed]",
      "text/plain": [
       "<Figure size 500x500 with 2 Axes>"
      ]
     },
     "metadata": {},
     "output_type": "display_data"
    }
   ],
   "source": [
    "et = ExtraTreesClassifier(random_state = 0)\n",
    "et.fit(X_train,y_train) \n",
    "et_score=et.score(X_test,y_test)\n",
    "y_predict=et.predict(X_test)\n",
    "y_true=y_test\n",
    "print('Accuracy of ET: '+ str(et_score))\n",
    "precision,recall,fscore,none= precision_recall_fscore_support(y_true, y_predict, average='weighted') \n",
    "print('Precision of ET: '+(str(precision)))\n",
    "print('Recall of ET: '+(str(recall)))\n",
    "print('F1-score of ET: '+(str(fscore)))\n",
    "print(classification_report(y_true,y_predict))\n",
    "cm=confusion_matrix(y_true,y_predict)\n",
    "f,ax=plt.subplots(figsize=(5,5))\n",
    "sns.heatmap(cm,annot=True,linewidth=0.5,linecolor=\"red\",fmt=\".0f\",ax=ax)\n",
    "plt.xlabel(\"y_pred\")\n",
    "plt.ylabel(\"y_true\")\n",
    "plt.show()"
   ]
  },
  {
   "cell_type": "markdown",
   "metadata": {},
   "source": [
    "#### Hyperparameter optimization (HPO) of extra trees using Bayesian optimization with tree-based Parzen estimator (BO-TPE)\n",
    "Based on the GitHub repo for HPO: https://github.com/LiYangHart/Hyperparameter-Optimization-of-Machine-Learning-Algorithms"
   ]
  },
  {
   "cell_type": "code",
   "execution_count": 69,
   "metadata": {},
   "outputs": [
    {
     "name": "stdout",
     "output_type": "stream",
     "text": [
      "  0%|          | 0/20 [00:00<?, ?trial/s, best loss=?]"
     ]
    },
    {
     "name": "stdout",
     "output_type": "stream",
     "text": [
      "100%|██████████| 20/20 [22:03<00:00, 66.17s/trial, best loss: -1.0] \n",
      "Random Forest: Hyperopt estimated optimum {'criterion': 0, 'max_depth': 15.0, 'max_features': 9.0, 'min_samples_leaf': 8.0, 'min_samples_split': 10.0, 'n_estimators': 124.0}\n"
     ]
    }
   ],
   "source": [
    "# Hyperparameter optimization of extra trees\n",
    "from hyperopt import hp, fmin, tpe, STATUS_OK, Trials\n",
    "from sklearn.model_selection import cross_val_score, StratifiedKFold\n",
    "# Define the objective function\n",
    "def objective(params):\n",
    "    params = {\n",
    "        'n_estimators': int(params['n_estimators']), \n",
    "        'max_depth': int(params['max_depth']),\n",
    "        'max_features': int(params['max_features']),\n",
    "        \"min_samples_split\":int(params['min_samples_split']),\n",
    "        \"min_samples_leaf\":int(params['min_samples_leaf']),\n",
    "        \"criterion\":str(params['criterion'])\n",
    "    }\n",
    "    clf = ExtraTreesClassifier( **params)\n",
    "    clf.fit(X_train,y_train)\n",
    "    score=clf.score(X_test,y_test)\n",
    "\n",
    "    return {'loss':-score, 'status': STATUS_OK }\n",
    "# Define the hyperparameter configuration space\n",
    "space = {\n",
    "    'n_estimators': hp.quniform('n_estimators', 10, 200, 1),\n",
    "    'max_depth': hp.quniform('max_depth', 5, 50, 1),\n",
    "    \"max_features\":hp.quniform('max_features', 1, 20, 1),\n",
    "    \"min_samples_split\":hp.quniform('min_samples_split',2,11,1),\n",
    "    \"min_samples_leaf\":hp.quniform('min_samples_leaf',1,11,1),\n",
    "    \"criterion\":hp.choice('criterion',['gini','entropy'])\n",
    "}\n",
    "\n",
    "best = fmin(fn=objective,\n",
    "            space=space,\n",
    "            algo=tpe.suggest,\n",
    "            max_evals=20)\n",
    "print(\"Random Forest: Hyperopt estimated optimum {}\".format(best))"
   ]
  },
  {
   "cell_type": "code",
   "execution_count": 70,
   "metadata": {},
   "outputs": [
    {
     "name": "stdout",
     "output_type": "stream",
     "text": [
      "Accuracy of ET: 1.0\n",
      "Precision of ET: 1.0\n",
      "Recall of ET: 1.0\n",
      "F1-score of ET: 1.0\n",
      "              precision    recall  f1-score   support\n",
      "\n",
      "           0       1.00      1.00      1.00     57735\n",
      "           1       1.00      1.00      1.00    109762\n",
      "           2       1.00      1.00      1.00       346\n",
      "\n",
      "    accuracy                           1.00    167843\n",
      "   macro avg       1.00      1.00      1.00    167843\n",
      "weighted avg       1.00      1.00      1.00    167843\n",
      "\n"
     ]
    },
    {
     "data": {
      "image/png": "[encoded data removed]",
      "text/plain": [
       "<Figure size 500x500 with 2 Axes>"
      ]
     },
     "metadata": {},
     "output_type": "display_data"
    }
   ],
   "source": [
    "et_hpo = ExtraTreesClassifier(n_estimators = 124, min_samples_leaf = 8, max_depth = 15, min_samples_split = 10, max_features = 9, criterion = 'gini')\n",
    "et_hpo.fit(X_train,y_train) \n",
    "et_score=et_hpo.score(X_test,y_test)\n",
    "y_predict=et_hpo.predict(X_test)\n",
    "y_true=y_test\n",
    "print('Accuracy of ET: '+ str(et_score))\n",
    "precision,recall,fscore,none= precision_recall_fscore_support(y_true, y_predict, average='weighted') \n",
    "print('Precision of ET: '+(str(precision)))\n",
    "print('Recall of ET: '+(str(recall)))\n",
    "print('F1-score of ET: '+(str(fscore)))\n",
    "print(classification_report(y_true,y_predict))\n",
    "cm=confusion_matrix(y_true,y_predict)\n",
    "f,ax=plt.subplots(figsize=(5,5))\n",
    "sns.heatmap(cm,annot=True,linewidth=0.5,linecolor=\"red\",fmt=\".0f\",ax=ax)\n",
    "plt.xlabel(\"y_pred\")\n",
    "plt.ylabel(\"y_true\")\n",
    "plt.show()"
   ]
  },
  {
   "cell_type": "code",
   "execution_count": 71,
   "metadata": {},
   "outputs": [],
   "source": [
    "et_train=et_hpo.predict(X_train)\n",
    "et_test=et_hpo.predict(X_test)"
   ]
  },
  {
   "cell_type": "markdown",
   "metadata": {},
   "source": [
    "### Apply Stacking\n",
    "The ensemble model that combines the four ML models (DT, RF, ET, XGBoost)"
   ]
  },
  {
   "cell_type": "code",
   "execution_count": 72,
   "metadata": {},
   "outputs": [
    {
     "data": {
      "text/html": [
       "<div>\n",
       "<style scoped>\n",
       "    .dataframe tbody tr th:only-of-type {\n",
       "        vertical-align: middle;\n",
       "    }\n",
       "\n",
       "    .dataframe tbody tr th {\n",
       "        vertical-align: top;\n",
       "    }\n",
       "\n",
       "    .dataframe thead th {\n",
       "        text-align: right;\n",
       "    }\n",
       "</style>\n",
       "<table border=\"1\" class=\"dataframe\">\n",
       "  <thead>\n",
       "    <tr style=\"text-align: right;\">\n",
       "      <th></th>\n",
       "      <th>DecisionTree</th>\n",
       "      <th>RandomForest</th>\n",
       "      <th>ExtraTrees</th>\n",
       "      <th>XgBoost</th>\n",
       "    </tr>\n",
       "  </thead>\n",
       "  <tbody>\n",
       "    <tr>\n",
       "      <th>0</th>\n",
       "      <td>1</td>\n",
       "      <td>1</td>\n",
       "      <td>1</td>\n",
       "      <td>1</td>\n",
       "    </tr>\n",
       "    <tr>\n",
       "      <th>1</th>\n",
       "      <td>1</td>\n",
       "      <td>1</td>\n",
       "      <td>1</td>\n",
       "      <td>1</td>\n",
       "    </tr>\n",
       "    <tr>\n",
       "      <th>2</th>\n",
       "      <td>1</td>\n",
       "      <td>1</td>\n",
       "      <td>1</td>\n",
       "      <td>1</td>\n",
       "    </tr>\n",
       "    <tr>\n",
       "      <th>3</th>\n",
       "      <td>1</td>\n",
       "      <td>1</td>\n",
       "      <td>1</td>\n",
       "      <td>1</td>\n",
       "    </tr>\n",
       "    <tr>\n",
       "      <th>4</th>\n",
       "      <td>1</td>\n",
       "      <td>1</td>\n",
       "      <td>1</td>\n",
       "      <td>1</td>\n",
       "    </tr>\n",
       "  </tbody>\n",
       "</table>\n",
       "</div>"
      ],
      "text/plain": [
       "   DecisionTree  RandomForest  ExtraTrees  XgBoost\n",
       "0             1             1           1        1\n",
       "1             1             1           1        1\n",
       "2             1             1           1        1\n",
       "3             1             1           1        1\n",
       "4             1             1           1        1"
      ]
     },
     "execution_count": 72,
     "metadata": {},
     "output_type": "execute_result"
    }
   ],
   "source": [
    "base_predictions_train = pd.DataFrame( {\n",
    "    'DecisionTree': dt_train.ravel(),\n",
    "        'RandomForest': rf_train.ravel(),\n",
    "     'ExtraTrees': et_train.ravel(),\n",
    "     'XgBoost': xg_train.ravel(),\n",
    "    })\n",
    "base_predictions_train.head(5)"
   ]
  },
  {
   "cell_type": "code",
   "execution_count": 73,
   "metadata": {},
   "outputs": [],
   "source": [
    "dt_train=dt_train.reshape(-1, 1)\n",
    "et_train=et_train.reshape(-1, 1)\n",
    "rf_train=rf_train.reshape(-1, 1)\n",
    "xg_train=xg_train.reshape(-1, 1)\n",
    "dt_test=dt_test.reshape(-1, 1)\n",
    "et_test=et_test.reshape(-1, 1)\n",
    "rf_test=rf_test.reshape(-1, 1)\n",
    "xg_test=xg_test.reshape(-1, 1)"
   ]
  },
  {
   "cell_type": "code",
   "execution_count": 74,
   "metadata": {},
   "outputs": [
    {
     "data": {
      "text/plain": [
       "(679984, 1)"
      ]
     },
     "execution_count": 74,
     "metadata": {},
     "output_type": "execute_result"
    }
   ],
   "source": [
    "dt_train.shape"
   ]
  },
  {
   "cell_type": "code",
   "execution_count": 75,
   "metadata": {},
   "outputs": [],
   "source": [
    "x_train = np.concatenate(( dt_train, et_train, rf_train, xg_train), axis=1)\n",
    "x_test = np.concatenate(( dt_test, et_test, rf_test, xg_test), axis=1)"
   ]
  },
  {
   "cell_type": "code",
   "execution_count": 76,
   "metadata": {},
   "outputs": [
    {
     "name": "stdout",
     "output_type": "stream",
     "text": [
      "Accuracy of Stacking: 1.0\n",
      "Precision of Stacking: 1.0\n",
      "Recall of Stacking: 1.0\n",
      "F1-score of Stacking: 1.0\n",
      "              precision    recall  f1-score   support\n",
      "\n",
      "           0       1.00      1.00      1.00     57735\n",
      "           1       1.00      1.00      1.00    109762\n",
      "           2       1.00      1.00      1.00       346\n",
      "\n",
      "    accuracy                           1.00    167843\n",
      "   macro avg       1.00      1.00      1.00    167843\n",
      "weighted avg       1.00      1.00      1.00    167843\n",
      "\n"
     ]
    },
    {
     "data": {
      "image/png": "[encoded data removed]",
      "text/plain": [
       "<Figure size 500x500 with 2 Axes>"
      ]
     },
     "metadata": {},
     "output_type": "display_data"
    }
   ],
   "source": [
    "stk = xgb.XGBClassifier().fit(x_train, y_train)\n",
    "y_predict=stk.predict(x_test)\n",
    "y_true=y_test\n",
    "stk_score=accuracy_score(y_true,y_predict)\n",
    "print('Accuracy of Stacking: '+ str(stk_score))\n",
    "precision,recall,fscore,none= precision_recall_fscore_support(y_true, y_predict, average='weighted') \n",
    "print('Precision of Stacking: '+(str(precision)))\n",
    "print('Recall of Stacking: '+(str(recall)))\n",
    "print('F1-score of Stacking: '+(str(fscore)))\n",
    "print(classification_report(y_true,y_predict))\n",
    "cm=confusion_matrix(y_true,y_predict)\n",
    "f,ax=plt.subplots(figsize=(5,5))\n",
    "sns.heatmap(cm,annot=True,linewidth=0.5,linecolor=\"red\",fmt=\".0f\",ax=ax)\n",
    "plt.xlabel(\"y_pred\")\n",
    "plt.ylabel(\"y_true\")\n",
    "plt.show()"
   ]
  },
  {
   "cell_type": "markdown",
   "metadata": {},
   "source": [
    "#### Hyperparameter optimization (HPO) of the stacking ensemble model (XGBoost) using Bayesian optimization with tree-based Parzen estimator (BO-TPE)\n",
    "Based on the GitHub repo for HPO: https://github.com/LiYangHart/Hyperparameter-Optimization-of-Machine-Learning-Algorithms"
   ]
  },
  {
   "cell_type": "code",
   "execution_count": 77,
   "metadata": {},
   "outputs": [
    {
     "name": "stdout",
     "output_type": "stream",
     "text": [
      "100%|██████████| 20/20 [02:49<00:00,  8.47s/trial, best loss: -1.0]\n",
      "XGBoost: Hyperopt estimated optimum {'learning_rate': -0.8951266731566636, 'max_depth': 19.0, 'n_estimators': 50.0}\n"
     ]
    }
   ],
   "source": [
    "from hyperopt import hp, fmin, tpe, STATUS_OK, Trials\n",
    "from sklearn.model_selection import cross_val_score, StratifiedKFold\n",
    "def objective(params):\n",
    "    params = {\n",
    "        'n_estimators': int(params['n_estimators']), \n",
    "        'max_depth': int(params['max_depth']),\n",
    "        'learning_rate':  abs(float(params['learning_rate'])),\n",
    "\n",
    "    }\n",
    "    clf = xgb.XGBClassifier( **params)\n",
    "    clf.fit(x_train, y_train)\n",
    "    y_pred = clf.predict(x_test)\n",
    "    score = accuracy_score(y_test, y_pred)\n",
    "\n",
    "    return {'loss':-score, 'status': STATUS_OK }\n",
    "\n",
    "space = {\n",
    "    'n_estimators': hp.quniform('n_estimators', 10, 100, 5),\n",
    "    'max_depth': hp.quniform('max_depth', 4, 100, 1),\n",
    "    'learning_rate': hp.normal('learning_rate', 0.01, 0.9),\n",
    "}\n",
    "\n",
    "best = fmin(fn=objective,\n",
    "            space=space,\n",
    "            algo=tpe.suggest,\n",
    "            max_evals=20)\n",
    "print(\"XGBoost: Hyperopt estimated optimum {}\".format(best))"
   ]
  },
  {
   "cell_type": "code",
   "execution_count": 78,
   "metadata": {},
   "outputs": [
    {
     "name": "stdout",
     "output_type": "stream",
     "text": [
      "Accuracy of XGBoost: 1.0\n",
      "Precision of XGBoost: 1.0\n",
      "Recall of XGBoost: 1.0\n",
      "F1-score of XGBoost: 1.0\n",
      "              precision    recall  f1-score   support\n",
      "\n",
      "           0       1.00      1.00      1.00     57735\n",
      "           1       1.00      1.00      1.00    109762\n",
      "           2       1.00      1.00      1.00       346\n",
      "\n",
      "    accuracy                           1.00    167843\n",
      "   macro avg       1.00      1.00      1.00    167843\n",
      "weighted avg       1.00      1.00      1.00    167843\n",
      "\n"
     ]
    },
    {
     "data": {
      "image/png": "[encoded data removed]",
      "text/plain": [
       "<Figure size 500x500 with 2 Axes>"
      ]
     },
     "metadata": {},
     "output_type": "display_data"
    }
   ],
   "source": [
    "xg = xgb.XGBClassifier(learning_rate= 0.8951266731566636, n_estimators = 50, max_depth = 19)\n",
    "xg.fit(x_train,y_train)\n",
    "xg_score=xg.score(x_test,y_test)\n",
    "y_predict=xg.predict(x_test)\n",
    "y_true=y_test\n",
    "print('Accuracy of XGBoost: '+ str(xg_score))\n",
    "precision,recall,fscore,none= precision_recall_fscore_support(y_true, y_predict, average='weighted') \n",
    "print('Precision of XGBoost: '+(str(precision)))\n",
    "print('Recall of XGBoost: '+(str(recall)))\n",
    "print('F1-score of XGBoost: '+(str(fscore)))\n",
    "print(classification_report(y_true,y_predict))\n",
    "cm=confusion_matrix(y_true,y_predict)\n",
    "f,ax=plt.subplots(figsize=(5,5))\n",
    "sns.heatmap(cm,annot=True,linewidth=0.5,linecolor=\"red\",fmt=\".0f\",ax=ax)\n",
    "plt.xlabel(\"y_pred\")\n",
    "plt.ylabel(\"y_true\")\n",
    "plt.show()"
   ]
  },
  {
   "cell_type": "markdown",
   "metadata": {},
   "source": [
    "## Anomaly-based IDS"
   ]
  },
  {
   "cell_type": "markdown",
   "metadata": {},
   "source": [
    "### Generate the BOT datasets for unknown attack detection"
   ]
  },
  {
   "cell_type": "code",
   "execution_count": 79,
   "metadata": {},
   "outputs": [],
   "source": [
    "df=pd.read_csv('./20180221/02-21-2018_km.csv')"
   ]
  },
  {
   "cell_type": "code",
   "execution_count": 80,
   "metadata": {},
   "outputs": [
    {
     "data": {
      "text/plain": [
       "Label\n",
       "1    548806\n",
       "0    288675\n",
       "2      1730\n",
       "Name: count, dtype: int64"
      ]
     },
     "execution_count": 80,
     "metadata": {},
     "output_type": "execute_result"
    }
   ],
   "source": [
    "df.Label.value_counts()"
   ]
  },
  {
   "cell_type": "code",
   "execution_count": 81,
   "metadata": {},
   "outputs": [],
   "source": [
    "df1 = df[df['Label'] != 2]\n",
    "df1['Label'][df1['Label'] > 0] = 1\n",
    "df1.to_csv('./20180221/02-21-2018_km_without_LOIC.csv',index=0)"
   ]
  },
  {
   "cell_type": "code",
   "execution_count": 82,
   "metadata": {},
   "outputs": [],
   "source": [
    "df2 = df[df['Label'] == 2]\n",
    "df2['Label'][df2['Label'] == 2] = 1\n",
    "df2.to_csv('./20180221/02-21-2018_km_LOIC.csv',index=0)"
   ]
  },
  {
   "cell_type": "markdown",
   "metadata": {},
   "source": [
    "### Read the generated datasets for unknown attack detection"
   ]
  },
  {
   "cell_type": "code",
   "execution_count": 103,
   "metadata": {},
   "outputs": [],
   "source": [
    "df1 = pd.read_csv('./20180221/02-21-2018_km_without_LOIC.csv')"
   ]
  },
  {
   "cell_type": "code",
   "execution_count": 104,
   "metadata": {},
   "outputs": [],
   "source": [
    "df2 = pd.read_csv('./20180221/02-21-2018_km_LOIC.csv')"
   ]
  },
  {
   "cell_type": "code",
   "execution_count": 105,
   "metadata": {},
   "outputs": [],
   "source": [
    "features = df1.drop(['Label'],axis=1).dtypes[df1.dtypes != 'object'].index\n",
    "df1[features] = df1[features].apply(\n",
    "    lambda x: (x - x.mean()) / (x.std()))\n",
    "df2[features] = df2[features].apply(\n",
    "    lambda x: (x - x.mean()) / (x.std()))\n",
    "df1 = df1.fillna(0)\n",
    "df2 = df2.fillna(0)"
   ]
  },
  {
   "cell_type": "code",
   "execution_count": 106,
   "metadata": {},
   "outputs": [
    {
     "data": {
      "text/plain": [
       "Label\n",
       "1    548806\n",
       "0    288675\n",
       "Name: count, dtype: int64"
      ]
     },
     "execution_count": 106,
     "metadata": {},
     "output_type": "execute_result"
    }
   ],
   "source": [
    "df1.Label.value_counts()"
   ]
  },
  {
   "cell_type": "code",
   "execution_count": 107,
   "metadata": {},
   "outputs": [
    {
     "data": {
      "text/plain": [
       "Label\n",
       "1    1730\n",
       "Name: count, dtype: int64"
      ]
     },
     "execution_count": 107,
     "metadata": {},
     "output_type": "execute_result"
    }
   ],
   "source": [
    "df2.Label.value_counts()"
   ]
  },
  {
   "cell_type": "code",
   "execution_count": 108,
   "metadata": {},
   "outputs": [],
   "source": [
    "df2p=df1[df1['Label']==0]\n",
    "df2pp=df2p.sample(n=None, frac=1730/288675, replace=False, weights=None, random_state=None, axis=0)\n",
    "df2=pd.concat([df2, df2pp])"
   ]
  },
  {
   "cell_type": "code",
   "execution_count": 109,
   "metadata": {},
   "outputs": [
    {
     "data": {
      "text/plain": [
       "Label\n",
       "1    1730\n",
       "0    1730\n",
       "Name: count, dtype: int64"
      ]
     },
     "execution_count": 109,
     "metadata": {},
     "output_type": "execute_result"
    }
   ],
   "source": [
    "df2.Label.value_counts()"
   ]
  },
  {
   "cell_type": "code",
   "execution_count": 110,
   "metadata": {},
   "outputs": [],
   "source": [
    "df = pd.concat([df1, df2], ignore_index=True)"
   ]
  },
  {
   "cell_type": "code",
   "execution_count": 111,
   "metadata": {},
   "outputs": [
    {
     "data": {
      "text/plain": [
       "(840941, 79)"
      ]
     },
     "execution_count": 111,
     "metadata": {},
     "output_type": "execute_result"
    }
   ],
   "source": [
    "df.shape"
   ]
  },
  {
   "cell_type": "code",
   "execution_count": 112,
   "metadata": {},
   "outputs": [
    {
     "data": {
      "text/plain": [
       "(840941, 1)"
      ]
     },
     "execution_count": 112,
     "metadata": {},
     "output_type": "execute_result"
    }
   ],
   "source": [
    "X = df.drop(['Label'],axis=1) .values\n",
    "y = df.iloc[:, -1].values.reshape(-1,1)\n",
    "y.shape\n"
   ]
  },
  {
   "cell_type": "code",
   "execution_count": 113,
   "metadata": {},
   "outputs": [
    {
     "data": {
      "text/plain": [
       "(840941,)"
      ]
     },
     "execution_count": 113,
     "metadata": {},
     "output_type": "execute_result"
    }
   ],
   "source": [
    "y=np.ravel(y)\n",
    "y.shape"
   ]
  },
  {
   "cell_type": "code",
   "execution_count": 114,
   "metadata": {},
   "outputs": [
    {
     "data": {
      "text/plain": [
       "1    550536\n",
       "0    290405\n",
       "Name: count, dtype: int64"
      ]
     },
     "execution_count": 114,
     "metadata": {},
     "output_type": "execute_result"
    }
   ],
   "source": [
    "pd.Series(y).value_counts()"
   ]
  },
  {
   "cell_type": "code",
   "execution_count": 115,
   "metadata": {},
   "outputs": [
    {
     "data": {
      "text/plain": [
       "(840941,)"
      ]
     },
     "execution_count": 115,
     "metadata": {},
     "output_type": "execute_result"
    }
   ],
   "source": [
    "y.shape"
   ]
  },
  {
   "cell_type": "markdown",
   "metadata": {},
   "source": [
    "### Feature engineering (IG, FCBF, and KPCA)"
   ]
  },
  {
   "cell_type": "markdown",
   "metadata": {},
   "source": [
    "#### Feature selection by information gain (IG)"
   ]
  },
  {
   "cell_type": "code",
   "execution_count": 116,
   "metadata": {},
   "outputs": [],
   "source": [
    "from sklearn.feature_selection import mutual_info_classif\n",
    "importances = mutual_info_classif(X, y)"
   ]
  },
  {
   "cell_type": "code",
   "execution_count": 117,
   "metadata": {},
   "outputs": [],
   "source": [
    "# calculate the sum of importance scores\n",
    "f_list = sorted(zip(map(lambda x: round(x, 4), importances), features), reverse=True)\n",
    "Sum = 0\n",
    "fs = []\n",
    "for i in range(0, len(f_list)):\n",
    "    Sum = Sum + f_list[i][0]\n",
    "    fs.append(f_list[i][1])"
   ]
  },
  {
   "cell_type": "code",
   "execution_count": 118,
   "metadata": {},
   "outputs": [],
   "source": [
    "# select the important features from top to bottom until the accumulated importance reaches 90%\n",
    "f_list2 = sorted(zip(map(lambda x: round(x, 4), importances/Sum), features), reverse=True)\n",
    "Sum2 = 0\n",
    "fs = []\n",
    "for i in range(0, len(f_list2)):\n",
    "    Sum2 = Sum2 + f_list2[i][0]\n",
    "    fs.append(f_list2[i][1])\n",
    "    if Sum2>=0.9:\n",
    "        break        "
   ]
  },
  {
   "cell_type": "code",
   "execution_count": 119,
   "metadata": {},
   "outputs": [],
   "source": [
    "X_fs = df[fs].values"
   ]
  },
  {
   "cell_type": "code",
   "execution_count": 120,
   "metadata": {},
   "outputs": [
    {
     "data": {
      "text/plain": [
       "(840941, 41)"
      ]
     },
     "execution_count": 120,
     "metadata": {},
     "output_type": "execute_result"
    }
   ],
   "source": [
    "X_fs.shape"
   ]
  },
  {
   "cell_type": "code",
   "execution_count": 121,
   "metadata": {},
   "outputs": [
    {
     "data": {
      "text/plain": [
       "(840941,)"
      ]
     },
     "execution_count": 121,
     "metadata": {},
     "output_type": "execute_result"
    }
   ],
   "source": [
    "y.shape"
   ]
  },
  {
   "cell_type": "code",
   "execution_count": 122,
   "metadata": {},
   "outputs": [
    {
     "data": {
      "text/plain": [
       "array([[-0.84367504, -0.84367504, -0.8665935 , ..., -0.99541684,\n",
       "        -0.99599714, -0.01078387],\n",
       "       [-0.84367504, -0.84367504, -0.8665935 , ..., -0.99541684,\n",
       "        -0.99599714, -0.01083586],\n",
       "       [-0.84367504, -0.84367504, -0.8665935 , ..., -0.99541684,\n",
       "        -0.99599714, -0.01093982],\n",
       "       ...,\n",
       "       [ 1.26207455,  1.26207455,  1.33177599, ...,  1.04958841,\n",
       "         1.05032626, -0.02666698],\n",
       "       [ 1.26207455,  1.26207455,  1.33177599, ...,  1.01091219,\n",
       "         1.01162511, -0.02667098],\n",
       "       [ 1.26207455,  1.26207455,  1.33177599, ...,  0.97384747,\n",
       "         0.97453651, -0.02666698]])"
      ]
     },
     "execution_count": 122,
     "metadata": {},
     "output_type": "execute_result"
    }
   ],
   "source": [
    "X_fs"
   ]
  },
  {
   "cell_type": "markdown",
   "metadata": {},
   "source": [
    "#### Feature selection by Fast Correlation Based Filter (FCBF)\n",
    "\n",
    "The module is imported from the GitHub repo: https://github.com/SantiagoEG/FCBF_module"
   ]
  },
  {
   "cell_type": "code",
   "execution_count": 123,
   "metadata": {},
   "outputs": [],
   "source": [
    "from FCBF_module import FCBF, FCBFK, FCBFiP, get_i\n",
    "fcbf = FCBFK(k = 20)\n",
    "#fcbf.fit(X_fs, y)"
   ]
  },
  {
   "cell_type": "code",
   "execution_count": 124,
   "metadata": {},
   "outputs": [],
   "source": [
    "X_fss = fcbf.fit_transform(X_fs,y)"
   ]
  },
  {
   "cell_type": "code",
   "execution_count": 125,
   "metadata": {},
   "outputs": [
    {
     "data": {
      "text/plain": [
       "(840941, 20)"
      ]
     },
     "execution_count": 125,
     "metadata": {},
     "output_type": "execute_result"
    }
   ],
   "source": [
    "X_fss.shape"
   ]
  },
  {
   "cell_type": "code",
   "execution_count": 126,
   "metadata": {},
   "outputs": [
    {
     "data": {
      "text/plain": [
       "array([[-0.84812934, -0.88657002, -0.88657002, ..., -0.99832077,\n",
       "        -0.997825  , -0.71827084],\n",
       "       [-0.84812934, -0.88657002, -0.88657002, ..., -0.99832077,\n",
       "        -0.997825  , -0.71827084],\n",
       "       [-0.84812934, -0.88657002, -0.88657002, ..., -0.99832077,\n",
       "        -0.997825  , -0.71827084],\n",
       "       ...,\n",
       "       [ 0.35822961,  0.46500593,  0.46500593, ...,  1.00168085,\n",
       "         1.00217854,  1.29807679],\n",
       "       [ 0.35822961,  0.46500593,  0.46500593, ...,  1.00168085,\n",
       "         1.00217854,  1.46770773],\n",
       "       [ 0.35822961,  0.46500593,  0.46500593, ...,  1.00168085,\n",
       "         1.00217854,  1.16259258]])"
      ]
     },
     "execution_count": 126,
     "metadata": {},
     "output_type": "execute_result"
    }
   ],
   "source": [
    "X_fss"
   ]
  },
  {
   "cell_type": "markdown",
   "metadata": {},
   "source": [
    "####  kernel principal component analysis (KPCA)"
   ]
  },
  {
   "cell_type": "code",
   "execution_count": 127,
   "metadata": {},
   "outputs": [
    {
     "ename": "MemoryError",
     "evalue": "Unable to allocate 5.15 TiB for an array with shape (840941, 840941) and data type float64",
     "output_type": "error",
     "traceback": [
      "\u001b[1;31m---------------------------------------------------------------------------\u001b[0m",
      "\u001b[1;31mMemoryError\u001b[0m                               Traceback (most recent call last)",
      "Cell \u001b[1;32mIn[127], line 3\u001b[0m\n\u001b[0;32m      1\u001b[0m \u001b[38;5;28;01mfrom\u001b[39;00m \u001b[38;5;21;01msklearn\u001b[39;00m\u001b[38;5;21;01m.\u001b[39;00m\u001b[38;5;21;01mdecomposition\u001b[39;00m \u001b[38;5;28;01mimport\u001b[39;00m KernelPCA\n\u001b[0;32m      2\u001b[0m kpca \u001b[38;5;241m=\u001b[39m KernelPCA(n_components \u001b[38;5;241m=\u001b[39m \u001b[38;5;241m10\u001b[39m, kernel \u001b[38;5;241m=\u001b[39m \u001b[38;5;124m'\u001b[39m\u001b[38;5;124mrbf\u001b[39m\u001b[38;5;124m'\u001b[39m)\n\u001b[1;32m----> 3\u001b[0m \u001b[43mkpca\u001b[49m\u001b[38;5;241;43m.\u001b[39;49m\u001b[43mfit\u001b[49m\u001b[43m(\u001b[49m\u001b[43mX_fss\u001b[49m\u001b[43m,\u001b[49m\u001b[43m \u001b[49m\u001b[43my\u001b[49m\u001b[43m)\u001b[49m\n\u001b[0;32m      4\u001b[0m X_kpca \u001b[38;5;241m=\u001b[39m kpca\u001b[38;5;241m.\u001b[39mtransform(X_fss)\n\u001b[0;32m      6\u001b[0m \u001b[38;5;66;03m# from sklearn.decomposition import PCA\u001b[39;00m\n\u001b[0;32m      7\u001b[0m \u001b[38;5;66;03m# kpca = PCA(n_components = 10)\u001b[39;00m\n\u001b[0;32m      8\u001b[0m \u001b[38;5;66;03m# kpca.fit(X_fss, y)\u001b[39;00m\n\u001b[0;32m      9\u001b[0m \u001b[38;5;66;03m# X_kpca = kpca.transform(X_fss)\u001b[39;00m\n",
      "File \u001b[1;32mc:\\Users\\Admin\\anaconda3\\Lib\\site-packages\\sklearn\\base.py:1474\u001b[0m, in \u001b[0;36m_fit_context.<locals>.decorator.<locals>.wrapper\u001b[1;34m(estimator, *args, **kwargs)\u001b[0m\n\u001b[0;32m   1467\u001b[0m     estimator\u001b[38;5;241m.\u001b[39m_validate_params()\n\u001b[0;32m   1469\u001b[0m \u001b[38;5;28;01mwith\u001b[39;00m config_context(\n\u001b[0;32m   1470\u001b[0m     skip_parameter_validation\u001b[38;5;241m=\u001b[39m(\n\u001b[0;32m   1471\u001b[0m         prefer_skip_nested_validation \u001b[38;5;129;01mor\u001b[39;00m global_skip_validation\n\u001b[0;32m   1472\u001b[0m     )\n\u001b[0;32m   1473\u001b[0m ):\n\u001b[1;32m-> 1474\u001b[0m     \u001b[38;5;28;01mreturn\u001b[39;00m \u001b[43mfit_method\u001b[49m\u001b[43m(\u001b[49m\u001b[43mestimator\u001b[49m\u001b[43m,\u001b[49m\u001b[43m \u001b[49m\u001b[38;5;241;43m*\u001b[39;49m\u001b[43margs\u001b[49m\u001b[43m,\u001b[49m\u001b[43m \u001b[49m\u001b[38;5;241;43m*\u001b[39;49m\u001b[38;5;241;43m*\u001b[39;49m\u001b[43mkwargs\u001b[49m\u001b[43m)\u001b[49m\n",
      "File \u001b[1;32mc:\\Users\\Admin\\anaconda3\\Lib\\site-packages\\sklearn\\decomposition\\_kernel_pca.py:439\u001b[0m, in \u001b[0;36mKernelPCA.fit\u001b[1;34m(self, X, y)\u001b[0m\n\u001b[0;32m    437\u001b[0m \u001b[38;5;28mself\u001b[39m\u001b[38;5;241m.\u001b[39mgamma_ \u001b[38;5;241m=\u001b[39m \u001b[38;5;241m1\u001b[39m \u001b[38;5;241m/\u001b[39m X\u001b[38;5;241m.\u001b[39mshape[\u001b[38;5;241m1\u001b[39m] \u001b[38;5;28;01mif\u001b[39;00m \u001b[38;5;28mself\u001b[39m\u001b[38;5;241m.\u001b[39mgamma \u001b[38;5;129;01mis\u001b[39;00m \u001b[38;5;28;01mNone\u001b[39;00m \u001b[38;5;28;01melse\u001b[39;00m \u001b[38;5;28mself\u001b[39m\u001b[38;5;241m.\u001b[39mgamma\n\u001b[0;32m    438\u001b[0m \u001b[38;5;28mself\u001b[39m\u001b[38;5;241m.\u001b[39m_centerer \u001b[38;5;241m=\u001b[39m KernelCenterer()\u001b[38;5;241m.\u001b[39mset_output(transform\u001b[38;5;241m=\u001b[39m\u001b[38;5;124m\"\u001b[39m\u001b[38;5;124mdefault\u001b[39m\u001b[38;5;124m\"\u001b[39m)\n\u001b[1;32m--> 439\u001b[0m K \u001b[38;5;241m=\u001b[39m \u001b[38;5;28;43mself\u001b[39;49m\u001b[38;5;241;43m.\u001b[39;49m\u001b[43m_get_kernel\u001b[49m\u001b[43m(\u001b[49m\u001b[43mX\u001b[49m\u001b[43m)\u001b[49m\n\u001b[0;32m    440\u001b[0m \u001b[38;5;28mself\u001b[39m\u001b[38;5;241m.\u001b[39m_fit_transform(K)\n\u001b[0;32m    442\u001b[0m \u001b[38;5;28;01mif\u001b[39;00m \u001b[38;5;28mself\u001b[39m\u001b[38;5;241m.\u001b[39mfit_inverse_transform:\n\u001b[0;32m    443\u001b[0m     \u001b[38;5;66;03m# no need to use the kernel to transform X, use shortcut expression\u001b[39;00m\n",
      "File \u001b[1;32mc:\\Users\\Admin\\anaconda3\\Lib\\site-packages\\sklearn\\decomposition\\_kernel_pca.py:320\u001b[0m, in \u001b[0;36mKernelPCA._get_kernel\u001b[1;34m(self, X, Y)\u001b[0m\n\u001b[0;32m    318\u001b[0m \u001b[38;5;28;01melse\u001b[39;00m:\n\u001b[0;32m    319\u001b[0m     params \u001b[38;5;241m=\u001b[39m {\u001b[38;5;124m\"\u001b[39m\u001b[38;5;124mgamma\u001b[39m\u001b[38;5;124m\"\u001b[39m: \u001b[38;5;28mself\u001b[39m\u001b[38;5;241m.\u001b[39mgamma_, \u001b[38;5;124m\"\u001b[39m\u001b[38;5;124mdegree\u001b[39m\u001b[38;5;124m\"\u001b[39m: \u001b[38;5;28mself\u001b[39m\u001b[38;5;241m.\u001b[39mdegree, \u001b[38;5;124m\"\u001b[39m\u001b[38;5;124mcoef0\u001b[39m\u001b[38;5;124m\"\u001b[39m: \u001b[38;5;28mself\u001b[39m\u001b[38;5;241m.\u001b[39mcoef0}\n\u001b[1;32m--> 320\u001b[0m \u001b[38;5;28;01mreturn\u001b[39;00m \u001b[43mpairwise_kernels\u001b[49m\u001b[43m(\u001b[49m\n\u001b[0;32m    321\u001b[0m \u001b[43m    \u001b[49m\u001b[43mX\u001b[49m\u001b[43m,\u001b[49m\u001b[43m \u001b[49m\u001b[43mY\u001b[49m\u001b[43m,\u001b[49m\u001b[43m \u001b[49m\u001b[43mmetric\u001b[49m\u001b[38;5;241;43m=\u001b[39;49m\u001b[38;5;28;43mself\u001b[39;49m\u001b[38;5;241;43m.\u001b[39;49m\u001b[43mkernel\u001b[49m\u001b[43m,\u001b[49m\u001b[43m \u001b[49m\u001b[43mfilter_params\u001b[49m\u001b[38;5;241;43m=\u001b[39;49m\u001b[38;5;28;43;01mTrue\u001b[39;49;00m\u001b[43m,\u001b[49m\u001b[43m \u001b[49m\u001b[43mn_jobs\u001b[49m\u001b[38;5;241;43m=\u001b[39;49m\u001b[38;5;28;43mself\u001b[39;49m\u001b[38;5;241;43m.\u001b[39;49m\u001b[43mn_jobs\u001b[49m\u001b[43m,\u001b[49m\u001b[43m \u001b[49m\u001b[38;5;241;43m*\u001b[39;49m\u001b[38;5;241;43m*\u001b[39;49m\u001b[43mparams\u001b[49m\n\u001b[0;32m    322\u001b[0m \u001b[43m\u001b[49m\u001b[43m)\u001b[49m\n",
      "File \u001b[1;32mc:\\Users\\Admin\\anaconda3\\Lib\\site-packages\\sklearn\\utils\\_param_validation.py:186\u001b[0m, in \u001b[0;36mvalidate_params.<locals>.decorator.<locals>.wrapper\u001b[1;34m(*args, **kwargs)\u001b[0m\n\u001b[0;32m    184\u001b[0m global_skip_validation \u001b[38;5;241m=\u001b[39m get_config()[\u001b[38;5;124m\"\u001b[39m\u001b[38;5;124mskip_parameter_validation\u001b[39m\u001b[38;5;124m\"\u001b[39m]\n\u001b[0;32m    185\u001b[0m \u001b[38;5;28;01mif\u001b[39;00m global_skip_validation:\n\u001b[1;32m--> 186\u001b[0m     \u001b[38;5;28;01mreturn\u001b[39;00m \u001b[43mfunc\u001b[49m\u001b[43m(\u001b[49m\u001b[38;5;241;43m*\u001b[39;49m\u001b[43margs\u001b[49m\u001b[43m,\u001b[49m\u001b[43m \u001b[49m\u001b[38;5;241;43m*\u001b[39;49m\u001b[38;5;241;43m*\u001b[39;49m\u001b[43mkwargs\u001b[49m\u001b[43m)\u001b[49m\n\u001b[0;32m    188\u001b[0m func_sig \u001b[38;5;241m=\u001b[39m signature(func)\n\u001b[0;32m    190\u001b[0m \u001b[38;5;66;03m# Map *args/**kwargs to the function signature\u001b[39;00m\n",
      "File \u001b[1;32mc:\\Users\\Admin\\anaconda3\\Lib\\site-packages\\sklearn\\metrics\\pairwise.py:2522\u001b[0m, in \u001b[0;36mpairwise_kernels\u001b[1;34m(X, Y, metric, filter_params, n_jobs, **kwds)\u001b[0m\n\u001b[0;32m   2519\u001b[0m \u001b[38;5;28;01melif\u001b[39;00m \u001b[38;5;28mcallable\u001b[39m(metric):\n\u001b[0;32m   2520\u001b[0m     func \u001b[38;5;241m=\u001b[39m partial(_pairwise_callable, metric\u001b[38;5;241m=\u001b[39mmetric, \u001b[38;5;241m*\u001b[39m\u001b[38;5;241m*\u001b[39mkwds)\n\u001b[1;32m-> 2522\u001b[0m \u001b[38;5;28;01mreturn\u001b[39;00m \u001b[43m_parallel_pairwise\u001b[49m\u001b[43m(\u001b[49m\u001b[43mX\u001b[49m\u001b[43m,\u001b[49m\u001b[43m \u001b[49m\u001b[43mY\u001b[49m\u001b[43m,\u001b[49m\u001b[43m \u001b[49m\u001b[43mfunc\u001b[49m\u001b[43m,\u001b[49m\u001b[43m \u001b[49m\u001b[43mn_jobs\u001b[49m\u001b[43m,\u001b[49m\u001b[43m \u001b[49m\u001b[38;5;241;43m*\u001b[39;49m\u001b[38;5;241;43m*\u001b[39;49m\u001b[43mkwds\u001b[49m\u001b[43m)\u001b[49m\n",
      "File \u001b[1;32mc:\\Users\\Admin\\anaconda3\\Lib\\site-packages\\sklearn\\metrics\\pairwise.py:1871\u001b[0m, in \u001b[0;36m_parallel_pairwise\u001b[1;34m(X, Y, func, n_jobs, **kwds)\u001b[0m\n\u001b[0;32m   1868\u001b[0m X, Y, dtype \u001b[38;5;241m=\u001b[39m _return_float_dtype(X, Y)\n\u001b[0;32m   1870\u001b[0m \u001b[38;5;28;01mif\u001b[39;00m effective_n_jobs(n_jobs) \u001b[38;5;241m==\u001b[39m \u001b[38;5;241m1\u001b[39m:\n\u001b[1;32m-> 1871\u001b[0m     \u001b[38;5;28;01mreturn\u001b[39;00m \u001b[43mfunc\u001b[49m\u001b[43m(\u001b[49m\u001b[43mX\u001b[49m\u001b[43m,\u001b[49m\u001b[43m \u001b[49m\u001b[43mY\u001b[49m\u001b[43m,\u001b[49m\u001b[43m \u001b[49m\u001b[38;5;241;43m*\u001b[39;49m\u001b[38;5;241;43m*\u001b[39;49m\u001b[43mkwds\u001b[49m\u001b[43m)\u001b[49m\n\u001b[0;32m   1873\u001b[0m \u001b[38;5;66;03m# enforce a threading backend to prevent data communication overhead\u001b[39;00m\n\u001b[0;32m   1874\u001b[0m fd \u001b[38;5;241m=\u001b[39m delayed(_dist_wrapper)\n",
      "File \u001b[1;32mc:\\Users\\Admin\\anaconda3\\Lib\\site-packages\\sklearn\\utils\\_param_validation.py:186\u001b[0m, in \u001b[0;36mvalidate_params.<locals>.decorator.<locals>.wrapper\u001b[1;34m(*args, **kwargs)\u001b[0m\n\u001b[0;32m    184\u001b[0m global_skip_validation \u001b[38;5;241m=\u001b[39m get_config()[\u001b[38;5;124m\"\u001b[39m\u001b[38;5;124mskip_parameter_validation\u001b[39m\u001b[38;5;124m\"\u001b[39m]\n\u001b[0;32m    185\u001b[0m \u001b[38;5;28;01mif\u001b[39;00m global_skip_validation:\n\u001b[1;32m--> 186\u001b[0m     \u001b[38;5;28;01mreturn\u001b[39;00m \u001b[43mfunc\u001b[49m\u001b[43m(\u001b[49m\u001b[38;5;241;43m*\u001b[39;49m\u001b[43margs\u001b[49m\u001b[43m,\u001b[49m\u001b[43m \u001b[49m\u001b[38;5;241;43m*\u001b[39;49m\u001b[38;5;241;43m*\u001b[39;49m\u001b[43mkwargs\u001b[49m\u001b[43m)\u001b[49m\n\u001b[0;32m    188\u001b[0m func_sig \u001b[38;5;241m=\u001b[39m signature(func)\n\u001b[0;32m    190\u001b[0m \u001b[38;5;66;03m# Map *args/**kwargs to the function signature\u001b[39;00m\n",
      "File \u001b[1;32mc:\\Users\\Admin\\anaconda3\\Lib\\site-packages\\sklearn\\metrics\\pairwise.py:1540\u001b[0m, in \u001b[0;36mrbf_kernel\u001b[1;34m(X, Y, gamma)\u001b[0m\n\u001b[0;32m   1537\u001b[0m \u001b[38;5;28;01mif\u001b[39;00m gamma \u001b[38;5;129;01mis\u001b[39;00m \u001b[38;5;28;01mNone\u001b[39;00m:\n\u001b[0;32m   1538\u001b[0m     gamma \u001b[38;5;241m=\u001b[39m \u001b[38;5;241m1.0\u001b[39m \u001b[38;5;241m/\u001b[39m X\u001b[38;5;241m.\u001b[39mshape[\u001b[38;5;241m1\u001b[39m]\n\u001b[1;32m-> 1540\u001b[0m K \u001b[38;5;241m=\u001b[39m \u001b[43meuclidean_distances\u001b[49m\u001b[43m(\u001b[49m\u001b[43mX\u001b[49m\u001b[43m,\u001b[49m\u001b[43m \u001b[49m\u001b[43mY\u001b[49m\u001b[43m,\u001b[49m\u001b[43m \u001b[49m\u001b[43msquared\u001b[49m\u001b[38;5;241;43m=\u001b[39;49m\u001b[38;5;28;43;01mTrue\u001b[39;49;00m\u001b[43m)\u001b[49m\n\u001b[0;32m   1541\u001b[0m K \u001b[38;5;241m*\u001b[39m\u001b[38;5;241m=\u001b[39m \u001b[38;5;241m-\u001b[39mgamma\n\u001b[0;32m   1542\u001b[0m np\u001b[38;5;241m.\u001b[39mexp(K, K)  \u001b[38;5;66;03m# exponentiate K in-place\u001b[39;00m\n",
      "File \u001b[1;32mc:\\Users\\Admin\\anaconda3\\Lib\\site-packages\\sklearn\\utils\\_param_validation.py:186\u001b[0m, in \u001b[0;36mvalidate_params.<locals>.decorator.<locals>.wrapper\u001b[1;34m(*args, **kwargs)\u001b[0m\n\u001b[0;32m    184\u001b[0m global_skip_validation \u001b[38;5;241m=\u001b[39m get_config()[\u001b[38;5;124m\"\u001b[39m\u001b[38;5;124mskip_parameter_validation\u001b[39m\u001b[38;5;124m\"\u001b[39m]\n\u001b[0;32m    185\u001b[0m \u001b[38;5;28;01mif\u001b[39;00m global_skip_validation:\n\u001b[1;32m--> 186\u001b[0m     \u001b[38;5;28;01mreturn\u001b[39;00m \u001b[43mfunc\u001b[49m\u001b[43m(\u001b[49m\u001b[38;5;241;43m*\u001b[39;49m\u001b[43margs\u001b[49m\u001b[43m,\u001b[49m\u001b[43m \u001b[49m\u001b[38;5;241;43m*\u001b[39;49m\u001b[38;5;241;43m*\u001b[39;49m\u001b[43mkwargs\u001b[49m\u001b[43m)\u001b[49m\n\u001b[0;32m    188\u001b[0m func_sig \u001b[38;5;241m=\u001b[39m signature(func)\n\u001b[0;32m    190\u001b[0m \u001b[38;5;66;03m# Map *args/**kwargs to the function signature\u001b[39;00m\n",
      "File \u001b[1;32mc:\\Users\\Admin\\anaconda3\\Lib\\site-packages\\sklearn\\metrics\\pairwise.py:347\u001b[0m, in \u001b[0;36meuclidean_distances\u001b[1;34m(X, Y, Y_norm_squared, squared, X_norm_squared)\u001b[0m\n\u001b[0;32m    341\u001b[0m     \u001b[38;5;28;01mif\u001b[39;00m Y_norm_squared\u001b[38;5;241m.\u001b[39mshape \u001b[38;5;241m!=\u001b[39m (\u001b[38;5;241m1\u001b[39m, Y\u001b[38;5;241m.\u001b[39mshape[\u001b[38;5;241m0\u001b[39m]):\n\u001b[0;32m    342\u001b[0m         \u001b[38;5;28;01mraise\u001b[39;00m \u001b[38;5;167;01mValueError\u001b[39;00m(\n\u001b[0;32m    343\u001b[0m             \u001b[38;5;124mf\u001b[39m\u001b[38;5;124m\"\u001b[39m\u001b[38;5;124mIncompatible dimensions for Y of shape \u001b[39m\u001b[38;5;132;01m{\u001b[39;00mY\u001b[38;5;241m.\u001b[39mshape\u001b[38;5;132;01m}\u001b[39;00m\u001b[38;5;124m and \u001b[39m\u001b[38;5;124m\"\u001b[39m\n\u001b[0;32m    344\u001b[0m             \u001b[38;5;124mf\u001b[39m\u001b[38;5;124m\"\u001b[39m\u001b[38;5;124mY_norm_squared of shape \u001b[39m\u001b[38;5;132;01m{\u001b[39;00moriginal_shape\u001b[38;5;132;01m}\u001b[39;00m\u001b[38;5;124m.\u001b[39m\u001b[38;5;124m\"\u001b[39m\n\u001b[0;32m    345\u001b[0m         )\n\u001b[1;32m--> 347\u001b[0m \u001b[38;5;28;01mreturn\u001b[39;00m \u001b[43m_euclidean_distances\u001b[49m\u001b[43m(\u001b[49m\u001b[43mX\u001b[49m\u001b[43m,\u001b[49m\u001b[43m \u001b[49m\u001b[43mY\u001b[49m\u001b[43m,\u001b[49m\u001b[43m \u001b[49m\u001b[43mX_norm_squared\u001b[49m\u001b[43m,\u001b[49m\u001b[43m \u001b[49m\u001b[43mY_norm_squared\u001b[49m\u001b[43m,\u001b[49m\u001b[43m \u001b[49m\u001b[43msquared\u001b[49m\u001b[43m)\u001b[49m\n",
      "File \u001b[1;32mc:\\Users\\Admin\\anaconda3\\Lib\\site-packages\\sklearn\\metrics\\pairwise.py:382\u001b[0m, in \u001b[0;36m_euclidean_distances\u001b[1;34m(X, Y, X_norm_squared, Y_norm_squared, squared)\u001b[0m\n\u001b[0;32m    379\u001b[0m     distances \u001b[38;5;241m=\u001b[39m _euclidean_distances_upcast(X, XX, Y, YY)\n\u001b[0;32m    380\u001b[0m \u001b[38;5;28;01melse\u001b[39;00m:\n\u001b[0;32m    381\u001b[0m     \u001b[38;5;66;03m# if dtype is already float64, no need to chunk and upcast\u001b[39;00m\n\u001b[1;32m--> 382\u001b[0m     distances \u001b[38;5;241m=\u001b[39m \u001b[38;5;241m-\u001b[39m\u001b[38;5;241m2\u001b[39m \u001b[38;5;241m*\u001b[39m \u001b[43msafe_sparse_dot\u001b[49m\u001b[43m(\u001b[49m\u001b[43mX\u001b[49m\u001b[43m,\u001b[49m\u001b[43m \u001b[49m\u001b[43mY\u001b[49m\u001b[38;5;241;43m.\u001b[39;49m\u001b[43mT\u001b[49m\u001b[43m,\u001b[49m\u001b[43m \u001b[49m\u001b[43mdense_output\u001b[49m\u001b[38;5;241;43m=\u001b[39;49m\u001b[38;5;28;43;01mTrue\u001b[39;49;00m\u001b[43m)\u001b[49m\n\u001b[0;32m    383\u001b[0m     distances \u001b[38;5;241m+\u001b[39m\u001b[38;5;241m=\u001b[39m XX\n\u001b[0;32m    384\u001b[0m     distances \u001b[38;5;241m+\u001b[39m\u001b[38;5;241m=\u001b[39m YY\n",
      "File \u001b[1;32mc:\\Users\\Admin\\anaconda3\\Lib\\site-packages\\sklearn\\utils\\extmath.py:208\u001b[0m, in \u001b[0;36msafe_sparse_dot\u001b[1;34m(a, b, dense_output)\u001b[0m\n\u001b[0;32m    206\u001b[0m         ret \u001b[38;5;241m=\u001b[39m np\u001b[38;5;241m.\u001b[39mdot(a, b)\n\u001b[0;32m    207\u001b[0m \u001b[38;5;28;01melse\u001b[39;00m:\n\u001b[1;32m--> 208\u001b[0m     ret \u001b[38;5;241m=\u001b[39m \u001b[43ma\u001b[49m\u001b[43m \u001b[49m\u001b[38;5;241;43m@\u001b[39;49m\u001b[43m \u001b[49m\u001b[43mb\u001b[49m\n\u001b[0;32m    210\u001b[0m \u001b[38;5;28;01mif\u001b[39;00m (\n\u001b[0;32m    211\u001b[0m     sparse\u001b[38;5;241m.\u001b[39missparse(a)\n\u001b[0;32m    212\u001b[0m     \u001b[38;5;129;01mand\u001b[39;00m sparse\u001b[38;5;241m.\u001b[39missparse(b)\n\u001b[0;32m    213\u001b[0m     \u001b[38;5;129;01mand\u001b[39;00m dense_output\n\u001b[0;32m    214\u001b[0m     \u001b[38;5;129;01mand\u001b[39;00m \u001b[38;5;28mhasattr\u001b[39m(ret, \u001b[38;5;124m\"\u001b[39m\u001b[38;5;124mtoarray\u001b[39m\u001b[38;5;124m\"\u001b[39m)\n\u001b[0;32m    215\u001b[0m ):\n\u001b[0;32m    216\u001b[0m     \u001b[38;5;28;01mreturn\u001b[39;00m ret\u001b[38;5;241m.\u001b[39mtoarray()\n",
      "\u001b[1;31mMemoryError\u001b[0m: Unable to allocate 5.15 TiB for an array with shape (840941, 840941) and data type float64"
     ]
    }
   ],
   "source": [
    "from sklearn.decomposition import KernelPCA\n",
    "kpca = KernelPCA(n_components = 10, kernel = 'rbf')\n",
    "kpca.fit(X_fss, y)\n",
    "X_kpca = kpca.transform(X_fss)\n",
    "\n",
    "# from sklearn.decomposition import PCA\n",
    "# kpca = PCA(n_components = 10)\n",
    "# kpca.fit(X_fss, y)\n",
    "# X_kpca = kpca.transform(X_fss)"
   ]
  },
  {
   "cell_type": "markdown",
   "metadata": {},
   "source": [
    "### Train-test split after feature selection"
   ]
  },
  {
   "cell_type": "code",
   "execution_count": null,
   "metadata": {},
   "outputs": [],
   "source": [
    "X_train = X_kpca[:len(df1)]\n",
    "y_train = y[:len(df1)]\n",
    "X_test = X_kpca[len(df1):]\n",
    "y_test = y[len(df1):]"
   ]
  },
  {
   "cell_type": "markdown",
   "metadata": {},
   "source": [
    "### Solve class-imbalance by SMOTE"
   ]
  },
  {
   "cell_type": "code",
   "execution_count": null,
   "metadata": {},
   "outputs": [
    {
     "data": {
      "text/plain": [
       "0    3919\n",
       "1    3868\n",
       "Name: count, dtype: int64"
      ]
     },
     "execution_count": 98,
     "metadata": {},
     "output_type": "execute_result"
    }
   ],
   "source": [
    "pd.Series(y_train).value_counts()"
   ]
  },
  {
   "cell_type": "code",
   "execution_count": 99,
   "metadata": {},
   "outputs": [],
   "source": [
    "from imblearn.over_sampling import SMOTE\n",
    "smote=SMOTE(n_jobs=-1,sampling_strategy={1:3919})\n",
    "X_train, y_train = smote.fit_resample(X_train, y_train)"
   ]
  },
  {
   "cell_type": "code",
   "execution_count": 100,
   "metadata": {},
   "outputs": [
    {
     "data": {
      "text/plain": [
       "0    3919\n",
       "1    3919\n",
       "Name: count, dtype: int64"
      ]
     },
     "execution_count": 100,
     "metadata": {},
     "output_type": "execute_result"
    }
   ],
   "source": [
    "pd.Series(y_train).value_counts()"
   ]
  },
  {
   "cell_type": "code",
   "execution_count": 101,
   "metadata": {},
   "outputs": [
    {
     "data": {
      "text/plain": [
       "1    226\n",
       "0    226\n",
       "Name: count, dtype: int64"
      ]
     },
     "execution_count": 101,
     "metadata": {},
     "output_type": "execute_result"
    }
   ],
   "source": [
    "pd.Series(y_test).value_counts()"
   ]
  },
  {
   "cell_type": "markdown",
   "metadata": {},
   "source": [
    "### Apply the cluster labeling (CL) k-means method"
   ]
  },
  {
   "cell_type": "code",
   "execution_count": 102,
   "metadata": {},
   "outputs": [],
   "source": [
    "from sklearn.cluster import KMeans\n",
    "from sklearn.cluster import DBSCAN,MeanShift\n",
    "from sklearn.cluster import SpectralClustering,AgglomerativeClustering,AffinityPropagation,Birch,MiniBatchKMeans,MeanShift \n",
    "from sklearn.mixture import GaussianMixture, BayesianGaussianMixture\n",
    "from sklearn.metrics import classification_report\n",
    "from sklearn import metrics"
   ]
  },
  {
   "cell_type": "code",
   "execution_count": 103,
   "metadata": {},
   "outputs": [],
   "source": [
    "def CL_kmeans(X_train, X_test, y_train, y_test,n,b=100):\n",
    "    km_cluster = MiniBatchKMeans(n_clusters=n,batch_size=b)\n",
    "    result = km_cluster.fit_predict(X_train)\n",
    "    result2 = km_cluster.predict(X_test)\n",
    "\n",
    "    count=0\n",
    "    a=np.zeros(n)\n",
    "    b=np.zeros(n)\n",
    "    for v in range(0,n):\n",
    "        for i in range(0,len(y_train)):\n",
    "            if result[i]==v:\n",
    "                if y_train[i]==1:\n",
    "                    a[v]=a[v]+1\n",
    "                else:\n",
    "                    b[v]=b[v]+1\n",
    "    list1=[]\n",
    "    list2=[]\n",
    "    for v in range(0,n):\n",
    "        if a[v]<=b[v]:\n",
    "            list1.append(v)\n",
    "        else: \n",
    "            list2.append(v)\n",
    "    for v in range(0,len(y_test)):\n",
    "        if result2[v] in list1:\n",
    "            result2[v]=0\n",
    "        elif result2[v] in list2:\n",
    "            result2[v]=1\n",
    "        else:\n",
    "            print(\"-1\")\n",
    "    print(classification_report(y_test, result2))\n",
    "    cm=confusion_matrix(y_test,result2)\n",
    "    acc=metrics.accuracy_score(y_test,result2)\n",
    "    print(str(acc))\n",
    "    print(cm)"
   ]
  },
  {
   "cell_type": "code",
   "execution_count": 104,
   "metadata": {},
   "outputs": [
    {
     "name": "stdout",
     "output_type": "stream",
     "text": [
      "              precision    recall  f1-score   support\n",
      "\n",
      "           0       1.00      0.79      0.88       226\n",
      "           1       0.82      1.00      0.90       226\n",
      "\n",
      "    accuracy                           0.89       452\n",
      "   macro avg       0.91      0.89      0.89       452\n",
      "weighted avg       0.91      0.89      0.89       452\n",
      "\n",
      "0.8938053097345132\n",
      "[[178  48]\n",
      " [  0 226]]\n"
     ]
    }
   ],
   "source": [
    "CL_kmeans(X_train, X_test, y_train, y_test, 8)"
   ]
  },
  {
   "cell_type": "markdown",
   "metadata": {},
   "source": [
    "### Hyperparameter optimization of CL-k-means\n",
    "Tune \"k\""
   ]
  },
  {
   "cell_type": "code",
   "execution_count": 106,
   "metadata": {},
   "outputs": [
    {
     "name": "stdout",
     "output_type": "stream",
     "text": [
      "30 0.7057522123893806\n",
      "43 0.6946902654867256\n",
      "43 0.7101769911504425\n",
      "43 0.7013274336283186\n",
      "32 0.7146017699115044\n",
      "20 0.6969026548672567\n",
      "16 0.6504424778761062\n",
      "5 0.5730088495575221\n",
      "15 0.7212389380530974\n",
      "25 0.4778761061946903\n",
      "31 0.7079646017699115\n",
      "13 0.8473451327433629\n",
      "12 0.7057522123893806\n",
      "50 0.4823008849557522\n",
      "14 0.668141592920354\n",
      "33 0.7123893805309734\n",
      "38 0.4690265486725664\n",
      "44 0.48451327433628316\n",
      "42 0.7057522123893806\n",
      "34 0.6969026548672567\n",
      "30.04314661026001\n",
      "Best score=0.8473\n",
      "Best parameters: n_clusters=13\n"
     ]
    }
   ],
   "source": [
    "#Hyperparameter optimization by BO-GP\n",
    "from skopt.space import Real, Integer\n",
    "from skopt.utils import use_named_args\n",
    "from sklearn import metrics\n",
    "\n",
    "space  = [Integer(2, 50, name='n_clusters')]\n",
    "@use_named_args(space)\n",
    "def objective(**params):\n",
    "    km_cluster = MiniBatchKMeans(batch_size=100, **params)\n",
    "    n=params['n_clusters']\n",
    "    \n",
    "    result = km_cluster.fit_predict(X_train)\n",
    "    result2 = km_cluster.predict(X_test)\n",
    "\n",
    "    count=0\n",
    "    a=np.zeros(n)\n",
    "    b=np.zeros(n)\n",
    "    for v in range(0,n):\n",
    "        for i in range(0,len(y_train)):\n",
    "            if result[i]==v:\n",
    "                if y_train[i]==1:\n",
    "                    a[v]=a[v]+1\n",
    "                else:\n",
    "                    b[v]=b[v]+1\n",
    "    list1=[]\n",
    "    list2=[]\n",
    "    for v in range(0,n):\n",
    "        if a[v]<=b[v]:\n",
    "            list1.append(v)\n",
    "        else: \n",
    "            list2.append(v)\n",
    "    for v in range(0,len(y_test)):\n",
    "        if result2[v] in list1:\n",
    "            result2[v]=0\n",
    "        elif result2[v] in list2:\n",
    "            result2[v]=1\n",
    "        else:\n",
    "            print(\"-1\")\n",
    "    cm=metrics.accuracy_score(y_test,result2)\n",
    "    print(str(n)+\" \"+str(cm))\n",
    "    return (1-cm)\n",
    "from skopt import gp_minimize\n",
    "import time\n",
    "t1=time.time()\n",
    "res_gp = gp_minimize(objective, space, n_calls=20, random_state=0)\n",
    "t2=time.time()\n",
    "print(t2-t1)\n",
    "print(\"Best score=%.4f\" % (1-res_gp.fun))\n",
    "print(\"\"\"Best parameters: n_clusters=%d\"\"\" % (res_gp.x[0]))"
   ]
  },
  {
   "cell_type": "code",
   "execution_count": 107,
   "metadata": {},
   "outputs": [
    {
     "name": "stdout",
     "output_type": "stream",
     "text": [
      "11 0.668141592920354                                  \n",
      "4 0.5730088495575221                                                           \n",
      "37 0.4579646017699115                                                          \n",
      "22 0.6969026548672567                                                          \n",
      "36 0.7079646017699115                                                            \n",
      "22 0.7079646017699115                                                            \n",
      "25 0.4778761061946903                                                           \n",
      "36 0.7079646017699115                                                           \n",
      "43 0.9336283185840708                                                           \n",
      "32 0.9070796460176991                                                           \n",
      "38 0.6792035398230089                                                            \n",
      "28 0.7079646017699115                                                            \n",
      "5 0.668141592920354                                                              \n",
      "41 0.6747787610619469                                                            \n",
      "6 0.6526548672566371                                                             \n",
      "9 0.8075221238938053                                                             \n",
      "48 0.7168141592920354                                                            \n",
      "34 0.48008849557522126                                                           \n",
      "44 0.7101769911504425                                                            \n",
      "5 0.7676991150442478                                                             \n",
      "100%|██████████| 20/20 [00:06<00:00,  2.94trial/s, best loss: 0.0663716814159292]\n",
      "Random Forest: Hyperopt estimated optimum {'n_clusters': 43.0}\n"
     ]
    }
   ],
   "source": [
    "#Hyperparameter optimization by BO-TPE\n",
    "from hyperopt import hp, fmin, tpe, STATUS_OK, Trials\n",
    "from sklearn.model_selection import cross_val_score, StratifiedKFold\n",
    "from sklearn.cluster import MiniBatchKMeans\n",
    "from sklearn import metrics\n",
    "\n",
    "def objective(params):\n",
    "    params = {\n",
    "        'n_clusters': int(params['n_clusters']), \n",
    "    }\n",
    "    km_cluster = MiniBatchKMeans(batch_size=100, **params)\n",
    "    n=params['n_clusters']\n",
    "    \n",
    "    result = km_cluster.fit_predict(X_train)\n",
    "    result2 = km_cluster.predict(X_test)\n",
    "\n",
    "    count=0\n",
    "    a=np.zeros(n)\n",
    "    b=np.zeros(n)\n",
    "    for v in range(0,n):\n",
    "        for i in range(0,len(y_train)):\n",
    "            if result[i]==v:\n",
    "                if y_train[i]==1:\n",
    "                    a[v]=a[v]+1\n",
    "                else:\n",
    "                    b[v]=b[v]+1\n",
    "    list1=[]\n",
    "    list2=[]\n",
    "    for v in range(0,n):\n",
    "        if a[v]<=b[v]:\n",
    "            list1.append(v)\n",
    "        else: \n",
    "            list2.append(v)\n",
    "    for v in range(0,len(y_test)):\n",
    "        if result2[v] in list1:\n",
    "            result2[v]=0\n",
    "        elif result2[v] in list2:\n",
    "            result2[v]=1\n",
    "        else:\n",
    "            print(\"-1\")\n",
    "    score=metrics.accuracy_score(y_test,result2)\n",
    "    print(str(params['n_clusters'])+\" \"+str(score))\n",
    "    return {'loss':1-score, 'status': STATUS_OK }\n",
    "space = {\n",
    "    'n_clusters': hp.quniform('n_clusters', 2, 50, 1),\n",
    "}\n",
    "\n",
    "best = fmin(fn=objective,\n",
    "            space=space,\n",
    "            algo=tpe.suggest,\n",
    "            max_evals=20)\n",
    "print(\"Random Forest: Hyperopt estimated optimum {}\".format(best))"
   ]
  },
  {
   "cell_type": "code",
   "execution_count": 108,
   "metadata": {},
   "outputs": [
    {
     "name": "stdout",
     "output_type": "stream",
     "text": [
      "              precision    recall  f1-score   support\n",
      "\n",
      "           0       1.00      0.70      0.83       226\n",
      "           1       0.77      1.00      0.87       226\n",
      "\n",
      "    accuracy                           0.85       452\n",
      "   macro avg       0.89      0.85      0.85       452\n",
      "weighted avg       0.89      0.85      0.85       452\n",
      "\n",
      "0.8517699115044248\n",
      "[[159  67]\n",
      " [  0 226]]\n"
     ]
    }
   ],
   "source": [
    "CL_kmeans(X_train, X_test, y_train, y_test, 13)"
   ]
  },
  {
   "cell_type": "markdown",
   "metadata": {},
   "source": [
    "### Apply the CL-k-means model with biased classifiers"
   ]
  },
  {
   "cell_type": "code",
   "execution_count": 109,
   "metadata": {},
   "outputs": [],
   "source": [
    "# Only a sample code to show the logic. It needs to work on the entire dataset to generate sufficient training samples for biased classifiers\n",
    "def Anomaly_IDS(X_train, X_test, y_train, y_test,n,b=100):\n",
    "    # CL-kmeans\n",
    "    km_cluster = MiniBatchKMeans(n_clusters=n,batch_size=b)\n",
    "    result = km_cluster.fit_predict(X_train)\n",
    "    result2 = km_cluster.predict(X_test)\n",
    "\n",
    "    count=0\n",
    "    a=np.zeros(n)\n",
    "    b=np.zeros(n)\n",
    "    for v in range(0,n):\n",
    "        for i in range(0,len(y_train)):\n",
    "            if result[i]==v:\n",
    "                if y_train[i]==1:\n",
    "                    a[v]=a[v]+1\n",
    "                else:\n",
    "                    b[v]=b[v]+1\n",
    "    list1=[]\n",
    "    list2=[]\n",
    "    for v in range(0,n):\n",
    "        if a[v]<=b[v]:\n",
    "            list1.append(v)\n",
    "        else: \n",
    "            list2.append(v)\n",
    "    for v in range(0,len(y_test)):\n",
    "        if result2[v] in list1:\n",
    "            result2[v]=0\n",
    "        elif result2[v] in list2:\n",
    "            result2[v]=1\n",
    "        else:\n",
    "            print(\"-1\")\n",
    "    print(classification_report(y_test, result2))\n",
    "    cm=confusion_matrix(y_test,result2)\n",
    "    acc=metrics.accuracy_score(y2,result2)\n",
    "    print(str(acc))\n",
    "    print(cm)\n",
    "    \n",
    "    #Biased classifier construction\n",
    "    count=0\n",
    "    print(len(y))\n",
    "    a=np.zeros(n)\n",
    "    b=np.zeros(n)\n",
    "    FNL=[]\n",
    "    FPL=[]\n",
    "    for v in range(0,n):\n",
    "        al=[]\n",
    "        bl=[]\n",
    "        for i in range(0,len(y)):   \n",
    "            if result[i]==v:        \n",
    "                if y[i]==1:        #label 1\n",
    "                    a[v]=a[v]+1\n",
    "                    al.append(i)\n",
    "                else:             #label 0\n",
    "                    b[v]=b[v]+1\n",
    "                    bl.append(i)\n",
    "        if a[v]<=b[v]:\n",
    "            FNL.extend(al)\n",
    "        else:\n",
    "            FPL.extend(bl)\n",
    "        #print(str(v)+\"=\"+str(a[v]/(a[v]+b[v])))\n",
    "        \n",
    "    dffp=df.iloc[FPL, :]\n",
    "    dffn=df.iloc[FNL, :]\n",
    "    dfva0=df[df['Label']==0]\n",
    "    dfva1=df[df['Label']==1]\n",
    "    \n",
    "    dffpp=dfva1.sample(n=None, frac=len(FPL)/dfva1.shape[0], replace=False, weights=None, random_state=None, axis=0)\n",
    "    dffnp=dfva0.sample(n=None, frac=len(FNL)/dfva0.shape[0], replace=False, weights=None, random_state=None, axis=0)\n",
    "    \n",
    "    dffp_f=pd.concat([dffp, dffpp])\n",
    "    dffn_f=pd.concat([dffn, dffnp])\n",
    "    \n",
    "    Xp = dffp_f.drop(['Label'],axis=1)  \n",
    "    yp = dffp_f.iloc[:, -1].values.reshape(-1,1)\n",
    "    yp=np.ravel(yp)\n",
    "\n",
    "    Xn = dffn_f.drop(['Label'],axis=1)  \n",
    "    yn = dffn_f.iloc[:, -1].values.reshape(-1,1)\n",
    "    yn=np.ravel(yn)\n",
    "    \n",
    "    rfp = RandomForestClassifier(random_state = 0)\n",
    "    rfp.fit(Xp,yp)\n",
    "    rfn = RandomForestClassifier(random_state = 0)\n",
    "    rfn.fit(Xn,yn)\n",
    "\n",
    "    dffnn_f=pd.concat([dffn, dffnp])\n",
    "    \n",
    "    Xnn = dffn_f.drop(['Label'],axis=1)  \n",
    "    ynn = dffn_f.iloc[:, -1].values.reshape(-1,1)\n",
    "    ynn=np.ravel(ynn)\n",
    "\n",
    "    rfnn = RandomForestClassifier(random_state = 0)\n",
    "    rfnn.fit(Xnn,ynn)\n",
    "\n",
    "    X2p = df2.drop(['Label'],axis=1) \n",
    "    y2p = df2.iloc[:, -1].values.reshape(-1,1)\n",
    "    y2p=np.ravel(y2p)\n",
    "\n",
    "    result2 = km_cluster.predict(X2p)\n",
    "\n",
    "    count=0\n",
    "    a=np.zeros(n)\n",
    "    b=np.zeros(n)\n",
    "    for v in range(0,n):\n",
    "        for i in range(0,len(y)):\n",
    "            if result[i]==v:\n",
    "                if y[i]==1:\n",
    "                    a[v]=a[v]+1\n",
    "                else:\n",
    "                    b[v]=b[v]+1\n",
    "    list1=[]\n",
    "    list2=[]\n",
    "    l1=[]\n",
    "    l0=[]\n",
    "    for v in range(0,n):\n",
    "        if a[v]<=b[v]:\n",
    "            list1.append(v)\n",
    "        else: \n",
    "            list2.append(v)\n",
    "    for v in range(0,len(y2p)):\n",
    "        if result2[v] in list1:\n",
    "            result2[v]=0\n",
    "            l0.append(v)\n",
    "        elif result2[v] in list2:\n",
    "            result2[v]=1\n",
    "            l1.append(v)\n",
    "        else:\n",
    "            print(\"-1\")\n",
    "    print(classification_report(y2p, result2))\n",
    "    cm=confusion_matrix(y2p,result2)\n",
    "    print(cm)"
   ]
  },
  {
   "cell_type": "code",
   "execution_count": null,
   "metadata": {},
   "outputs": [],
   "source": []
  }
 ],
 "metadata": {
  "kernelspec": {
   "display_name": "base",
   "language": "python",
   "name": "python3"
  },
  "language_info": {
   "codemirror_mode": {
    "name": "ipython",
    "version": 3
   },
   "file_extension": ".py",
   "mimetype": "text/x-python",
   "name": "python",
   "nbconvert_exporter": "python",
   "pygments_lexer": "ipython3",
   "version": "3.12.4"
  }
 },
 "nbformat": 4,
 "nbformat_minor": 2
}
